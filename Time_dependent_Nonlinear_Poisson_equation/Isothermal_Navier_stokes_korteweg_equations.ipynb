{
 "cells": [
  {
   "cell_type": "markdown",
   "metadata": {},
   "source": [
    "# r-Refinement Method for the Isothermal Navier-Stokes-Korteweg Equations using Optimal Transport problem"
   ]
  },
  {
   "cell_type": "markdown",
   "metadata": {},
   "source": [
    "\n",
    "\n",
    "This section is devoted to the numerical simulation of the isothermal Navier-Stokes-Korteweg equations. Where the isogeometric analysis is used in a numerical approximation to ensure any regularity needed in the presence of higher-order operators. For numerical dissipation characteristics and stability, we integrate in time using ***generalized-$\\alpha$ method***. The r-refinement method is proposed to overcome a length scale problem.\n",
    "."
   ]
  },
  {
   "cell_type": "markdown",
   "metadata": {},
   "source": [
    "## 1. The Isothermal Navier-Stokes-Korteweg Equations"
   ]
  },
  {
   "cell_type": "markdown",
   "metadata": {},
   "source": [
    "  Let $\\Omega\\subset\\mathbb{R}^d$ be an open set with sufficiently smooth boundary, denoted by $\\Gamma$, where $d$ is the number of spatial dimensions."
   ]
  },
  {
   "cell_type": "markdown",
   "metadata": {},
   "source": [
    "Find the density $\\rho :\\overline{\\Omega}\\times(0,T)\\longmapsto(0,b)$ and the velocity $\\textbf{u} :\\overline{\\Omega}\\times(0,T)\\longmapsto\\mathbb{R}^3$ such that \n",
    "## $\t\\begin{align*}\n",
    "\t\t\\left\\lbrace\\begin{array}{lll}\n",
    "\t\t\t\\dfrac{\\partial \\rho}{\\partial t} + \\nabla \\cdot (\\rho\\textbf{u})  =  0 &\\text{ in } \\Omega\\times(0,T) ,~~~~~~~~(1)\\\\\n",
    "\t\t\t\\dfrac{\\partial( \\rho\\textbf{u})}{\\partial t} + \\nabla\\cdot\\big(\\rho\\textbf{u}\\otimes\\textbf{u} + p~\\textbf{I}\\big) - \\nabla \\cdot \\tau - \\nabla \\cdot \\varsigma = \\rho\\mathbf{f}  &\\text{ in } \\Omega\\times(0,T), ~~~~~~~~(2)\\\\\n",
    "\t\t\t\\textbf{u}~~~~~~ = 0 &\\text{ on } \\Gamma\\times(0,T),~~~~~~~~(3)\\\\\n",
    "            \\nabla\\rho\\cdot\\vec{n}  = 0 &\\text{ on } \\Gamma\\times(0,T),~~~~~~~~(4)\\\\\n",
    "            \\textbf{u}(x,0)  = \\textbf{u}_0(x) &\\text{ in } \\overline{\\Omega},~~~~~~~~~~~~~~~~~~~~~~(5)\\\\         \n",
    "            \\rho(x,0)  = \\rho_0(x) &\\text{ in } \\overline{\\Omega},~~~~~~~~~~~~~~~~~~~~~~(6)\\\\\n",
    "\t\t\\end{array}\\right.\n",
    "\t\\end{align*}$"
   ]
  },
  {
   "cell_type": "markdown",
   "metadata": {},
   "source": [
    "\n",
    "Where the notation is as follows. $\\textbf{u}_0 :\\overline{\\Omega}\\longmapsto\\mathbb{R}^3$ and $\\rho_0 :\\overline{\\Omega}\\longmapsto(0,b)$ are given initial velocity and density functions, respectively. $\\textbf{f}$ is the body force per unit mass and $\\tau$ is the viscous stress tensor. We consider Newtonian fluids, that is,\n",
    "\n",
    "$$\\tau = \\overline{\\mu}(\\nabla \\textbf{u} + \\nabla^T \\textbf{u}) + \\overline{\\lambda} \\nabla\\cdot \\textbf{u}~\\textbf{I}~~~~~~~~~~~~~~~~~~~~~(7)$$ \n",
    "\n",
    "$\\overline{\\mu}$ and $\\overline{\\lambda}$ are the viscosity coefficients and $\\textbf{I}$ is the identity tensor, $\\varsigma$ is the so-called Korteweg tensor, defined as \n",
    "\n",
    "$$\\varsigma = \\lambda(\\rho\\Delta \\rho + \\dfrac{1}{2} |\\nabla\\rho|^2)~\\textbf{I} - \\lambda \\nabla \\rho\\otimes \\nabla \\rho~~~~~~~~(8)$$ \n"
   ]
  },
  {
   "cell_type": "markdown",
   "metadata": {},
   "source": [
    "Finally, p is the thermodynamic pressure given by the known van der waals equation\n",
    "\n",
    "$$ p = Rb \\dfrac{\\rho\\theta}{b-\\rho} - a\\rho^2 ~~~~~~~~~~~~~~~~~~~~~~~~~~~~~~~~~~~~(9)$$"
   ]
  },
  {
   "cell_type": "markdown",
   "metadata": {},
   "source": [
    "The temperature in the equation (9) is assumed to be constant (isothermal model)."
   ]
  },
  {
   "cell_type": "markdown",
   "metadata": {},
   "source": [
    "## 2. Variational form and semidiscrete formulation"
   ]
  },
  {
   "cell_type": "markdown",
   "metadata": {},
   "source": [
    "Let X be the functional space and $\\big(.,.\\big)_\\Omega$ denote the $L^2$ inner product with respect to  $\\Omega$. The variational formulation is stated as follows :\n",
    "\n",
    "Find $\\textbf{U} = \\big\\{\\rho, \\textbf{u}\\big\\}\\in X$, such that $\\forall~\\textbf{W} = \\big\\{q, \\omega\\big\\}\\in X$ : \n",
    "\n",
    "$$\\textbf{B}\\big(\\textbf{W},\\textbf{U}\\big) = 0 ~~~~~~~~~~~~~~~~~~~~~~~~~~~~~~~~~~~~~~~~~~~~~(10)$$"
   ]
  },
  {
   "cell_type": "markdown",
   "metadata": {},
   "source": [
    "with\n",
    "\n",
    "$\\begin{align*}\\textbf{B}\\big(\\textbf{W},\\textbf{U}\\big) &= \\big(q,\\dfrac{\\partial \\rho}{\\partial t}\\big)_\\Omega + \\big(\\omega,\\textbf{u}\\dfrac{\\partial \\rho}{\\partial t}\\big)_\\Omega + \\big(\\omega,\\rho\\dfrac{\\partial\\textbf{u} }{\\partial t}\\big)_\\Omega\\\\\n",
    "&- \\big(\\nabla q,\\rho \\textbf{u}\\big)_\\Omega - \\big(\\nabla\n",
    "\\omega,\\rho \\textbf{u}\\otimes\\textbf{u}\\big)_\\Omega - \\big(\\nabla\\cdot\\omega,p\\big)_\\Omega + \\big(\\nabla \\omega,\\tau\\big)_\\Omega\\\\\n",
    "&- \\big(\\nabla\\nabla\\cdot\\omega,\\lambda\\rho\\nabla\\rho\\big)_\\Omega - \\big(\\nabla\\cdot\\omega,\\lambda\\nabla\\rho.\\nabla\\rho\\big)_\\Omega \\\\\n",
    "&- \\big(\\nabla(\\nabla\\rho\\cdot\\omega),\\lambda\\nabla\\rho\\big)_\\Omega.~~~~~~~~~~~~~~~~~~~~~~~~~~~~~~~~~~~~~~~~~~~~~~~~~~~~~~~~~~~~~~~~~~~~~~~~~~~~~~~~~~~~~~~~~~~~~(11)\n",
    "\\end{align*}$"
   ]
  },
  {
   "cell_type": "markdown",
   "metadata": {},
   "source": [
    "The space discretization of (11) leads to the following variational problem over the finite element spaces : \n",
    "\n",
    "Find $\\textbf{U}^h = \\big\\{\\rho^h, \\textbf{u}^h\\big\\}\\in X^h\\subset X$, such that $\\forall~\\textbf{W}^h = \\big\\{q^h, \\omega^h\\big\\}\\in X^h$ : \n",
    "\n",
    "$$\\textbf{B}\\big(\\textbf{W}^h,\\textbf{U}^h\\big) = 0 ~~~~~~~~~~~~~~~~~~~~~~~~~~~~~~~~~~~~~~~~~~~~~(12)$$\n",
    "\n",
    "where \n",
    "\n",
    "$$\\rho^h = \\sum_{i=1}^{n_b} \\rho_iN_i, ~~~ \\textbf{u}^h = \\sum_{i=1}^{n_b} \\textbf{u}_iN_i ~~~~~~~~~~~~~~~~~~~~~~(13)$$\n",
    "$$ q^h = \\sum_{i=1}^{n_b} q_iN_i, ~~~ \\omega^h = \\sum_{i=1}^{n_b} \\omega_iN_i~~~~~~~~~~~~~~~~~~~~~(14)$$\n",
    "\n",
    "$n_b$ is the dimension of discrete space."
   ]
  },
  {
   "cell_type": "markdown",
   "metadata": {},
   "source": [
    "## 3. Time discretization using the generalized-$\\alpha$ method"
   ]
  },
  {
   "cell_type": "markdown",
   "metadata": {},
   "source": [
    "Let $\\textbf{U}$ and $\\dot{\\textbf{U}}$ denote the vector of global degrees of freedom and its time derivative, respectively. We define the following residual vectors :\n",
    "$$\\mathbf{R}^c = \\Big\\{R^c_i\\Big\\}$$\n",
    "$$R^c_i = \\mathbf{B}\\big(\\big\\{N_i, 0\\}, \\{\\rho^h,\\mathbf{u}^h\\big\\}\\big)$$\n",
    "$$\\mathbf{R}^M = {R^M_ij}$$\n",
    "$$R^M_i = { \\mathbf{B}\\big({0, N_ie_j}, {\\rho^h,\\mathbf{u}^h}\\big)}$$\n",
    "$$\\mathbf{R} = \\Big\\{\\mathbf{R}^c, \\mathbf{R}^M\\Big\\}$$\n",
    "where we denote by $e_j$ is the j-th cartesian basis vector."
   ]
  },
  {
   "cell_type": "markdown",
   "metadata": {},
   "source": [
    "Given $\\mathbf{U}_n$, $\\dot{\\mathbf{U}}_n$ at the $n^{th}$ time $t_n$ and $\\Delta t_n = t_{n+1}-t_n$ the time step size, the generalized-$\\alpha$ method involves finding $\\dot{\\mathbf{U}}_{n+1}$, $\\mathbf{U}_{n+1}$, $\\mathbf{U}_{n+\\alpha_m}$, $\\mathbf{U}_{n+\\alpha_f}$ such that\n",
    "\n",
    "$$\\begin{align*}\n",
    "  \\mathbf{R}^c\\big(\\dot{\\mathbf{U}}_{n+\\alpha_m}, \\mathbf{U}_{n+\\alpha_f}\\big) &=0,~~~~~~~~~~~~~~~~~~~~~~~~~~~~~~~~~~~~~~~~~~~~~~~~~~~~~~~~~~~~~~~~~~~~~~~~~~~~~~~~~~~~~~~~~~~~(15)\\\\\n",
    "  \\mathbf{R}^M\\big(\\dot{\\mathbf{U}}_{n+\\alpha_m}, \\mathbf{U}_{n+\\alpha_f}\\big) &=0,~~~~~~~~~~~~~~~~~~~~~~~~~~~~~~~~~~~~~~~~~~~~~~~~~~~~~~~~~~~~~~~~~~~~~~~~~~~~~~~~~~~~~~~~~~~~(16)\\\\\n",
    "  \\mathbf{U}_{n+1} &= \\mathbf{U}_{n} + \\Delta t_n \\dot{\\mathbf{U}}_{n} + \\gamma \\Delta t_n \\big(\\dot{\\mathbf{U}}_{n+1} - \\dot{\\mathbf{U}}_{n}\\big),~~~~~~~~~~~~~~~~~~~~~~~~~~~~~~~~~~~~~~~~~(17)\\\\\n",
    "  \\dot{\\mathbf{U}}_{n+\\alpha_m} &= \\dot{\\mathbf{U}}_{n} + \\alpha_m \\big( \\dot{\\mathbf{U}}_{n+1} - \\dot{\\mathbf{U}}_{n}\\big),~~~~~~~~~~~~~~~~~~~~~~~~~~~~~~~~~~~~~~~~~~~~~~~~~~~~~~~~~~~(18)\\\\\n",
    "  \\mathbf{U}_{n+\\alpha_f}  &= \\mathbf{U}_{n} + \\alpha_f \\big( \\mathbf{U}_{n+1} - \\mathbf{U}_{n}\\big)~~~~~~~~~~~~~~~~~~~~~~~~~~~~~~~~~~~~~~~~~~~~~~~~~~~~~~~~~~~~~~(19)\n",
    " \\end{align*}$$\n",
    " \n",
    " where $\\alpha_m$ , $\\alpha_f$ and $\\gamma$ are real-valued parameters that define the method."
   ]
  },
  {
   "cell_type": "markdown",
   "metadata": {},
   "source": [
    "Jansen, Whiting and Hulbert proved that, the generalized-$\\alpha$ method is second-order accurate if and only if \n",
    "$$\\gamma = \\dfrac{1}{2} + \\alpha_m -\\alpha_f,~~~~~~~~~~~~~~~~~~~~~~~~~~~~~~~~~~~~~~~~~~~~~~~~~~~~~~~~~~~~~~~~~~~~~~~~~~~~~~~~~~~~~~~~~~~~~~~~~~~~~~~~~(20)$$\n",
    "and it is unconditionally stable if and only if \n",
    "$$\\alpha_m \\geq \\alpha_f \\geq \\dfrac{1}{2}.~~~~~~~~~~~~~~~~~~~~~~~~~~~~~~~~~~~~~~~~~~~~~~~~~~~~~~~~~~~~~~~~~~~~~~~~~~~~~~~~~~~~~~~~~~~~~~~~~~~~~~~~~~~~~~~~(21)$$ \n",
    "Hence, if (20) holds, then (17) becomes $$\\mathbf{U}_{n+1} = \\mathbf{U}_{n} + \\Delta t_n\\Big( \\dot{\\mathbf{U}}_{n + \\alpha_m} + \\big(\\alpha_f-\\dfrac{1}{2}\\big)\\dot{\\mathbf{U}}_{n} - \\big(\\alpha_f-\\dfrac{1}{2}\\big)\\dot{\\mathbf{U}}_{n+1}\\Big),~~~~~~~~~~~~~~~~~~~~~~~~~~~~~~~~~~~~~~(22)$$"
   ]
  },
  {
   "cell_type": "markdown",
   "metadata": {},
   "source": [
    "The parameters $\\alpha_m$ and $\\alpha_f$ can be chosen to be equal to\n",
    "\n",
    "$$\\alpha_m = \\dfrac{1}{2}\\big( \\dfrac{3-\\rho_\\infty}{1+\\rho_\\infty}\\big)$$\n",
    "\n",
    "$$\\alpha_m = \\dfrac{1}{1+\\rho_\\infty}$$\n",
    "where $\\rho_\\infty\\in [0,1]$ is the spectral radius of the amplification matrix as $\\Delta t \\rightarrow \\infty$, controls high-frequency dissipation."
   ]
  },
  {
   "cell_type": "markdown",
   "metadata": {},
   "source": [
    " # 4. Non-linear solver using Newton's method "
   ]
  },
  {
   "cell_type": "markdown",
   "metadata": {},
   "source": [
    "We approximate the non-linear system of equation (15-16) using Newton's method which leads to the following algorithm :\n",
    "\n",
    "1. Set \n",
    "  $$ \\mathbf{U}_{n+1, (0)} = \\mathbf{U}_n$$\n",
    "  $$ \\dot{\\mathbf{U}}_{n+1, (0)} = \\dfrac{\\gamma-1}{\\gamma}\\dot{\\mathbf{U}}_n$$\n",
    "  \n",
    "2. Repeat the following steps \n",
    " \n",
    " **a**. Evaluate iterates at the $\\alpha$-levels\n",
    " \n",
    " $$ \\dot{\\mathbf{U}}_{n+\\alpha_m, (k)} = \\dot{\\mathbf{U}}_n + \\alpha_m \\big(\\dot{\\mathbf{U}}_{n+1, (k-1)} - \\dot{\\mathbf{U}}_n\\big)$$\n",
    " $$ \\mathbf{U}_{n+\\alpha_f, (k)}       = \\mathbf{U}_n + \\alpha_f \\big(\\mathbf{U}_{n+1, (k-1)} - \\mathbf{U}_n\\big)$$\n",
    " \n",
    " **b**. Assemble the tangent matrix and the residual of the linear system\n",
    " \n",
    " $$\n",
    " \\begin{align*}\n",
    " \\mathbf{K} &= \\dfrac{\\partial\\mathbf{R}\\big(\\dot{\\mathbf{U}}_{n+\\alpha_m}, \\mathbf{U}_{n+\\alpha_f}\\big)}{\\partial\\dot{\\mathbf{U}}_{n+\\alpha_m}}\\dfrac{\\partial\\dot{\\mathbf{U}}_{n+\\alpha_m}}{\\partial\\dot{\\mathbf{U}}_{n+1}} + \\dfrac{\\partial\\mathbf{R}\\big(\\dot{\\mathbf{U}}_{n+\\alpha_m}, \\mathbf{U}_{n+\\alpha_f}\\big)}{\\partial\\mathbf{U}_{n+\\alpha_f}}\\dfrac{\\partial\\mathbf{U}_{n+\\alpha_f}}{\\partial\\dot{\\mathbf{U}}_{n+1}}\\\\\n",
    " & = \\alpha_m\\dfrac{\\partial\\mathbf{R}\\big(\\dot{\\mathbf{U}}_{n+\\alpha_m}, \\mathbf{U}_{n+\\alpha_f}\\big)}{\\partial\\dot{\\mathbf{U}}_{n+\\alpha_m}} + \\alpha_f\\gamma\\Delta t_n\\dfrac{\\partial\\mathbf{R}\\big(\\dot{\\mathbf{U}}_{n+\\alpha_m}, \\mathbf{U}_{n+\\alpha_f}\\big)}{\\partial\\mathbf{U}_{n+\\alpha_f}}\n",
    "\\end{align*}\n",
    " $$\n",
    " \n",
    " and\n",
    " \n",
    " $$\\mathbf{K}_{(k)} \\Delta \\dot{\\mathbf{U}}_{n+1,(k)} = - \\mathbf{R}_{k}$$\n",
    "\n",
    " **c**. Update the iterates as \n",
    "  $$ \\dot{\\mathbf{U}}_{n+1, (k)} = \\dot{\\mathbf{U}}_{n+1, (k-1)} + \\Delta \\dot{\\mathbf{U}}_{n+1, (k)}$$ \n",
    "  $$ \\mathbf{U}_{n+1, (k)}       = \\mathbf{U}_{n+1, (k-1)} + \\gamma \\Delta t_n \\Delta \\dot{\\mathbf{U}}_{n+1, (k)}$$\n",
    "\n",
    "This complites one nonlinear iteration. The tolerance is given by reducing residual $\\mathbf{R}$ to $10^{-3}$ or $10^{-4}$."
   ]
  },
  {
   "cell_type": "markdown",
   "metadata": {},
   "source": [
    "# 5. Numerical implementation under psydac."
   ]
  },
  {
   "cell_type": "markdown",
   "metadata": {},
   "source": [
    "$\\textit{TODO}$"
   ]
  },
  {
   "cell_type": "code",
   "execution_count": null,
   "metadata": {},
   "outputs": [],
   "source": [
    "\n",
    "import os\n",
    "import pytest\n",
    "import numpy as np\n",
    "from sympy import pi, cos, sin, sqrt, exp, ImmutableDenseMatrix as Matrix, Tuple, lambdify\n",
    "from scipy.sparse.linalg import spsolve\n",
    "from scipy.sparse.linalg import gmres as sp_gmres\n",
    "from scipy.sparse.linalg import minres as sp_minres\n",
    "from scipy.sparse.linalg import cg as sp_cg\n",
    "from scipy.sparse.linalg import bicg as sp_bicg\n",
    "from scipy.sparse.linalg import bicgstab as sp_bicgstab\n",
    "\n",
    "from sympde.calculus import grad, dot, inner, div, curl, cross\n",
    "from sympde.calculus import Transpose, laplace\n",
    "from sympde.topology import NormalVector\n",
    "from sympde.topology import ScalarFunctionSpace, VectorFunctionSpace\n",
    "from sympde.topology import ProductSpace\n",
    "from sympde.topology import element_of, elements_of\n",
    "from sympde.topology import Domain, Square, Union\n",
    "from sympde.expr     import BilinearForm, LinearForm, integral\n",
    "from sympde.expr     import Norm\n",
    "from sympde.expr     import find, EssentialBC\n",
    "from sympde.core     import Constant\n",
    "from sympde.expr     import TerminalExpr\n",
    "from sympde.expr     import linearize\n",
    "\n",
    "from psydac.api.essential_bc   import apply_essential_bc\n",
    "from psydac.fem.basic          import FemField\n",
    "from psydac.fem.vector         import ProductFemSpace\n",
    "from psydac.core.bsplines      import make_knots\n",
    "from psydac.api.discretization import discretize\n",
    "from psydac.linalg.utilities   import array_to_stencil\n",
    "from psydac.linalg.stencil     import *\n",
    "from psydac.linalg.block       import *\n",
    "from psydac.api.settings       import PSYDAC_BACKEND_GPYCCEL\n",
    "from psydac.utilities.utils    import refine_array_1d, animate_field, split_space, split_field\n",
    "from psydac.linalg.iterative_solvers import cg, pcg, bicg, lsmr\n",
    "\n",
    "from mpi4py import MPI\n",
    "comm = MPI.COMM_WORLD"
   ]
  },
  {
   "cell_type": "code",
   "execution_count": 3,
   "metadata": {},
   "outputs": [
    {
     "ename": "NameError",
     "evalue": "name '__file__' is not defined",
     "output_type": "error",
     "traceback": [
      "\u001b[0;31m---------------------------------------------------------------------------\u001b[0m",
      "\u001b[0;31mKeyError\u001b[0m                                  Traceback (most recent call last)",
      "\u001b[0;32m<ipython-input-3-ce0742577b7f>\u001b[0m in \u001b[0;36m<module>\u001b[0;34m\u001b[0m\n\u001b[1;32m      3\u001b[0m \u001b[0;32mtry\u001b[0m\u001b[0;34m:\u001b[0m\u001b[0;34m\u001b[0m\u001b[0;34m\u001b[0m\u001b[0m\n\u001b[0;32m----> 4\u001b[0;31m     \u001b[0mmesh_dir\u001b[0m \u001b[0;34m=\u001b[0m \u001b[0mos\u001b[0m\u001b[0;34m.\u001b[0m\u001b[0menviron\u001b[0m\u001b[0;34m[\u001b[0m\u001b[0;34m'PSYDAC_MESH_DIR'\u001b[0m\u001b[0;34m]\u001b[0m\u001b[0;34m\u001b[0m\u001b[0;34m\u001b[0m\u001b[0m\n\u001b[0m\u001b[1;32m      5\u001b[0m \u001b[0;34m\u001b[0m\u001b[0m\n",
      "\u001b[0;32m~/anaconda3/lib/python3.8/os.py\u001b[0m in \u001b[0;36m__getitem__\u001b[0;34m(self, key)\u001b[0m\n\u001b[1;32m    674\u001b[0m             \u001b[0;31m# raise KeyError with the original key value\u001b[0m\u001b[0;34m\u001b[0m\u001b[0;34m\u001b[0m\u001b[0;34m\u001b[0m\u001b[0m\n\u001b[0;32m--> 675\u001b[0;31m             \u001b[0;32mraise\u001b[0m \u001b[0mKeyError\u001b[0m\u001b[0;34m(\u001b[0m\u001b[0mkey\u001b[0m\u001b[0;34m)\u001b[0m \u001b[0;32mfrom\u001b[0m \u001b[0;32mNone\u001b[0m\u001b[0;34m\u001b[0m\u001b[0;34m\u001b[0m\u001b[0m\n\u001b[0m\u001b[1;32m    676\u001b[0m         \u001b[0;32mreturn\u001b[0m \u001b[0mself\u001b[0m\u001b[0;34m.\u001b[0m\u001b[0mdecodevalue\u001b[0m\u001b[0;34m(\u001b[0m\u001b[0mvalue\u001b[0m\u001b[0;34m)\u001b[0m\u001b[0;34m\u001b[0m\u001b[0;34m\u001b[0m\u001b[0m\n",
      "\u001b[0;31mKeyError\u001b[0m: 'PSYDAC_MESH_DIR'",
      "\nDuring handling of the above exception, another exception occurred:\n",
      "\u001b[0;31mNameError\u001b[0m                                 Traceback (most recent call last)",
      "\u001b[0;32m<ipython-input-3-ce0742577b7f>\u001b[0m in \u001b[0;36m<module>\u001b[0;34m\u001b[0m\n\u001b[1;32m      5\u001b[0m \u001b[0;34m\u001b[0m\u001b[0m\n\u001b[1;32m      6\u001b[0m \u001b[0;32mexcept\u001b[0m\u001b[0;34m:\u001b[0m\u001b[0;34m\u001b[0m\u001b[0;34m\u001b[0m\u001b[0m\n\u001b[0;32m----> 7\u001b[0;31m     \u001b[0mbase_dir\u001b[0m \u001b[0;34m=\u001b[0m \u001b[0mos\u001b[0m\u001b[0;34m.\u001b[0m\u001b[0mpath\u001b[0m\u001b[0;34m.\u001b[0m\u001b[0mdirname\u001b[0m\u001b[0;34m(\u001b[0m\u001b[0mos\u001b[0m\u001b[0;34m.\u001b[0m\u001b[0mpath\u001b[0m\u001b[0;34m.\u001b[0m\u001b[0mrealpath\u001b[0m\u001b[0;34m(\u001b[0m\u001b[0m__file__\u001b[0m\u001b[0;34m)\u001b[0m\u001b[0;34m)\u001b[0m\u001b[0;34m\u001b[0m\u001b[0;34m\u001b[0m\u001b[0m\n\u001b[0m\u001b[1;32m      8\u001b[0m     \u001b[0mbase_dir\u001b[0m \u001b[0;34m=\u001b[0m \u001b[0mos\u001b[0m\u001b[0;34m.\u001b[0m\u001b[0mpath\u001b[0m\u001b[0;34m.\u001b[0m\u001b[0mjoin\u001b[0m\u001b[0;34m(\u001b[0m\u001b[0mbase_dir\u001b[0m\u001b[0;34m,\u001b[0m \u001b[0;34m'..'\u001b[0m\u001b[0;34m,\u001b[0m \u001b[0;34m'..'\u001b[0m\u001b[0;34m,\u001b[0m \u001b[0;34m'..'\u001b[0m\u001b[0;34m)\u001b[0m\u001b[0;34m\u001b[0m\u001b[0;34m\u001b[0m\u001b[0m\n\u001b[1;32m      9\u001b[0m     \u001b[0mmesh_dir\u001b[0m \u001b[0;34m=\u001b[0m \u001b[0mos\u001b[0m\u001b[0;34m.\u001b[0m\u001b[0mpath\u001b[0m\u001b[0;34m.\u001b[0m\u001b[0mjoin\u001b[0m\u001b[0;34m(\u001b[0m\u001b[0mbase_dir\u001b[0m\u001b[0;34m,\u001b[0m \u001b[0;34m'mesh'\u001b[0m\u001b[0;34m)\u001b[0m\u001b[0;34m\u001b[0m\u001b[0;34m\u001b[0m\u001b[0m\n",
      "\u001b[0;31mNameError\u001b[0m: name '__file__' is not defined"
     ]
    }
   ],
   "source": [
    "#==============================================================================\n",
    "# ... get the mesh directory\n",
    "try:\n",
    "    mesh_dir = os.environ['PSYDAC_MESH_DIR']\n",
    "\n",
    "except:\n",
    "    base_dir = os.path.dirname(os.path.realpath(__file__))\n",
    "    base_dir = os.path.join(base_dir, '..', '..', '..')\n",
    "    mesh_dir = os.path.join(base_dir, 'mesh')\n",
    "\n",
    "#==============================================================================\n",
    "def get_boundaries(*args):\n",
    "\n",
    "    if not args:\n",
    "        return ()\n",
    "    else:\n",
    "        assert all(1 <= a <= 4 for a in args)\n",
    "        assert len(set(args)) == len(args)\n",
    "\n",
    "    boundaries = {1: {'axis': 0, 'ext': -1},\n",
    "                  2: {'axis': 0, 'ext':  1},\n",
    "                  3: {'axis': 1, 'ext': -1},\n",
    "                  4: {'axis': 1, 'ext':  1}}\n",
    "\n",
    "    return tuple(boundaries[i] for i in args)\n",
    "\n",
    "#------------------------------------------------------------------------------\n",
    "def scipy_solver(M, b):\n",
    "    x  = spsolve(M.tosparse().tocsr(), b.toarray())\n",
    "    x  = array_to_stencil(x, b.space)\n",
    "    return x,0\n",
    "\n",
    "#------------------------------------------------------------------------------\n",
    "def psydac_solver(M, b):\n",
    "    return lsmr(M, M.T, b, maxiter=10000, tol=1e-6)\n",
    "\n",
    "#==============================================================================\n",
    "def run_time_dependent_navier_stokes_2d(filename, dt_h, nt, newton_tol=1e-4, max_newton_iter=100, scipy=True):\n",
    "    \"\"\"\n",
    "        Time dependent Navier Stokes solver in a 2d domain.\n",
    "        this example was taken from the pyiga library\n",
    "        https://github.com/c-f-h/pyiga/blob/master/notebooks/solve-navier-stokes.ipynb\n",
    "    \"\"\"\n",
    "    domain  = Domain.from_file(filename)\n",
    "\n",
    "    # ... abstract model\n",
    "    V1 = VectorFunctionSpace('V1', domain, kind='H1')\n",
    "    V2 = ScalarFunctionSpace('V2', domain, kind='L2')\n",
    "    X  = ProductSpace(V1, V2)\n",
    "\n",
    "    u0, u, v, du = elements_of(V1, names='u0, u, v, du')\n",
    "    p0, p, q, dp = elements_of(V2, names='p0, p, q, dp')\n",
    "\n",
    "    x, y  = domain.coordinates\n",
    "    int_0 = lambda expr: integral(domain , expr)\n",
    "\n",
    "    # time step\n",
    "    dt = Constant(name='dt')\n",
    "\n",
    "    # Boundaries\n",
    "    boundary_h = Union(*[domain.get_boundary(**kw) for kw in get_boundaries(3,4)])\n",
    "    boundary   = Union(*[domain.get_boundary(**kw) for kw in get_boundaries(1)])\n",
    "    ue         = Tuple(40*y*(0.5-y)*exp(-100*(y-0.25)**2), 0)\n",
    "    bc         = [EssentialBC(du, ue, boundary), EssentialBC(du, 0, boundary_h)]\n",
    "\n",
    "    # Reynolds number\n",
    "    Re = 1e4\n",
    "\n",
    "    F  = 0.5*dt*dot(Transpose(grad(u ))*u , v) + 0.5*dt*Re**-1*inner(grad(u ), grad(v)) - 0.5*dt*div(u )*q - 0.5*dt*p *div(v) + 0.5*dt*1e-10*p *q\n",
    "    F0 = 0.5*dt*dot(Transpose(grad(u0))*u0, v) + 0.5*dt*Re**-1*inner(grad(u0), grad(v)) - 0.5*dt*div(u0)*q - 0.5*dt*p0*div(v) + 0.5*dt*1e-10*p0*q\n",
    "    \n",
    "    l = LinearForm((v, q), integral(domain, dot(u,v)-dot(u0,v) + F + F0) )\n",
    "    a = linearize(l, (u,p), trials=(du, dp))\n",
    "\n",
    "    equation  = find((du, dp), forall=(v, q), lhs=a((du, dp), (v, q)), rhs=l(v, q), bc=bc)\n",
    "\n",
    "    # Use the stokes equation to compute the initial solution\n",
    "    a_stokes = BilinearForm(((du,dp),(v, q)), integral(domain, Re**-1*inner(grad(du), grad(v)) - div(du)*q - dp*div(v) + 1e-10*dp*q) )\n",
    "    l_stokes = LinearForm((v, q), integral(domain, dot(v,Tuple(0,0)) ))\n",
    "\n",
    "    equation_stokes = find((du, dp), forall=(v, q), lhs=a_stokes((du, dp), (v, q)), rhs=l_stokes(v, q), bc=bc)\n",
    "\n",
    "    # Define (abstract) norms\n",
    "    l2norm_du  = Norm(Matrix([du[0],du[1]]), domain, kind='l2')\n",
    "    l2norm_dp  = Norm(dp     , domain, kind='l2')\n",
    "\n",
    "    # ... create the computational domain from a topological domain\n",
    "    domain_h = discretize(domain, filename=filename)\n",
    "\n",
    "    # ... discrete spaces\n",
    "    V1h = discretize(V1, domain_h)\n",
    "    V2h = discretize(V2, domain_h)\n",
    "    Xh  = V1h*V2h\n",
    "\n",
    "    # ... discretize the equations\n",
    "    equation_h        = discretize(equation,        domain_h, [Xh, Xh], backend=PSYDAC_BACKEND_GPYCCEL)\n",
    "    equation_stokes_h = discretize(equation_stokes, domain_h, [Xh, Xh], backend=PSYDAC_BACKEND_GPYCCEL)\n",
    "\n",
    "    a_h        = equation_h.lhs\n",
    "    l_h        = equation_h.rhs\n",
    "\n",
    "    # Discretize the norms\n",
    "    l2norm_du_h = discretize(l2norm_du, domain_h, V1h, backend=PSYDAC_BACKEND_GPYCCEL)\n",
    "    l2norm_dp_h = discretize(l2norm_dp, domain_h, V2h, backend=PSYDAC_BACKEND_GPYCCEL)\n",
    "\n",
    "    # compute the initial solution\n",
    "    x0 = equation_stokes_h.solve(solver='bicg', tol=1e-15)\n",
    "\n",
    "    u0_h = FemField(V1h)\n",
    "    p0_h = FemField(V2h)\n",
    "\n",
    "    u_h  = FemField(V1h)\n",
    "    p_h  = FemField(V2h)\n",
    "\n",
    "    du_h = FemField(V1h)\n",
    "    dp_h = FemField(V2h)\n",
    "\n",
    "    # First guess\n",
    "    u_h[0].coeffs[:,:] = x0[0].coeffs[:,:]\n",
    "    u_h[1].coeffs[:,:] = x0[1].coeffs[:,:]\n",
    "    p_h.coeffs[:,:]    = x0[2].coeffs[:,:]\n",
    "\n",
    "    # store the solutions\n",
    "    solutions                    = [FemField(V1h)]\n",
    "    solutions[-1][0].coeffs[:,:] = u_h[0].coeffs[:,:]\n",
    "    solutions[-1][1].coeffs[:,:] = u_h[1].coeffs[:,:]\n",
    "    Tf = dt_h*(nt+1)\n",
    "    t  = 0\n",
    "\n",
    "    solver = scipy_solver if scipy else psydac_solver\n",
    "\n",
    "    while t<Tf:\n",
    "        t += dt_h\n",
    "        print()\n",
    "        print('======= time {}/{} ======='.format(t,Tf))\n",
    "\n",
    "        u0_h[0].coeffs[:,:] = u_h[0].coeffs[:,:]\n",
    "        u0_h[1].coeffs[:,:] = u_h[1].coeffs[:,:]\n",
    "        p0_h.coeffs[:,:]    = p_h.coeffs[:,:]\n",
    "\n",
    "        # Newton iteration\n",
    "        for n in range(max_newton_iter):\n",
    "            print()\n",
    "            print('==== iteration {} ===='.format(n))\n",
    "\n",
    "            M = a_h.assemble(u=u_h, p=p_h, dt=dt_h)\n",
    "            b = l_h.assemble(u=u_h, p=p_h, u0=u0_h, p0=p0_h, dt=dt_h)\n",
    "\n",
    "            apply_essential_bc(M, *equation_h.bc, identity=True)\n",
    "            apply_essential_bc(b, *equation_h.bc)\n",
    "\n",
    "            x,info = solver(M, b)\n",
    "\n",
    "            du_h[0].coeffs[:] = x[0][:]\n",
    "            du_h[1].coeffs[:] = x[1][:]\n",
    "            dp_h.coeffs[:]    = x[2][:]\n",
    "\n",
    "            # Compute L2 norm of increment\n",
    "            l2_error_du = l2norm_du_h.assemble(du=du_h)\n",
    "            l2_error_dp = l2norm_dp_h.assemble(dp=dp_h)\n",
    "\n",
    "            print('L2_error_norm(du) = {}'.format(l2_error_du))\n",
    "            print('L2_error_norm(dp) = {}'.format(l2_error_dp))\n",
    "\n",
    "            if abs(l2_error_du) <= newton_tol:\n",
    "                print()\n",
    "                print('CONVERGED')\n",
    "                break\n",
    "            elif n == max_newton_iter-1 or abs(l2_error_du)>1/newton_tol or abs(l2_error_dp) > 1/newton_tol:\n",
    "                print()\n",
    "                print('NOT CONVERGED')\n",
    "                t = Tf\n",
    "                return solutions, p_h, domain, domain_h\n",
    "\n",
    "            # update field\n",
    "            u_h -= du_h\n",
    "            p_h -= dp_h\n",
    "\n",
    "        solutions.append(FemField(V1h))\n",
    "        solutions[-1][0].coeffs[:,:] = u_h[0].coeffs[:,:]\n",
    "        solutions[-1][1].coeffs[:,:] = u_h[1].coeffs[:,:]\n",
    "\n",
    "    return solutions, p_h, domain, domain_h"
   ]
  },
  {
   "cell_type": "code",
   "execution_count": null,
   "metadata": {},
   "outputs": [],
   "source": [
    "###############################################################################\n",
    "#            SERIAL TESTS\n",
    "###############################################################################\n",
    "#------------------------------------------------------------------------------\n",
    "def test_navier_stokes_2d():\n",
    "    Tf       = 1.\n",
    "    dt_h     = 0.05\n",
    "    nt       = Tf//dt_h\n",
    "    filename = os.path.join(mesh_dir, 'bent_pipe.h5')\n",
    "    solutions, p_h, domain, domain_h = run_time_dependent_navier_stokes_2d(filename, dt_h=dt_h, nt=nt, scipy=False)\n",
    "\n",
    "    u0_h  , u1_h   = solutions[-1].fields\n",
    "\n",
    "    data_dir = os.path.dirname(os.path.realpath(__file__))\n",
    "    data_dir = os.path.join(data_dir, 'data')\n",
    "\n",
    "    u0_h_ref, = u0_h.space.import_fields(os.path.join(data_dir, 'velocity_0.h5'),'u0_h')\n",
    "    u1_h_ref, = u1_h.space.import_fields(os.path.join(data_dir, 'velocity_1.h5'),'u1_h')\n",
    "\n",
    "    assert abs(u0_h_ref.coeffs[:,:]-u0_h.coeffs[:,:]).max()<1e-15\n",
    "    assert abs(u1_h_ref.coeffs[:,:]-u1_h.coeffs[:,:]).max()<1e-15"
   ]
  },
  {
   "cell_type": "code",
   "execution_count": null,
   "metadata": {},
   "outputs": [],
   "source": [
    "#------------------------------------------------------------------------------\n",
    "if __name__ == '__main__':\n",
    "    import matplotlib.pyplot as plt\n",
    "    from matplotlib import animation\n",
    "    from time       import time\n",
    "\n",
    "    Tf       = 3.\n",
    "    dt_h     = 0.05\n",
    "    nt       = Tf//dt_h\n",
    "    filename = os.path.join(mesh_dir, 'bent_pipe.h5')\n",
    "\n",
    "    solutions, p_h, domain, domain_h = run_time_dependent_navier_stokes_2d(filename, dt_h=dt_h, nt=nt, scipy=False)\n",
    "\n",
    "    domain = domain.logical_domain\n",
    "    mapping = domain_h.mappings['patch_0']\n",
    "\n",
    "    anim = animate_field(solutions, domain, mapping, res=(150,150), progress=True)\n",
    "    anim.save('animated_fields_{}_{}.mp4'.format(str(Tf).replace('.','_'), str(dt_h).replace('.','_')), writer=animation.FFMpegWriter(fps=60))"
   ]
  }
 ],
 "metadata": {
  "kernelspec": {
   "display_name": "Python 3",
   "language": "python",
   "name": "python3"
  },
  "language_info": {
   "codemirror_mode": {
    "name": "ipython",
    "version": 3
   },
   "file_extension": ".py",
   "mimetype": "text/x-python",
   "name": "python",
   "nbconvert_exporter": "python",
   "pygments_lexer": "ipython3",
   "version": "3.8.5"
  }
 },
 "nbformat": 4,
 "nbformat_minor": 4
}
