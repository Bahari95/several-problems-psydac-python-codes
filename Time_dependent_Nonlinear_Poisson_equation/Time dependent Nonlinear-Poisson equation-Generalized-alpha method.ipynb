{
 "cells": [
  {
   "cell_type": "markdown",
   "metadata": {},
   "source": [
    "# Isogeometric analysis of the time-dependent Nonlinear Poisson equation"
   ]
  },
  {
   "cell_type": "markdown",
   "metadata": {},
   "source": [
    "\n",
    "\n",
    "This section is devoted to using the isogeometric analysis for the numerical approximation of the poisson equation equation to ensure a regularity needed. For numerical accuracy we integrate in time using ***generalized-$\\alpha$ method***.\n",
    "\n",
    "***However, the generalized-$\\alpha$ method is implemented differently from the one found in the literature. Still, here we test the exact replacement of the unknown to compute a solution at the next step.***"
   ]
  },
  {
   "cell_type": "markdown",
   "metadata": {},
   "source": [
    "## 1. Nonlinear Poisson Equation"
   ]
  },
  {
   "cell_type": "markdown",
   "metadata": {},
   "source": [
    "  Let $\\Omega\\subset\\mathbb{R}^d$ be an open set with sufficiently smooth boundary, denoted by $\\Gamma$, where $d$ is the number of spatial dimensions. Then, the problem stated in strong form as :"
   ]
  },
  {
   "cell_type": "markdown",
   "metadata": {},
   "source": [
    "Find $\\mathbf{c} :\\overline{\\Omega}\\times(0,T)\\longmapsto\\mathbb{R}$ such that \n",
    "## $\t\\begin{align*}\n",
    "\t\t\\left\\lbrace\\begin{array}{lll}\n",
    "\t\t\t\\dfrac{\\partial \\mathbf{c}}{\\partial t} ~~~~~=~ \\nabla \\cdot \\big( (1 + \\mathbf{c}^2)\\nabla\\mathbf{c}\\big)  + f&\\text{ in } \\Omega\\times(0,T) ,~~~~~~~~~~(1)\\\\\n",
    "\t\t    \\mathbf{c}~~~~~~~~ =~ g &\\text{ on } \\Gamma_g\\times(0,T),~~~~~~~~(2)\\\\\n",
    "            \\mathbf{c}(x,0)  = \\mathbf{c}_0(x) &\\text{ in } \\overline{\\Omega},~~~~~~~~~~~~~~~~~~~~~~~~(5)\\\\         \n",
    "\t\t\\end{array}\\right.\n",
    "\t\\end{align*}$"
   ]
  },
  {
   "cell_type": "markdown",
   "metadata": {},
   "source": [
    "## 2. Variational form and semidiscrete formulation"
   ]
  },
  {
   "cell_type": "markdown",
   "metadata": {},
   "source": [
    "Let X be the functional space and $\\big(.,.\\big)_\\Omega$ denote the $L^2$ inner product with respect to  $\\Omega$. The variational formulation is stated as follows :\n",
    "\n",
    "Find $\\mathbf{c}\\in X$, such that $\\forall~w\\in X$ : \n",
    "\n",
    "$$\\textbf{B}\\big(w;\\mathbf{c},\\mathbf{c}\\big) = \\mathbf{L}(w) ~~~~~~~~~~~~~~~~~~~~~~~~~~~~~~~~~~~~~~~~~~~~~(8)$$"
   ]
  },
  {
   "cell_type": "markdown",
   "metadata": {},
   "source": [
    "with\n",
    "\n",
    "$$\\begin{align*}\\textbf{B}\\big(w;\\mathbf{c},v\\big) &= \\big(\\nabla\n",
    "w,(1+\\mathbf{v})\\nabla\\mathbf{c}\\big)_\\Omega.~~~~~~~~~~~~~~~~~~~~~~~~~~~~~~~(9)\\\\\n",
    "\\textbf{L}\\big(w\\big) &= \\big(w,f\\big)_\\Omega .~~~~~~~~~~~~~~~~~~~~~~~~~~~~~~~~~~~~~~~~~~~~~~~(10)\n",
    "\\end{align*}$$"
   ]
  },
  {
   "cell_type": "markdown",
   "metadata": {},
   "source": [
    "The space discretization of (11) leads to the following variational problem over the finite element spaces : \n",
    "\n",
    "Find $\\mathbf{c}^h \\in X^h\\subset X$, such that $\\forall~w^h \\in X^h$ : \n",
    "\n",
    "$$\\textbf{B}\\big(w^h;\\mathbf{c}^h, \\mathbf{c}^h\\big) = 0 ~~~~~~~~~~~~~~~~~~~~~~~~~~~~~~~~~~~~~~~~~~~~~(10)$$\n",
    "\n",
    "where \n",
    "\n",
    "$$\\mathbf{c}^h = \\sum_{i=1}^{n_b} \\mathbf{c}_iN_i, ~~~ w^h = \\sum_{i=1}^{n_b} w_iN_i~~~~~~~~~~~~~~~~~~(11)$$\n",
    "\n",
    "$n_b$ is the dimension of discrete space."
   ]
  },
  {
   "cell_type": "markdown",
   "metadata": {},
   "source": [
    "## 3. Time discretization using the generalized-$\\alpha$ method"
   ]
  },
  {
   "cell_type": "markdown",
   "metadata": {},
   "source": [
    "Let $c$ and $\\dot{c}$ denote the vector of global degrees of freedom and its time derivative, respectively. We define the following residual vectors :\n",
    "$$\\mathbf{R}^c = \\Big\\{R_i\\Big\\}$$\n",
    "$$R_i = \\mathbf{B}\\big(N_i, \\mathbf{c}^h\\big)$$\n",
    "where we denote by $e_j$ is the j-th cartesian basis vector."
   ]
  },
  {
   "cell_type": "markdown",
   "metadata": {},
   "source": [
    "Given $\\mathbf{c}_n$, $\\dot{\\mathbf{c}}_n$ at the $n^{th}$ time $t_n$ and $\\Delta t_n = t_{n+1}-t_n$ the time step size, the generalized-$\\alpha$ method involves finding $\\dot{\\mathbf{c}}_{n+1}$, $\\mathbf{c}_{n+1}$, $\\mathbf{c}_{n+\\alpha_m}$, $\\mathbf{c}_{n+\\alpha_f}$ such that\n",
    "\n",
    "$$\\begin{align*}\n",
    "  \\mathbf{R}\\big(\\dot{\\mathbf{c}}_{n+\\alpha_m}, \\mathbf{c}_{n+\\alpha_f}\\big) &=0,~~~~~~~~~~~~~~~~~~~~~~~~~~~~~~~~~~~~~~~~~~~~~~~~~~~~~~~~~~~~~~~~~~~~~~~~~~~~~~~~~~~~~~~~~~~~(12)\\\\\n",
    "  \\mathbf{c}_{n+1} &= \\mathbf{c}_{n} + \\Delta t_n \\dot{\\mathbf{c}}_{n} + \\gamma \\Delta t_n \\big(\\dot{\\mathbf{c}}_{n+1} - \\dot{\\mathbf{c}}_{n}\\big),~~~~~~~~~~~~~~~~~~~~~~~~~~~~~~~~~~~~~~~~~~~~~(13)\\\\\n",
    "  \\dot{\\mathbf{c}}_{n+\\alpha_m} &= \\dot{\\mathbf{c}}_{n} + \\alpha_m \\big( \\dot{\\mathbf{c}}_{n+1} - \\dot{\\mathbf{c}}_{n}\\big),~~~~~~~~~~~~~~~~~~~~~~~~~~~~~~~~~~~~~~~~~~~~~~~~~~~~~~~~~~~~~~(14)\\\\\n",
    "  \\mathbf{c}_{n+\\alpha_f}  &= \\mathbf{c}_{n} + \\alpha_f \\big( \\mathbf{c}_{n+1} - \\mathbf{c}_{n}\\big)~~~~~~~~~~~~~~~~~~~~~~~~~~~~~~~~~~~~~~~~~~~~~~~~~~~~~~~~~~~~~~~~~(15)\n",
    " \\end{align*}$$\n",
    " \n",
    " where $\\alpha_m$ , $\\alpha_f$ and $\\gamma$ are real-valued parameters that define the method."
   ]
  },
  {
   "cell_type": "markdown",
   "metadata": {},
   "source": [
    "Jansen, Whiting and Hulbert proved that, the generalized-$\\alpha$ method is second-order accurate if and only if \n",
    "$$\\gamma = \\dfrac{1}{2} + \\alpha_m -\\alpha_f,~~~~~~~~~~~~~~~~~~~~~~~~~~~~~~~~~~~~~~~~~~~~~~~~~~~~~~~~~~~~~~~~~~~~~~~~~~~~~~~~~~~~~~~~~~~~~~~~~~(16)$$\n",
    "and it is unconditionally stable if and only if \n",
    "$$\\alpha_m \\geq \\alpha_f \\geq \\dfrac{1}{2}.~~~~~~~~~~~~~~~~~~~~~~~~~~~~~~~~~~~~~~~~~~~~~~~~~~~~~~~~~~~~~~~~~~~~~~~~~~~~~~~~~~~~~~~~~~~~~~~~~~~~~~~~~(17)$$ \n",
    "Hence, if (20) holds, then (17) becomes $$\\mathbf{c}_{n+1} = \\mathbf{c}_{n} + \\Delta t_n\\Big( \\dot{\\mathbf{c}}_{n + \\alpha_m} + \\big(\\alpha_f-\\dfrac{1}{2}\\big)\\dot{\\mathbf{c}}_{n} - \\big(\\alpha_f-\\dfrac{1}{2}\\big)\\dot{\\mathbf{c}}_{n+1}\\Big),~~~~~~~~~~~~~~~~~~~~~~~~~~~~~~~~~~~~(18)$$"
   ]
  },
  {
   "cell_type": "markdown",
   "metadata": {},
   "source": [
    "The parameters $\\alpha_m$ and $\\alpha_f$ can be chosen to be equal to\n",
    "\n",
    "$$\\alpha_m = \\dfrac{1}{2}\\big( \\dfrac{3-\\rho_\\infty}{1+\\rho_\\infty}\\big)$$\n",
    "\n",
    "$$\\alpha_m = \\dfrac{1}{1+\\rho_\\infty}$$\n",
    "where $\\rho_\\infty\\in [0,1]$ is the spectral radius of the amplification matrix as $\\Delta t \\rightarrow \\infty$, controls high-frequency dissipation."
   ]
  },
  {
   "cell_type": "markdown",
   "metadata": {},
   "source": [
    " # 4. Non-linear solver using Newton's method "
   ]
  },
  {
   "cell_type": "markdown",
   "metadata": {},
   "source": [
    "We approximate the non-linear system of equation (15-16) using Newton's method which leads to the following algorithm :\n",
    "\n",
    "1. Set \n",
    "  $$ \\mathbf{c}_{n+\\alpha_f, (0)} = \\mathbf{c}_n$$\n",
    "  \n",
    "2. From the (12)-(13)-(14)-(15) we have the following system at the $\\alpha$-levels\n",
    " \n",
    " $$ \\alpha_m\\big( \\mathbf{c}_{n+\\alpha_f}, w\\big)_{\\Omega} +  \\gamma \\Delta t \\alpha_f \\big((1+\\mathbf{c}_{n+\\alpha_f}^2)\\nabla \\mathbf{c}_{n+\\alpha_f}, w\\big)_{\\Omega} = \\gamma \\Delta t \\alpha_f \\big(f, w\\big) + \\alpha_m\\big(\\mathbf{c}_{n}, w\\big) + \\alpha_f\\Delta t(\\alpha_m-\\gamma)\\big(\\dot{\\mathbf{c}}_n,w\\big)$$\n",
    " \n",
    "  ##### b- Newton Method\n",
    "\n",
    "Let's define \n",
    "$$\n",
    "F(v;u) := G(v;u,u) -l(v), \\quad \\forall v \\in \\mathcal{V}\n",
    "$$\n",
    "\n",
    "where\n",
    " $$ G(v;u,u) = \\alpha_m\\big( u, v\\big)_{\\Omega} +  \\gamma \\Delta t \\alpha_f \\big((1+u^2)\\nabla u, v\\big)_{\\Omega}$$\n",
    " \n",
    " and\n",
    " \n",
    " $$ L(v)= \\gamma \\Delta t \\alpha_f \\big(f, v\\big) + \\alpha_m\\big(\\mathbf{c}_{n}, v\\big) + \\alpha_f\\Delta t(\\alpha_m-\\gamma)\\big(\\dot{\\mathbf{c}}_n,v\\big)$$\n",
    "\n",
    "Newton method writes\n",
    "$$\n",
    "\\mbox{Find } \\mathbf{c}_{n+\\alpha_f, (k)} \\in \\mathcal{V}_h, \\mbox{such that}\\\\\n",
    "F^{\\prime}(\\delta \\mathbf{c},v; \\mathbf{c}_{n+\\alpha_f, (k-1)}) = - F(v;\\mathbf{c}_{n+\\alpha_f, (k-1)}), \\quad \\forall v \\in \\mathcal{V} \\\\\n",
    "\\mathbf{c}_{n+\\alpha_f, (k)} := \\mathbf{c}_{n+\\alpha_f, (k-1)} + \\delta \\mathbf{c}, \\quad \\delta \\mathbf{c} \\in \\mathcal{V}\n",
    "$$\n",
    "  \n",
    "This complites one nonlinear iteration. The tolerance is given by reducing residual $\\mathbf{R}$ to $10^{-3}$ or $10^{-4}$. ???"
   ]
  },
  {
   "cell_type": "markdown",
   "metadata": {},
   "source": [
    "# 5. Numerical implementation under psydac."
   ]
  },
  {
   "cell_type": "markdown",
   "metadata": {},
   "source": [
    "$\\textit{TODO}$"
   ]
  },
  {
   "cell_type": "code",
   "execution_count": 1,
   "metadata": {},
   "outputs": [],
   "source": [
    "from sympy import pi, cos, sin, exp, symbols\n",
    "from sympy.utilities.lambdify import implemented_function\n",
    "import pytest\n",
    "\n",
    "from sympde.calculus import grad, dot\n",
    "from sympde.calculus import laplace\n",
    "from sympde.topology import ScalarFunctionSpace\n",
    "from sympde.topology import element_of\n",
    "from sympde.topology import NormalVector\n",
    "from sympde.topology import Square\n",
    "from sympde.topology import Union\n",
    "from sympde.expr     import BilinearForm, LinearForm, integral\n",
    "from sympde.expr     import Norm\n",
    "from sympde.expr     import find, EssentialBC\n",
    "from sympde.expr.expr import linearize\n",
    "from sympde.core     import Constant\n",
    "\n",
    "from psydac.fem.basic          import FemField\n",
    "from psydac.api.discretization import discretize\n",
    "\n",
    "x,y,z = symbols('x1, x2, x3')"
   ]
  },
  {
   "cell_type": "code",
   "execution_count": 2,
   "metadata": {},
   "outputs": [],
   "source": [
    "# ..Topological domain\n",
    "domain        = Square()\n",
    "B_dirichlet_0 = domain.boundary"
   ]
  },
  {
   "cell_type": "code",
   "execution_count": 3,
   "metadata": {},
   "outputs": [],
   "source": [
    "# ..Function Space\n",
    "V   = ScalarFunctionSpace('V', domain)"
   ]
  },
  {
   "cell_type": "code",
   "execution_count": 4,
   "metadata": {},
   "outputs": [],
   "source": [
    "#  ... Parameters for generalized-alpha method\n",
    "rho_inf = 0.01\n",
    "alpha_m = 0.5 * ((3. - rho_inf)/(1. + rho_inf))\n",
    "alpha_f = 1/(1. + rho_inf)\n",
    "gamma   = 0.5 + alpha_m - alpha_f\n",
    "\n",
    "# .. Defining the Linear form $G$\n",
    "u   = element_of(V, name='u')\n",
    "v   = element_of(V, name='v')\n",
    "w   = element_of(V, name='w')\n",
    "\n",
    "# time step\n",
    "t   = Constant(name='t')\n",
    "dt  = Constant(name='dt')\n",
    "u0  = element_of(V, name='u0') \n",
    "du0 = element_of(V, name='du0') \n",
    "\n",
    "# Linear form g: V --> R\n",
    "g = LinearForm(v, integral(domain, alpha_m * u * v + (alpha_f * gamma * dt) * (1+ w**2)*dot(grad(u), grad(v))))"
   ]
  },
  {
   "cell_type": "code",
   "execution_count": 5,
   "metadata": {},
   "outputs": [],
   "source": [
    "\n",
    "# ..SEVERAL EXAMPLES\n",
    "u_0      = sin(pi*x)*sin(pi*y**2)*exp(0.01)\n",
    "du_0     = -sin(pi*x)*sin(pi*y**2)*exp(0.01)\n",
    "f        = 4.04020066833667*pi**2*y**2*(1.0 + 1.02020134002676*exp(-2*t)*sin(pi*x)**2*sin(pi*y**2)**2)*exp(-t)*sin(pi*x)*sin(pi*y**2) - 8.24363627162813*pi**2*y**2*exp(-3*t)*sin(pi*x)**3*sin(pi*y**2)*cos(pi*y**2)**2 + 1.01005016708417*pi**2*(1.0 + 1.02020134002676*exp(-2*t)*sin(pi*x)**2*sin(pi*y**2)**2)*exp(-t)*sin(pi*x)*sin(pi*y**2) - 2.02010033416834*pi*(1.0 + 1.02020134002676*exp(-2*t)*sin(pi*x)**2*sin(pi*y**2)**2)*exp(-t)*sin(pi*x)*cos(pi*y**2) - 1.01005016708417*exp(-t)*sin(pi*x)*sin(pi*y**2) - 2.06090906790703*pi**2*exp(-3*t)*sin(pi*x)*sin(pi*y**2)**3*cos(pi*x)**2"
   ]
  },
  {
   "cell_type": "code",
   "execution_count": 6,
   "metadata": {},
   "outputs": [],
   "source": [
    "# Linear form l: V --> R\n",
    "l = LinearForm(v, integral(domain, ((alpha_f * gamma * dt ) *f + alpha_m * u0 + alpha_f*dt*(alpha_m-gamma)*du0) * v))"
   ]
  },
  {
   "cell_type": "code",
   "execution_count": 7,
   "metadata": {},
   "outputs": [],
   "source": [
    "F = LinearForm(v, g(v,w=u)-l(v))\n",
    "du  = element_of(V, name='du')\n",
    "\n",
    "# ...\n",
    "Fprime = linearize(F, u, trials=du)"
   ]
  },
  {
   "cell_type": "code",
   "execution_count": 8,
   "metadata": {},
   "outputs": [],
   "source": [
    "un  = element_of(V, name='un')\n",
    "\n",
    "# Bilinear form a: V x V --> R\n",
    "a = BilinearForm((u, v), g(v, u=u,w=un))\n",
    "\n",
    "# Dirichlet boundary conditions\n",
    "bc = [EssentialBC(u, 0, B_dirichlet_0)]"
   ]
  },
  {
   "cell_type": "code",
   "execution_count": 9,
   "metadata": {},
   "outputs": [],
   "source": [
    "# Dirichlet boundary conditions\n",
    "bc = [EssentialBC(du, 0, B_dirichlet_0)]\n",
    "\n",
    "# Variational problem\n",
    "equation   = find(du, forall=v, lhs=Fprime(du, v,u=un), rhs=-F(v,u=un), bc=bc)"
   ]
  },
  {
   "cell_type": "code",
   "execution_count": 10,
   "metadata": {},
   "outputs": [],
   "source": [
    "# Create computational domain from topological domain\n",
    "domain_h = discretize(domain, ncells=[32,32], comm=None)\n",
    "\n",
    "# Discrete spaces\n",
    "Vh = discretize(V, domain_h, degree=[2,2])\n",
    "\n",
    "# Discretize equation using Dirichlet bc\n",
    "equation_h = discretize(equation, domain_h, [Vh, Vh])"
   ]
  },
  {
   "cell_type": "code",
   "execution_count": 11,
   "metadata": {},
   "outputs": [],
   "source": [
    "\n",
    "def Time_dependent_Poisson(alpha_m, alpha_f, gamma, dt_h, nt, u0_h, du0_h, niter=10):\n",
    "\n",
    "    Tf    = dt_h*(nt+1)\n",
    "    t_h   = 0.\n",
    "    Un    = FemField( Vh, Vh.vector_space.zeros() )\n",
    "    dUn   = FemField( Vh, Vh.vector_space.zeros() )\n",
    "    Un_f  = FemField( Vh, Vh.vector_space.zeros() )\n",
    "    Un_f.coeffs[:,:]  = u0_h.coeffs[:,:] \n",
    "    # ...For t>t0\n",
    "    while t_h < Tf :\n",
    "        t_h += dt_h\n",
    "        solution = sin(pi*x)*sin(pi*y**2)*exp(0.01-t_h)\n",
    "        # .. Newton Method\n",
    "        for i in range(niter):\n",
    "            delta_x  = equation_h.solve(un=Un_f, u0 = u0_h, du0 = du0_h, dt = dt_h, t = t_h)\n",
    "            Un_f     = FemField( Vh, delta_x.coeffs + Un_f.coeffs )\n",
    "\n",
    "        Un.coeffs[:,:]  = Un_f.coeffs[:,:] / alpha_f + (1-1./alpha_f)*u0_h.coeffs[:,:]\n",
    "        dUn.coeffs[:,:] = Un.coeffs[:,:] /(gamma*dt_h) - u0_h.coeffs[:,:]/(gamma*dt_h) + (1.-1/gamma)*du0_h.coeffs[:,:]\n",
    "        # .. update u0\n",
    "        u0_h.coeffs[:,:]  = Un.coeffs[:,:]\n",
    "        du0_h.coeffs[:,:] = dUn.coeffs[:,:]\n",
    "        # Error norms\n",
    "        error    = u - solution\n",
    "        l2norm   = Norm(error, domain, kind='l2')\n",
    "        # Discretize error norms\n",
    "        l2norm_h = discretize(l2norm, domain_h, Vh)\n",
    "        # Compute error norms \n",
    "        l2_error = l2norm_h.assemble(u=Un)    \n",
    "\n",
    "        print('l2_error = ', l2_error)\n",
    "        \n",
    "    return Un"
   ]
  },
  {
   "cell_type": "code",
   "execution_count": 12,
   "metadata": {},
   "outputs": [
    {
     "name": "stdout",
     "output_type": "stream",
     "text": [
      "le-error =  7.37830296868844e-06\n",
      "le-error =  7.37830296868844e-06\n"
     ]
    }
   ],
   "source": [
    "#.. computes the projection of u_0 in the space\n",
    "a_app = BilinearForm((u, v),integral(domain,u*v))  \n",
    "l_app = LinearForm(v, integral(domain, u_0 * v) )\n",
    "#..\n",
    "equation_app = find(u, forall=v, lhs=a_app(u, v), rhs=l_app(v))\n",
    "#..\n",
    "equation_app_h = discretize(equation_app, domain_h, [Vh, Vh])\n",
    "# Solve linear system\n",
    "u0_h = equation_app_h.solve()\n",
    "# Error norms\n",
    "error  = u - u_0\n",
    "l2norm = Norm(error, domain, kind='l2')\n",
    "# Discretize error norms\n",
    "l2norm_h = discretize(l2norm, domain_h, Vh)\n",
    "print('le-error = ', l2norm_h.assemble(u=u0_h))\n",
    "\n",
    "#.. computes the projection of du_0 in the space\n",
    "a_app = BilinearForm((u, v),integral(domain,u*v))  \n",
    "l_app = LinearForm(v, integral(domain, du_0 * v) )\n",
    "#..\n",
    "equation_app = find(u, forall=v, lhs=a_app(u, v), rhs=l_app(v))\n",
    "#..\n",
    "equation_app_h = discretize(equation_app, domain_h, [Vh, Vh])\n",
    "# Solve linear system\n",
    "du0_h = equation_app_h.solve()\n",
    "# Error norms\n",
    "error  = u - du_0\n",
    "l2norm = Norm(error, domain, kind='l2')\n",
    "# Discretize error norms\n",
    "l2norm_h = discretize(l2norm, domain_h, Vh)\n",
    "print('le-error = ', l2norm_h.assemble(u=du0_h))"
   ]
  },
  {
   "cell_type": "code",
   "execution_count": 13,
   "metadata": {},
   "outputs": [
    {
     "name": "stdout",
     "output_type": "stream",
     "text": [
      "l2_error =  1.4264121650445806e-05\n",
      "l2_error =  2.4247361122405677e-05\n",
      "l2_error =  3.277562714980659e-05\n"
     ]
    }
   ],
   "source": [
    "dt_h     = 0.01\n",
    "nt       = 2\n",
    "un = Time_dependent_Poisson(alpha_m, alpha_f, gamma,dt_h, nt, u0_h, du0_h, niter=20)"
   ]
  },
  {
   "cell_type": "code",
   "execution_count": 14,
   "metadata": {},
   "outputs": [
    {
     "data": {
      "text/plain": [
       "<matplotlib.colorbar.Colorbar at 0x7fcd2d0a8e50>"
      ]
     },
     "execution_count": 14,
     "metadata": {},
     "output_type": "execute_result"
    },
    {
     "data": {
      "image/png": "[encoded data removed]",
      "text/plain": [
       "<Figure size 432x288 with 2 Axes>"
      ]
     },
     "metadata": {
      "needs_background": "light"
     },
     "output_type": "display_data"
    }
   ],
   "source": [
    "from matplotlib import pyplot as plt\n",
    "from simplines import plot_field_2d\n",
    "nbasis = [w.nbasis for w in Vh.spaces]\n",
    "p1,p2 = Vh.degree\n",
    "x = un.coeffs._data[p1:-p1,p2:-p2]\n",
    "u = x.reshape(nbasis)\n",
    "plot_field_2d(Vh.knots, Vh.degree, u) ; plt.colorbar()"
   ]
  }
 ],
 "metadata": {
  "kernelspec": {
   "display_name": "Python 3",
   "language": "python",
   "name": "python3"
  },
  "language_info": {
   "codemirror_mode": {
    "name": "ipython",
    "version": 3
   },
   "file_extension": ".py",
   "mimetype": "text/x-python",
   "name": "python",
   "nbconvert_exporter": "python",
   "pygments_lexer": "ipython3",
   "version": "3.7.6"
  }
 },
 "nbformat": 4,
 "nbformat_minor": 4
}
