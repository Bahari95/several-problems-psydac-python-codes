{
 "cells": [
  {
   "cell_type": "markdown",
   "metadata": {},
   "source": [
    "# Isogeometric analysis of the Cahn–Hilliard phase-field model"
   ]
  },
  {
   "cell_type": "markdown",
   "metadata": {},
   "source": [
    "\n",
    "\n",
    "This section is devoted to using the isogeometric analysis for the numerical approximation of the Cahn-Halliard equation to ensure a regularity needed in the presence of fourth-order operators. For numerical accuracy and stability characteristics, we integrate in time using ***generalized-$\\alpha$ method***. The goal is to test the r-refinement method as the mesh refinement method.\n",
    "."
   ]
  },
  {
   "cell_type": "markdown",
   "metadata": {},
   "source": [
    "## 1. The Cahn–Hilliard Equations"
   ]
  },
  {
   "cell_type": "markdown",
   "metadata": {},
   "source": [
    "  Let $\\Omega\\subset\\mathbb{R}^d$ be an open set with sufficiently smooth boundary, denoted by $\\Gamma$, where $d$ is the number of spatial dimensions. We denote by $\\mathbf{c}$ the concentration of one of the binary mixture components that we suppose governed by the Cahn-Halliard equation. Then, the problem stated in strong form as :"
   ]
  },
  {
   "cell_type": "markdown",
   "metadata": {},
   "source": [
    "Find $\\mathbf{c} :\\overline{\\Omega}\\times(0,T)\\longmapsto\\mathbb{R}$ such that \n",
    "## $\t\\begin{align*}\n",
    "\t\t\\left\\lbrace\\begin{array}{lll}\n",
    "\t\t\t\\dfrac{\\partial \\mathbf{c}}{\\partial t} ~~~~~=~ \\nabla \\cdot \\big(M_c\\nabla (\\mu_c - \\lambda\\Delta\\mathbf{c})\\big) &\\text{ in } \\Omega\\times(0,T) ,~~~~~~~~~~(1)\\\\\n",
    "\t\t    \\mathbf{c}~~~~~~~~ =~ g &\\text{ on } \\Gamma_g\\times(0,T),~~~~~~~~(2)\\\\\n",
    "            M_c\\nabla (\\mu_c - \\lambda\\Delta \\mathbf{c})\\cdot\\vec{n}  = s &\\text{ on } \\Gamma_s \\times(0,T),~~~~~~~~(3)\\\\     \n",
    "            M_c \\lambda\\nabla \\mathbf{c}\\cdot\\vec{n}  = 0 &\\text{ on } \\Gamma\\times(0,T),~~~~~~~~~~(4)\\\\   \n",
    "            \\mathbf{c}(x,0)  = \\mathbf{c}_0(x) &\\text{ in } \\overline{\\Omega},~~~~~~~~~~~~~~~~~~~~~~~~(5)\\\\         \n",
    "\t\t\\end{array}\\right.\n",
    "\t\\end{align*}$"
   ]
  },
  {
   "cell_type": "markdown",
   "metadata": {},
   "source": [
    "\n",
    "Where $\\mathbf{c}_0 :\\overline{\\Omega}\\longmapsto\\mathbb{R}$ is a given initial concentration functions. $M_c$ is the mobility, and $\\mu_c$ is the chemical potential of a regular solution in the absence of phase interface and $\\lambda$ is a positive constant such that $\\sqrt{\\lambda}$ represents a length scale of the problem. We consider a nonlinear relationship between the mobility and the concentration, by\n",
    "\n",
    "$$M_c = D~\\mathbf{c}~(1-\\mathbf{c})~~~~~~~~~~~~~~~~~~~~~~~~~~~~~~~~~~~~~~~~~~~~~~~~~~~~(6)$$ \n",
    "in which $D$ is a positive constant which has dimensions of diffusivity, that is, $length^2/time$. Finally, $\\mu_c$ is highly nonlinear function of the concentration defined as\n",
    "\n",
    "$$ \\mu_c= \\dfrac{1}{2\\theta}~log\\dfrac{\\mathbf{c}}{1-\\mathbf{c}} + 1 - 2~\\mathbf{c} ~~~~~~~~~~~~~~~~~~~~~~~~~~~~~~~~~~~~(7)$$\n",
    "\n",
    "where $\\theta$ is a dimensionless number which represents the artion between the critical temperature and the absolute temperature."
   ]
  },
  {
   "cell_type": "markdown",
   "metadata": {},
   "source": [
    "## 2. Variational form and semidiscrete formulation"
   ]
  },
  {
   "cell_type": "markdown",
   "metadata": {},
   "source": [
    "Let X be the functional space and $\\big(.,.\\big)_\\Omega$ denote the $L^2$ inner product with respect to  $\\Omega$. The variational formulation is stated as follows :\n",
    "\n",
    "Find $\\mathbf{c}\\in X$, such that $\\forall~w\\in X$ : \n",
    "\n",
    "$$\\textbf{B}\\big(w,\\mathbf{c}\\big) = 0 ~~~~~~~~~~~~~~~~~~~~~~~~~~~~~~~~~~~~~~~~~~~~~(8)$$"
   ]
  },
  {
   "cell_type": "markdown",
   "metadata": {},
   "source": [
    "with\n",
    "\n",
    "$\\begin{align*}\\textbf{B}\\big(w,\\mathbf{c}\\big) &= \\big(w,\\dfrac{\\partial\\mathbf{c}}{\\partial t}\\big)_\\Omega + \\big(\\nabla w, M_c \\nabla\\mu_c + \\nabla M_c\\Delta\\mathbf{c}\\big)_\\Omega + \\big(\\Delta\n",
    "w,M_c\\Delta\\mathbf{c}\\big)_\\Omega.~~~~~~~~~~~~~~~~~~~~~~~~~~~~~~~(9)\n",
    "\\end{align*}$"
   ]
  },
  {
   "cell_type": "markdown",
   "metadata": {},
   "source": [
    "The space discretization of (11) leads to the following variational problem over the finite element spaces : \n",
    "\n",
    "Find $\\mathbf{c}^h \\in X^h\\subset X$, such that $\\forall~w^h \\in X^h$ : \n",
    "\n",
    "$$\\textbf{B}\\big(w^h,\\mathbf{c}^h\\big) = 0 ~~~~~~~~~~~~~~~~~~~~~~~~~~~~~~~~~~~~~~~~~~~~~(10)$$\n",
    "\n",
    "where \n",
    "\n",
    "$$\\mathbf{c}^h = \\sum_{i=1}^{n_b} \\mathbf{c}_iN_i, ~~~ w^h = \\sum_{i=1}^{n_b} w_iN_i~~~~~~~~~~~~~~~~~~(11)$$\n",
    "\n",
    "$n_b$ is the dimension of discrete space."
   ]
  },
  {
   "cell_type": "markdown",
   "metadata": {},
   "source": [
    "## 3. Time discretization using the generalized-$\\alpha$ method"
   ]
  },
  {
   "cell_type": "markdown",
   "metadata": {},
   "source": [
    "Let $c$ and $\\dot{c}$ denote the vector of global degrees of freedom and its time derivative, respectively. We define the following residual vectors :\n",
    "$$\\mathbf{R}^c = \\Big\\{R_i\\Big\\}$$\n",
    "$$R_i = \\mathbf{B}\\big(N_i, \\mathbf{c}^h\\big)$$\n",
    "where we denote by $e_j$ is the j-th cartesian basis vector."
   ]
  },
  {
   "cell_type": "markdown",
   "metadata": {},
   "source": [
    "Given $\\mathbf{c}_n$, $\\dot{\\mathbf{c}}_n$ at the $n^{th}$ time $t_n$ and $\\Delta t_n = t_{n+1}-t_n$ the time step size, the generalized-$\\alpha$ method involves finding $\\dot{\\mathbf{c}}_{n+1}$, $\\mathbf{c}_{n+1}$, $\\mathbf{c}_{n+\\alpha_m}$, $\\mathbf{c}_{n+\\alpha_f}$ such that\n",
    "\n",
    "$$\\begin{align*}\n",
    "  \\mathbf{R}\\big(\\dot{\\mathbf{c}}_{n+\\alpha_m}, \\mathbf{c}_{n+\\alpha_f}\\big) &=0,~~~~~~~~~~~~~~~~~~~~~~~~~~~~~~~~~~~~~~~~~~~~~~~~~~~~~~~~~~~~~~~~~~~~~~~~~~~~~~~~~~~~~~~~~~~~(12)\\\\\n",
    "  \\mathbf{c}_{n+1} &= \\mathbf{c}_{n} + \\Delta t_n \\dot{\\mathbf{c}}_{n} + \\gamma \\Delta t_n \\big(\\dot{\\mathbf{c}}_{n+1} - \\dot{\\mathbf{c}}_{n}\\big),~~~~~~~~~~~~~~~~~~~~~~~~~~~~~~~~~~~~~~~~~~~~~(13)\\\\\n",
    "  \\dot{\\mathbf{c}}_{n+\\alpha_m} &= \\dot{\\mathbf{c}}_{n} + \\alpha_m \\big( \\dot{\\mathbf{c}}_{n+1} - \\dot{\\mathbf{c}}_{n}\\big),~~~~~~~~~~~~~~~~~~~~~~~~~~~~~~~~~~~~~~~~~~~~~~~~~~~~~~~~~~~~~~(14)\\\\\n",
    "  \\mathbf{c}_{n+\\alpha_f}  &= \\mathbf{c}_{n} + \\alpha_f \\big( \\mathbf{c}_{n+1} - \\mathbf{c}_{n}\\big)~~~~~~~~~~~~~~~~~~~~~~~~~~~~~~~~~~~~~~~~~~~~~~~~~~~~~~~~~~~~~~~~~(15)\n",
    " \\end{align*}$$\n",
    " \n",
    " where $\\alpha_m$ , $\\alpha_f$ and $\\gamma$ are real-valued parameters that define the method."
   ]
  },
  {
   "cell_type": "markdown",
   "metadata": {},
   "source": [
    "Jansen, Whiting and Hulbert proved that, the generalized-$\\alpha$ method is second-order accurate if and only if \n",
    "$$\\gamma = \\dfrac{1}{2} + \\alpha_m -\\alpha_f,~~~~~~~~~~~~~~~~~~~~~~~~~~~~~~~~~~~~~~~~~~~~~~~~~~~~~~~~~~~~~~~~~~~~~~~~~~~~~~~~~~~~~~~~~~~~~~~~~~(16)$$\n",
    "and it is unconditionally stable if and only if \n",
    "$$\\alpha_m \\geq \\alpha_f \\geq \\dfrac{1}{2}.~~~~~~~~~~~~~~~~~~~~~~~~~~~~~~~~~~~~~~~~~~~~~~~~~~~~~~~~~~~~~~~~~~~~~~~~~~~~~~~~~~~~~~~~~~~~~~~~~~~~~~~~~(17)$$ \n",
    "Hence, if (20) holds, then (17) becomes $$\\mathbf{c}_{n+1} = \\mathbf{c}_{n} + \\Delta t_n\\Big( \\dot{\\mathbf{c}}_{n + \\alpha_m} + \\big(\\alpha_f-\\dfrac{1}{2}\\big)\\dot{\\mathbf{c}}_{n} - \\big(\\alpha_f-\\dfrac{1}{2}\\big)\\dot{\\mathbf{c}}_{n+1}\\Big),~~~~~~~~~~~~~~~~~~~~~~~~~~~~~~~~~~~~(18)$$"
   ]
  },
  {
   "cell_type": "markdown",
   "metadata": {},
   "source": [
    "The parameters $\\alpha_m$ and $\\alpha_f$ can be chosen to be equal to\n",
    "\n",
    "$$\\alpha_m = \\dfrac{1}{2}\\big( \\dfrac{3-\\rho_\\infty}{1+\\rho_\\infty}\\big)$$\n",
    "\n",
    "$$\\alpha_m = \\dfrac{1}{1+\\rho_\\infty}$$\n",
    "where $\\rho_\\infty\\in [0,1]$ is the spectral radius of the amplification matrix as $\\Delta t \\rightarrow \\infty$, controls high-frequency dissipation."
   ]
  },
  {
   "cell_type": "markdown",
   "metadata": {},
   "source": [
    " # 4. Non-linear solver using Newton's method "
   ]
  },
  {
   "cell_type": "markdown",
   "metadata": {},
   "source": [
    "We approximate the non-linear system of equation (15-16) using Newton's method which leads to the following algorithm :\n",
    "\n",
    "1. Set \n",
    "  $$ \\mathbf{c}_{n+\\alpha_f, (0)} = \\mathbf{c}_n$$\n",
    "  \n",
    "  $$ \\mathbf{\\dot{c}}_{n+\\alpha_m, (0)} = \\dfrac{\\gamma-1}{\\gamma}\\mathbf{\\dot{c}}_n$$  \n",
    "  \n",
    "2. From the (14)-(15) we have the following system at the $\\alpha$-levels\n",
    " \n",
    " $$ \\mathbf{J_R} = \\alpha_m~~\\dfrac{\\mathbf{R}\\big(\\dot{\\mathbf{c}}_{n+\\alpha_m}, \\mathbf{c}_{n+\\alpha_f}\\big)}{\\partial \\mathbf{c}_{n+\\alpha_m}}+\\Delta t \\gamma\\alpha_f~~\\dfrac{\\mathbf{R}\\big(\\dot{\\mathbf{c}}_{n+\\alpha_m}, \\mathbf{c}_{n+\\alpha_f}\\big)}{\\partial \\mathbf{c}_{n+\\alpha_f}}$$\n",
    " \n",
    "  #### b- Newton Method\n",
    "##### Multicorrector stage: Repeat the following steps:\n",
    "###### 1.Evaluate iterates at the $\\alpha$-levels:\n",
    "where\n",
    "$$\\begin{align*}\n",
    "  \\dot{\\mathbf{c}}_{n+\\alpha_m,(i)} &= \\dot{\\mathbf{c}}_{n} + \\alpha_m \\big( \\dot{\\mathbf{c}}_{n+1,(i-1)} - \\dot{\\mathbf{c}}_{n}\\big),~~~~~~~~~~~~~~~~~~~~~~~~~~~~~~~~~~~~~~~~~~~~~~~~~~~~~~~~~~~~~~(14)\\\\\n",
    "  \\mathbf{c}_{n+\\alpha_f,(i)}  &= \\mathbf{c}_{n} + \\alpha_f \\big( \\mathbf{c}_{n+1,(i-1)} - \\mathbf{c}_{n}\\big)~~~~~~~~~~~~~~~~~~~~~~~~~~~~~~~~~~~~~~~~~~~~~~~~~~~~~~~~~~~~~~~~~(15)\n",
    " \\end{align*}$$\n",
    " \n",
    "###### 2. Use these a -level iterates to assemble the residual and the tangent matrix of the linear system:\n",
    "\n",
    "$$ \\mathbf{J_R}\\big(\\dot{\\mathbf{c}}_{n+\\alpha_m,(i)}, \\mathbf{c}_{n+\\alpha_f,(i)}\\big) \\Delta \\mathbf{c}_{n+1,(i)}= -\\mathbf{R}\\big(\\dot{\\mathbf{c}}_{n+\\alpha_m,(i)}, \\mathbf{c}_{n+\\alpha_f,(i)}\\big)$$\n",
    "\n",
    "\n",
    "###### 3. Use $\\Delta \\mathbf{c}_{n+1,(i)}$ to update the iterates as\n",
    "$$\\begin{align*}\n",
    "  \\dot{\\mathbf{c}}_{n+1,(i)} &= \\mathbf{\\dot{c}}_{n+1,(i-1)} + \\Delta t ~~\\gamma \\Delta \\mathbf{c}_{n+1,(i)},~~~~~~~~~~~~~~~~~~~~~~~~~~~~~~~~~~~~~~~~~~~~~~~~~~~~~~~~~~~~~~(14)\\\\\n",
    "  \\mathbf{\\dot{c}}_{n+1,(i)}  &= \\mathbf{\\dot{c}}_{n+1,(i-1)} + \\Delta \\mathbf{c}_{n+1,(i)}~~~~~~~~~~~~~~~~~~~~~~~~~~~~~~~~~~~~~~~~~~~~~~~~~~~~~~~~~~~~~~~~~(15)\n",
    " \\end{align*}$$\n",
    "  \n",
    "This complites one nonlinear iteration. The tolerance is given by reducing residual $\\mathbf{R}$ to $10^{-3}$ or $10^{-4}$."
   ]
  },
  {
   "cell_type": "markdown",
   "metadata": {},
   "source": [
    "# 5. Numerical implementation under psydac."
   ]
  },
  {
   "cell_type": "markdown",
   "metadata": {},
   "source": [
    "$\\textit{TODO}$"
   ]
  },
  {
   "cell_type": "code",
   "execution_count": 18,
   "metadata": {},
   "outputs": [],
   "source": [
    "from sympy import pi, cos, sin, exp, log, symbols, sqrt\n",
    "from sympy.utilities.lambdify import implemented_function\n",
    "import pytest\n",
    "\n",
    "from sympde.calculus import grad, dot\n",
    "from sympde.calculus import laplace, div\n",
    "from sympde.topology import ScalarFunctionSpace\n",
    "from sympde.topology import element_of\n",
    "from sympde.topology import NormalVector\n",
    "from sympde.topology import Square\n",
    "from sympde.topology import Union\n",
    "from sympde.expr     import BilinearForm, LinearForm, integral\n",
    "from sympde.expr     import Norm\n",
    "from sympde.expr     import find, EssentialBC\n",
    "from sympde.expr.expr import linearize\n",
    "from sympde.core     import Constant\n",
    "\n",
    "from psydac.fem.basic          import FemField\n",
    "from psydac.api.discretization import discretize\n",
    "\n",
    "x,y,z = symbols('x1, x2, x3')\n",
    "\n",
    "from sympy import diff\n",
    "dx  = lambda e: diff(e,x)\n",
    "dy  = lambda e: diff(e,y)\n",
    "\n",
    "from numpy import random, max, absolute\n",
    "import numpy as np\n",
    "\n",
    "#==============================================================================\n",
    "def get_boundaries(*args):\n",
    "\n",
    "    if not args:\n",
    "        return ()\n",
    "    else:\n",
    "        assert all(1 <= a <= 4 for a in args)\n",
    "        assert len(set(args)) == len(args)\n",
    "\n",
    "    boundaries = {1: {'axis': 0, 'ext': -1},\n",
    "                  2: {'axis': 0, 'ext':  1},\n",
    "                  3: {'axis': 1, 'ext': -1},\n",
    "                  4: {'axis': 1, 'ext':  1}}\n",
    "\n",
    "    return tuple(boundaries[i] for i in args)"
   ]
  },
  {
   "cell_type": "code",
   "execution_count": null,
   "metadata": {},
   "outputs": [],
   "source": [
    "from matplotlib import pyplot as plt\n",
    "#from simplines import plot_field_2d\n",
    "from psydac.utilities.utils import refine_array_1d \n",
    "import numpy as np\n",
    "levels = np.linspace(-0.,1.,100)\n",
    "\n",
    "def plot_field(field, N=40, i_sav = 0):\n",
    "    Vh = field.space\n",
    "    eta1 = refine_array_1d( Vh.spaces[0].breaks, N )\n",
    "    eta2 = refine_array_1d( Vh.spaces[1].breaks, N )\n",
    "    num = np.array( [[ field( e1,e2 ) for e2 in eta2] for e1 in eta1] )\n",
    "    plt.contourf( eta1, eta2, num, levels, cmap='jet' )  \n",
    "    plt.colorbar()\n",
    "    plt.savefig('figs/u_{}.png'.format(i_sav))\n",
    "    #plt.show(block=False) \n",
    "    plt.close()\n",
    "def plot_res(n_itime, dt_evol, Sol_CH, GL_fe):\n",
    "    # ...\n",
    "    plt.figure() \n",
    "    plt.axes().set_aspect('equal')\n",
    "    #plt.subplot(121)\n",
    "    plt.plot(n_itime, dt_evol, '*-b', linewidth = 2., label='$\\mathbf{time-step}$')\n",
    "    plt.xscale('log')\n",
    "    plt.yscale('log')\n",
    "    plt.grid(True)\n",
    "    plt.legend()\n",
    "    plt.savefig('figs/dt.png')\n",
    "    #plt.show(block=False)\n",
    "    plt.close()\n",
    "    # ---\n",
    "    plt.figure() \n",
    "    plt.axes().set_aspect('equal')\n",
    "    #plt.subplot(121)\n",
    "    plt.plot(n_itime, Sol_CH, 'o-k', linewidth = 2., label='$\\mathbf{2th-Statistical-Moment}$')\n",
    "    plt.xscale('log')\n",
    "    plt.grid(True)\n",
    "    plt.legend()\n",
    "    plt.savefig('figs/M2.png')\n",
    "    #plt.show(block=False)\n",
    "    plt.close()\n",
    "    # ---\n",
    "    plt.figure()\n",
    "    plt.axes().set_aspect('equal')\n",
    "    #plt.subplot(122)\n",
    "    plt.plot(n_itime, GL_fe,  '--or', label = '$\\mathbf{GL-free-energy}$' )\n",
    "    plt.xscale('log')\n",
    "    plt.grid(True)\n",
    "    plt.legend()\n",
    "    plt.subplots_adjust(wspace=0.3)\n",
    "    plt.savefig('figs/GlE.png')\n",
    "    #plt.show(block=False)\n",
    "    plt.close()"
   ]
  },
  {
   "cell_type": "code",
   "execution_count": 20,
   "metadata": {},
   "outputs": [],
   "source": [
    "# ..Topological domain\n",
    "domain         = Square()#bounds1=(0.,2.*pi**2), bounds2=(0.,2.*pi**2))\n",
    "#B_dirichlet_0 = domain.boundary\n",
    "# ..Function Space\n",
    "V  = ScalarFunctionSpace('V', domain)"
   ]
  },
  {
   "cell_type": "code",
   "execution_count": 21,
   "metadata": {},
   "outputs": [],
   "source": [
    "#  ... Parameters for generalized-alpha method\n",
    "alpha_m = Constant(name='alpha_m') #0.5 * ((3. - rho_inf)/(1. + rho_inf))\n",
    "alpha_f = Constant(name='alpha_f') #1/(1. + rho_inf)\n",
    "gamma   = Constant(name='gamma') #0.5 + alpha_m - alpha_f\n",
    "alpha   = 3000.\n",
    "theta   = 3./2\n",
    "# .. Defining the Linear form $G$\n",
    "u   = element_of(V, name='u')\n",
    "v   = element_of(V, name='v')\n",
    "w   = element_of(V, name='w')\n",
    "\n",
    "# time step\n",
    "t   = Constant(name='t')\n",
    "dt  = Constant(name='dt')\n",
    "u0  = element_of(V, name='u0') \n",
    "du0 = element_of(V, name='du0') "
   ]
  },
  {
   "cell_type": "code",
   "execution_count": 22,
   "metadata": {},
   "outputs": [],
   "source": [
    "# Bilinear form a: V x V --> R\n",
    "expr11 = ((3.*alpha/(2.*theta))*(1- 4.*theta*u0*(1.-u0)) + (1.-2.*u0)*laplace(u0) )*dot(grad(u), grad(v))\n",
    "expr12 = ( (-6.*alpha)*(1.-2.*u0)*u - 2.*u*laplace(u0) + (1.-2.*u0)*laplace(u) ) * dot(grad(u0),grad(v))\n",
    "#___\n",
    "expr21 = u0 * (1.-u0) * laplace(u) * laplace(v)\n",
    "expr22 = (1.-2.*u0)*u*laplace(u0)*laplace(v)\n",
    "a = BilinearForm((u, v), integral(domain, alpha_m * u * v + (alpha_f * gamma * dt) * ( expr11  + expr21 + expr12 + expr22 ) ))\n",
    "# Linear form l: V --> R\n",
    "l = LinearForm(v, integral(domain,  du0 * v + ((3.*alpha/(2.*theta))*(1. - 4.*theta*u0*(1.-u0) ) + (1.-2.*u0) * laplace(u0) ) * dot(grad(u0),grad(v)) + u0 * (1. - u0) * laplace(u0) * laplace(v)  ))\n",
    "\n",
    "# 2-order computes statistical moment\n",
    "l_SM = LinearForm(v, integral(domain,  (u0-du0)**2*v ))\n",
    "\n",
    "# ... Ginzburg–Landau free energy\n",
    "l_FE = LinearForm(v, integral(domain,  ( u0*log(abs(u0)) +(1-u0)*log(abs(1-u0)) + 2*theta*u0*(1.-u0) + theta/(3.*alpha)*sqrt(dx(u0)**2+dy(u0)**2) ) * v ))"
   ]
  },
  {
   "cell_type": "code",
   "execution_count": 23,
   "metadata": {},
   "outputs": [],
   "source": [
    "# Variational model\n",
    "equation = find(u, forall=v, lhs=a(u, v), rhs=-l(v) )"
   ]
  },
  {
   "cell_type": "code",
   "execution_count": 24,
   "metadata": {},
   "outputs": [],
   "source": [
    "# Create computational domain from topological domain\n",
    "domain_h = discretize(domain, ncells=[32,32])\n",
    "\n",
    "# Discrete spaces\n",
    "Vh = discretize(V, domain_h, degree=[2,2], periodic = [True, True])\n",
    "\n",
    "# Discretize equation using Dirichlet bc\n",
    "equation_h = discretize(equation, domain_h, [Vh, Vh], periodic = [True, True])\n",
    "\n",
    "# .. Computes Residual \n",
    "lh     = discretize(l, domain_h, Vh)\n",
    "\n",
    "# 2th-order computes statistical moment\n",
    "lh_sm  = discretize(l_SM, domain_h, Vh)\n",
    "\n",
    "# ... Ginzburg–Landau free energy\n",
    "lh_fe  = discretize(l_FE, domain_h, Vh)\n",
    "\n",
    "# ...\n",
    "nbasis = [w.nbasis for w in Vh.spaces]\n",
    "p1,p2  = Vh.degree"
   ]
  },
  {
   "cell_type": "code",
   "execution_count": 30,
   "metadata": {},
   "outputs": [],
   "source": [
    "def G_alpha_solve(alpha_mh, alpha_fh, gammah, dt_h, u0_h, du0_h, niter=50):\n",
    "    \n",
    "    Un_f    = FemField( Vh, Vh.vector_space.zeros() )\n",
    "    Un_m    = FemField( Vh, Vh.vector_space.zeros() )\n",
    "    # ... tools for G-alpha method\n",
    "    Un      = FemField( Vh, Vh.vector_space.zeros() )\n",
    "    dUn     = FemField( Vh, Vh.vector_space.zeros() )\n",
    "    # ...\n",
    "    Un.coeffs._data[p1:-p1,p2:-p2]  = u0_h.coeffs._data[p1:-p1,p2:-p2]\n",
    "    Un.coeffs.update_ghost_regions()\n",
    "    dUn.coeffs._data[p1:-p1,p2:-p2] = (gammah-1.)/gammah * du0_h.coeffs._data[p1:-p1,p2:-p2]         \n",
    "    dUn.coeffs.update_ghost_regions()\n",
    "    #...Newton iteration for non-linear system\n",
    "    for i in range(niter):\n",
    "        #... alpha level\n",
    "        Un_m.coeffs._data[p1:-p1,p2:-p2] = du0_h.coeffs._data[p1:-p1,p2:-p2] + alpha_mh *(dUn.coeffs._data[p1:-p1,p2:-p2]- du0_h.coeffs._data[p1:-p1,p2:-p2])\n",
    "        Un_m.coeffs.update_ghost_regions()\n",
    "        Un_f.coeffs._data[p1:-p1,p2:-p2] = u0_h.coeffs._data[p1:-p1,p2:-p2] + alpha_fh *(Un.coeffs._data[p1:-p1,p2:-p2]- u0_h.coeffs._data[p1:-p1,p2:-p2])\n",
    "        Un_f.coeffs.update_ghost_regions()\n",
    "\n",
    "        delta_x  = equation_h.solve(u0 = Un_f, du0 = Un_m, dt = dt_h, alpha_m = alpha_mh, alpha_f = alpha_fh, gamma = gammah)\n",
    "        # ...\n",
    "        Un.coeffs._data[p1:-p1,p2:-p2]  = Un.coeffs._data[p1:-p1,p2:-p2] + gammah * dt_h * delta_x.coeffs._data[p1:-p1,p2:-p2]\n",
    "        Un.coeffs.update_ghost_regions() \n",
    "        dUn.coeffs._data[p1:-p1,p2:-p2] = dUn.coeffs._data[p1:-p1,p2:-p2] + delta_x.coeffs._data[p1:-p1,p2:-p2] \n",
    "        dUn.coeffs.update_ghost_regions() \n",
    "\n",
    "        # assemble the rhs and convert it to numpy array\n",
    "        res = lh.assemble(u0=Un_f, du0=Un_m).toarray()\n",
    "        Res        = max(absolute(res))\n",
    "\n",
    "        if Res < 1e-4 :\n",
    "            print('perform the iteration number : = {} Residual  = {}'.format( i, Res))\n",
    "            break\n",
    "    return Un, dUn\n",
    "    "
   ]
  },
  {
   "cell_type": "code",
   "execution_count": 33,
   "metadata": {},
   "outputs": [],
   "source": [
    "def Time_dependent_Poisson(Tf, t_h, u0_h, du0_h, Sol_CH, GL_fe, dt_evol, n_itime, dt_h):\n",
    "    # ...\n",
    "    U0      = FemField( Vh, Vh.vector_space.zeros() )\n",
    "    U0.coeffs._data[p1:-p1,p2:-p2]  = u0_h.coeffs._data[p1:-p1,p2:-p2]\n",
    "\n",
    "    #  ... Parameters for generalized-alpha method\n",
    "    rho_infh = 0.5\n",
    "    alpha_mh = 0.5 * ((3. - rho_infh)/(1. + rho_infh))\n",
    "    alpha_fh = 1/(1. + rho_infh)\n",
    "    gammah   = 0.5 + alpha_mh - alpha_fh\n",
    "    # ...For t>t0\n",
    "    i_sav   = 0\n",
    "    i_refus = 0\n",
    "    plot_field(u0_h, N=2, i_sav = i_sav)\n",
    "    while t_h < Tf :\n",
    "        t_h += dt_h\n",
    "        # ...\n",
    "        Un, dUn       = G_alpha_solve(alpha_mh, alpha_fh, gammah, dt_h, u0_h, du0_h)\n",
    "        BE_Un         = G_alpha_solve(1., 1., 1., dt_h, u0_h, du0_h)[0]\n",
    "        # ...\n",
    "        norm_dif      = np.sqrt(np.sum(lh_sm.assemble(u0=Un, du0=BE_Un).toarray())) \n",
    "        norm_sol      = np.sqrt(np.sum(lh_sm.assemble(u0=2.*Un, du0=Un).toarray()))\n",
    "        ro_n          = norm_dif/norm_sol\n",
    "        dt_l          = dt_h\n",
    "        dt_h          = 0.9*(1e-3/ro_n)**(1/2) * dt_h\n",
    "        print('ro_n=', ro_n,'computed dt before refusion', dt_h)\n",
    "        while(ro_n>1e-3):\n",
    "            i_refus += 1\n",
    "            Un, dUn       = G_alpha_solve(alpha_mh, alpha_fh, gammah, dt_h, u0_h, du0_h)\n",
    "            BE_Un         = G_alpha_solve(1., 1., 1., dt_h, u0_h, du0_h)[0]\n",
    "            # ...\n",
    "            norm_dif      = np.sqrt(np.sum(lh_sm.assemble(u0=Un, du0=BE_Un).toarray())) \n",
    "            norm_sol      = np.sqrt(np.sum(lh_sm.assemble(u0=2.*Un, du0=Un).toarray()))\n",
    "            ro_n          = norm_dif/norm_sol\n",
    "            dt_l          = dt_h\n",
    "            dt_h          = 0.9*(1e-3/ro_n)**(1/2) * dt_h\n",
    "            print('ro_n=', ro_n, 'computed dt after refusion', dt_h)\n",
    "        # .. update u0\n",
    "        u0_h.coeffs._data[p1:-p1,p2:-p2]  = Un.coeffs._data[p1:-p1,p2:-p2]\n",
    "        u0_h.coeffs.update_ghost_regions()\n",
    "        du0_h.coeffs._data[p1:-p1,p2:-p2] = dUn.coeffs._data[p1:-p1,p2:-p2]\n",
    "        du0_h.coeffs.update_ghost_regions()\n",
    "        i_sav +=1 \n",
    "        plot_field(u0_h, N=2, i_sav = i_sav)\n",
    "        \n",
    "        # ...\n",
    "        dt_evol.append(np.exp(float(np.format_float_scientific( dt_l, unique=False, precision=2)))-1.)\n",
    "        n_itime.append(np.exp(float(np.format_float_scientific( t_h, unique=False, precision=2)))-1.)\n",
    "        Sol_CH.append(np.sum(lh_sm.assemble(u0=U0, du0=u0_h).toarray()))\n",
    "        GL_fe.append(np.sum(lh_fe.assemble(u0=u0_h).toarray()))\n",
    "        print('time step = ', t_h,'i_sav', i_sav, 'i_refus', i_refus)\n",
    "        plot_res(n_itime, dt_evol, Sol_CH, GL_fe)\n",
    "    return u0_h, du0_h, Sol_CH, GL_fe, dt_evol, n_itime, dt_h"
   ]
  },
  {
   "cell_type": "code",
   "execution_count": 27,
   "metadata": {},
   "outputs": [],
   "source": [
    "u0_h    = FemField( Vh, Vh.vector_space.zeros() )\n",
    "u0_h.coeffs._data[p1:-p1,p2:-p2] = (1.-2.*random.rand(nbasis[0],nbasis[1]))*0.05 +0.63\n",
    "u0_h.coeffs.update_ghost_regions() \n",
    "\n",
    "#.. computes the projection of du_0 in the space\n",
    "a_app = BilinearForm((u, v),integral(domain,u*v))  \n",
    "#.. \n",
    "l_app = LinearForm(v, integral(domain,  ( (3.*alpha/(2.*theta)) * (1.-4.*theta*u0*(1.-u0)) + (1.-2.*u0)*laplace(u0)) *dot(grad(u0), grad(v)) + u0*(1.-u0)*laplace(u0)*laplace(v)  ))\n",
    "\n",
    "#..\n",
    "equation_app = find(u, forall=v, lhs=a_app(u, v), rhs= -l_app(v))\n",
    "#..\n",
    "equation_app_h = discretize(equation_app, domain_h, [Vh, Vh], periodic = [True, True])\n",
    "# Solve linear system\n",
    "du0_h = equation_app_h.solve(u0 = u0_h)\n",
    "du0_h.coeffs.update_ghost_regions() "
   ]
  },
  {
   "cell_type": "code",
   "execution_count": null,
   "metadata": {},
   "outputs": [],
   "source": [
    "Tf      = 1.\n",
    "t_h     = 0.\n",
    "Sol_CH  = []\n",
    "GL_fe   = []\n",
    "dt_evol = []\n",
    "n_itime = []\n",
    "dt_h    = 1e-8"
   ]
  },
  {
   "cell_type": "code",
   "execution_count": 34,
   "metadata": {},
   "outputs": [
    {
     "name": "stdout",
     "output_type": "stream",
     "text": [
      "perform the iteration number : = 2 Residual  = 8.090576830710461e-08\n",
      "perform the iteration number : = 2 Residual  = 1.4947866917580654e-06\n",
      "ro_n= 0.00025548801887315375 computed dt before refusion 1.7805625718891164e-07\n",
      "time step =  1e-07 i_sav 1 i_refus 0\n"
     ]
    },
    {
     "name": "stderr",
     "output_type": "stream",
     "text": [
      "/home/bahari/anaconda3/lib/python3.7/site-packages/ipykernel_launcher.py:38: UserWarning: aspect is not supported for Axes with xscale=log, yscale=linear\n",
      "/home/bahari/anaconda3/lib/python3.7/site-packages/ipykernel_launcher.py:50: UserWarning: aspect is not supported for Axes with xscale=log, yscale=linear\n"
     ]
    },
    {
     "name": "stdout",
     "output_type": "stream",
     "text": [
      "perform the iteration number : = 2 Residual  = 4.4191735995013914e-06\n",
      "perform the iteration number : = 3 Residual  = 5.7281290821720177e-11\n",
      "ro_n= 0.000907692686882207 computed dt before refusion 1.6820168081483864e-07\n",
      "time step =  2.780562571889116e-07 i_sav 2 i_refus 0\n"
     ]
    },
    {
     "name": "stderr",
     "output_type": "stream",
     "text": [
      "/home/bahari/anaconda3/lib/python3.7/site-packages/ipykernel_launcher.py:38: UserWarning: aspect is not supported for Axes with xscale=log, yscale=linear\n",
      "/home/bahari/anaconda3/lib/python3.7/site-packages/ipykernel_launcher.py:50: UserWarning: aspect is not supported for Axes with xscale=log, yscale=linear\n"
     ]
    },
    {
     "name": "stdout",
     "output_type": "stream",
     "text": [
      "perform the iteration number : = 2 Residual  = 7.682371438555435e-06\n",
      "perform the iteration number : = 3 Residual  = 4.5648818058907636e-11\n",
      "ro_n= 0.0010147970360734138 computed dt before refusion 1.5027379207043172e-07\n",
      "perform the iteration number : = 2 Residual  = 3.866113929440473e-06\n",
      "perform the iteration number : = 2 Residual  = 8.094969367267169e-05\n",
      "ro_n= 0.0007821902539780263 computed dt after refusion 1.5292185409396443e-07\n",
      "time step =  4.4625793800375025e-07 i_sav 3 i_refus 1\n"
     ]
    },
    {
     "name": "stderr",
     "output_type": "stream",
     "text": [
      "/home/bahari/anaconda3/lib/python3.7/site-packages/ipykernel_launcher.py:38: UserWarning: aspect is not supported for Axes with xscale=log, yscale=linear\n",
      "/home/bahari/anaconda3/lib/python3.7/site-packages/ipykernel_launcher.py:50: UserWarning: aspect is not supported for Axes with xscale=log, yscale=linear\n"
     ]
    },
    {
     "name": "stdout",
     "output_type": "stream",
     "text": [
      "perform the iteration number : = 2 Residual  = 9.282743688387995e-06\n",
      "perform the iteration number : = 3 Residual  = 1.2694956197378815e-10\n",
      "ro_n= 0.0009755609995553363 computed dt before refusion 1.3934290147125402e-07\n",
      "time step =  5.991797920977147e-07 i_sav 4 i_refus 1\n"
     ]
    },
    {
     "name": "stderr",
     "output_type": "stream",
     "text": [
      "/home/bahari/anaconda3/lib/python3.7/site-packages/ipykernel_launcher.py:38: UserWarning: aspect is not supported for Axes with xscale=log, yscale=linear\n",
      "/home/bahari/anaconda3/lib/python3.7/site-packages/ipykernel_launcher.py:50: UserWarning: aspect is not supported for Axes with xscale=log, yscale=linear\n"
     ]
    },
    {
     "name": "stdout",
     "output_type": "stream",
     "text": [
      "perform the iteration number : = 2 Residual  = 1.1316810152095513e-05\n",
      "perform the iteration number : = 3 Residual  = 7.324718609424963e-11\n",
      "ro_n= 0.0009671210057844448 computed dt before refusion 1.2752253891028163e-07\n",
      "time step =  7.385226935689687e-07 i_sav 5 i_refus 1\n"
     ]
    },
    {
     "name": "stderr",
     "output_type": "stream",
     "text": [
      "/home/bahari/anaconda3/lib/python3.7/site-packages/ipykernel_launcher.py:38: UserWarning: aspect is not supported for Axes with xscale=log, yscale=linear\n",
      "/home/bahari/anaconda3/lib/python3.7/site-packages/ipykernel_launcher.py:50: UserWarning: aspect is not supported for Axes with xscale=log, yscale=linear\n"
     ]
    },
    {
     "name": "stdout",
     "output_type": "stream",
     "text": [
      "perform the iteration number : = 2 Residual  = 1.2966109173007112e-05\n",
      "perform the iteration number : = 3 Residual  = 6.034905908336441e-11\n",
      "ro_n= 0.0009403820306834973 computed dt before refusion 1.1835246270632898e-07\n",
      "time step =  8.660452324792503e-07 i_sav 6 i_refus 1\n"
     ]
    },
    {
     "name": "stderr",
     "output_type": "stream",
     "text": [
      "/home/bahari/anaconda3/lib/python3.7/site-packages/ipykernel_launcher.py:38: UserWarning: aspect is not supported for Axes with xscale=log, yscale=linear\n",
      "/home/bahari/anaconda3/lib/python3.7/site-packages/ipykernel_launcher.py:50: UserWarning: aspect is not supported for Axes with xscale=log, yscale=linear\n"
     ]
    },
    {
     "name": "stdout",
     "output_type": "stream",
     "text": [
      "perform the iteration number : = 2 Residual  = 1.4816131370665175e-05\n",
      "perform the iteration number : = 3 Residual  = 4.7112702628027137e-11\n",
      "ro_n= 0.0009258828669552339 computed dt before refusion 1.1069851242294807e-07\n",
      "time step =  9.843976951855793e-07 i_sav 7 i_refus 1\n"
     ]
    },
    {
     "name": "stderr",
     "output_type": "stream",
     "text": [
      "/home/bahari/anaconda3/lib/python3.7/site-packages/ipykernel_launcher.py:38: UserWarning: aspect is not supported for Axes with xscale=log, yscale=linear\n",
      "/home/bahari/anaconda3/lib/python3.7/site-packages/ipykernel_launcher.py:50: UserWarning: aspect is not supported for Axes with xscale=log, yscale=linear\n"
     ]
    },
    {
     "name": "stdout",
     "output_type": "stream",
     "text": [
      "perform the iteration number : = 2 Residual  = 1.6441347291618058e-05\n",
      "perform the iteration number : = 3 Residual  = 1.0365844987925144e-10\n",
      "ro_n= 0.0009082359501518095 computed dt before refusion 1.0454059079266635e-07\n",
      "time step =  1.0950962076085273e-06 i_sav 8 i_refus 1\n"
     ]
    },
    {
     "name": "stderr",
     "output_type": "stream",
     "text": [
      "/home/bahari/anaconda3/lib/python3.7/site-packages/ipykernel_launcher.py:38: UserWarning: aspect is not supported for Axes with xscale=log, yscale=linear\n",
      "/home/bahari/anaconda3/lib/python3.7/site-packages/ipykernel_launcher.py:50: UserWarning: aspect is not supported for Axes with xscale=log, yscale=linear\n"
     ]
    },
    {
     "name": "stdout",
     "output_type": "stream",
     "text": [
      "perform the iteration number : = 2 Residual  = 2.2075568963941805e-05\n",
      "perform the iteration number : = 3 Residual  = 5.503508759829856e-11\n",
      "ro_n= 0.0008898169336117959 computed dt before refusion 9.974178275277746e-08\n",
      "time step =  1.1996367984011938e-06 i_sav 9 i_refus 1\n"
     ]
    },
    {
     "name": "stderr",
     "output_type": "stream",
     "text": [
      "/home/bahari/anaconda3/lib/python3.7/site-packages/ipykernel_launcher.py:38: UserWarning: aspect is not supported for Axes with xscale=log, yscale=linear\n",
      "/home/bahari/anaconda3/lib/python3.7/site-packages/ipykernel_launcher.py:50: UserWarning: aspect is not supported for Axes with xscale=log, yscale=linear\n"
     ]
    },
    {
     "name": "stdout",
     "output_type": "stream",
     "text": [
      "perform the iteration number : = 2 Residual  = 7.068736419313382e-05\n",
      "perform the iteration number : = 3 Residual  = 1.474376176702208e-10\n",
      "ro_n= 0.0008713805905092571 computed dt before refusion 9.616470303571495e-08\n",
      "time step =  1.2993785811539712e-06 i_sav 10 i_refus 1\n"
     ]
    },
    {
     "name": "stderr",
     "output_type": "stream",
     "text": [
      "/home/bahari/anaconda3/lib/python3.7/site-packages/ipykernel_launcher.py:38: UserWarning: aspect is not supported for Axes with xscale=log, yscale=linear\n",
      "/home/bahari/anaconda3/lib/python3.7/site-packages/ipykernel_launcher.py:50: UserWarning: aspect is not supported for Axes with xscale=log, yscale=linear\n"
     ]
    },
    {
     "name": "stdout",
     "output_type": "stream",
     "text": [
      "perform the iteration number : = 3 Residual  = 5.495159882684675e-11\n",
      "perform the iteration number : = 3 Residual  = 6.732108204232645e-10\n",
      "ro_n= 0.000853769960675449 computed dt before refusion 9.366724982719296e-08\n",
      "time step =  1.3955432841896862e-06 i_sav 11 i_refus 1\n"
     ]
    },
    {
     "name": "stderr",
     "output_type": "stream",
     "text": [
      "/home/bahari/anaconda3/lib/python3.7/site-packages/ipykernel_launcher.py:38: UserWarning: aspect is not supported for Axes with xscale=log, yscale=linear\n",
      "/home/bahari/anaconda3/lib/python3.7/site-packages/ipykernel_launcher.py:50: UserWarning: aspect is not supported for Axes with xscale=log, yscale=linear\n"
     ]
    },
    {
     "name": "stdout",
     "output_type": "stream",
     "text": [
      "perform the iteration number : = 3 Residual  = 6.203393354553555e-11\n",
      "perform the iteration number : = 3 Residual  = 1.967606522157439e-09\n",
      "ro_n= 0.0008379623139219394 computed dt before refusion 9.209117937201134e-08\n",
      "time step =  1.4892105340168792e-06 i_sav 12 i_refus 1\n"
     ]
    },
    {
     "name": "stderr",
     "output_type": "stream",
     "text": [
      "/home/bahari/anaconda3/lib/python3.7/site-packages/ipykernel_launcher.py:38: UserWarning: aspect is not supported for Axes with xscale=log, yscale=linear\n",
      "/home/bahari/anaconda3/lib/python3.7/site-packages/ipykernel_launcher.py:50: UserWarning: aspect is not supported for Axes with xscale=log, yscale=linear\n"
     ]
    },
    {
     "name": "stdout",
     "output_type": "stream",
     "text": [
      "perform the iteration number : = 3 Residual  = 7.086775610787299e-11\n",
      "perform the iteration number : = 3 Residual  = 3.878525944855937e-09\n",
      "ro_n= 0.0008244729514327307 computed dt before refusion 9.127930782135392e-08\n",
      "time step =  1.5813017133888906e-06 i_sav 13 i_refus 1\n"
     ]
    },
    {
     "name": "stderr",
     "output_type": "stream",
     "text": [
      "/home/bahari/anaconda3/lib/python3.7/site-packages/ipykernel_launcher.py:38: UserWarning: aspect is not supported for Axes with xscale=log, yscale=linear\n",
      "/home/bahari/anaconda3/lib/python3.7/site-packages/ipykernel_launcher.py:50: UserWarning: aspect is not supported for Axes with xscale=log, yscale=linear\n"
     ]
    },
    {
     "name": "stdout",
     "output_type": "stream",
     "text": [
      "perform the iteration number : = 3 Residual  = 9.724132610244851e-11\n",
      "perform the iteration number : = 3 Residual  = 5.244046974439698e-09\n",
      "ro_n= 0.0008133774747208287 computed dt before refusion 9.108959623564648e-08\n",
      "time step =  1.6725810212102445e-06 i_sav 14 i_refus 1\n"
     ]
    },
    {
     "name": "stderr",
     "output_type": "stream",
     "text": [
      "/home/bahari/anaconda3/lib/python3.7/site-packages/ipykernel_launcher.py:38: UserWarning: aspect is not supported for Axes with xscale=log, yscale=linear\n",
      "/home/bahari/anaconda3/lib/python3.7/site-packages/ipykernel_launcher.py:50: UserWarning: aspect is not supported for Axes with xscale=log, yscale=linear\n"
     ]
    },
    {
     "name": "stdout",
     "output_type": "stream",
     "text": [
      "perform the iteration number : = 3 Residual  = 6.320988177321851e-11\n",
      "perform the iteration number : = 3 Residual  = 5.0117989758291515e-09\n",
      "ro_n= 0.000805089986152822 computed dt before refusion 9.136693873384207e-08\n",
      "time step =  1.763670617445891e-06 i_sav 15 i_refus 1\n"
     ]
    },
    {
     "name": "stderr",
     "output_type": "stream",
     "text": [
      "/home/bahari/anaconda3/lib/python3.7/site-packages/ipykernel_launcher.py:38: UserWarning: aspect is not supported for Axes with xscale=log, yscale=linear\n",
      "/home/bahari/anaconda3/lib/python3.7/site-packages/ipykernel_launcher.py:50: UserWarning: aspect is not supported for Axes with xscale=log, yscale=linear\n"
     ]
    },
    {
     "name": "stdout",
     "output_type": "stream",
     "text": [
      "perform the iteration number : = 3 Residual  = 6.742340019627591e-11\n",
      "perform the iteration number : = 3 Residual  = 3.524128544540872e-09\n",
      "ro_n= 0.0008011031970921008 computed dt before refusion 9.187288429396639e-08\n",
      "time step =  1.855037556179733e-06 i_sav 16 i_refus 1\n"
     ]
    },
    {
     "name": "stderr",
     "output_type": "stream",
     "text": [
      "/home/bahari/anaconda3/lib/python3.7/site-packages/ipykernel_launcher.py:38: UserWarning: aspect is not supported for Axes with xscale=log, yscale=linear\n",
      "/home/bahari/anaconda3/lib/python3.7/site-packages/ipykernel_launcher.py:50: UserWarning: aspect is not supported for Axes with xscale=log, yscale=linear\n"
     ]
    },
    {
     "name": "stdout",
     "output_type": "stream",
     "text": [
      "perform the iteration number : = 3 Residual  = 9.750777962835855e-11\n",
      "perform the iteration number : = 3 Residual  = 3.641417833932792e-09\n",
      "ro_n= 0.000803267015016458 computed dt before refusion 9.225712011535813e-08\n",
      "time step =  1.9469104404736995e-06 i_sav 17 i_refus 1\n"
     ]
    },
    {
     "name": "stderr",
     "output_type": "stream",
     "text": [
      "/home/bahari/anaconda3/lib/python3.7/site-packages/ipykernel_launcher.py:38: UserWarning: aspect is not supported for Axes with xscale=log, yscale=linear\n",
      "/home/bahari/anaconda3/lib/python3.7/site-packages/ipykernel_launcher.py:50: UserWarning: aspect is not supported for Axes with xscale=log, yscale=linear\n"
     ]
    },
    {
     "name": "stdout",
     "output_type": "stream",
     "text": [
      "perform the iteration number : = 3 Residual  = 1.1722889325938013e-10\n",
      "perform the iteration number : = 3 Residual  = 5.576865191869729e-09\n",
      "ro_n= 0.0008117436555821173 computed dt before refusion 9.215798098437336e-08\n",
      "time step =  2.0391675605890576e-06 i_sav 18 i_refus 1\n"
     ]
    },
    {
     "name": "stderr",
     "output_type": "stream",
     "text": [
      "/home/bahari/anaconda3/lib/python3.7/site-packages/ipykernel_launcher.py:38: UserWarning: aspect is not supported for Axes with xscale=log, yscale=linear\n",
      "/home/bahari/anaconda3/lib/python3.7/site-packages/ipykernel_launcher.py:50: UserWarning: aspect is not supported for Axes with xscale=log, yscale=linear\n"
     ]
    },
    {
     "name": "stdout",
     "output_type": "stream",
     "text": [
      "perform the iteration number : = 3 Residual  = 6.423661602639186e-11\n",
      "perform the iteration number : = 3 Residual  = 5.2048392262804555e-09\n",
      "ro_n= 0.0008238185811355216 computed dt before refusion 9.138179180684984e-08\n",
      "time step =  2.1313255415734308e-06 i_sav 19 i_refus 1\n"
     ]
    },
    {
     "name": "stderr",
     "output_type": "stream",
     "text": [
      "/home/bahari/anaconda3/lib/python3.7/site-packages/ipykernel_launcher.py:38: UserWarning: aspect is not supported for Axes with xscale=log, yscale=linear\n",
      "/home/bahari/anaconda3/lib/python3.7/site-packages/ipykernel_launcher.py:50: UserWarning: aspect is not supported for Axes with xscale=log, yscale=linear\n"
     ]
    },
    {
     "name": "stdout",
     "output_type": "stream",
     "text": [
      "perform the iteration number : = 3 Residual  = 7.526423928538861e-11\n",
      "perform the iteration number : = 3 Residual  = 3.957758565320546e-09\n",
      "ro_n= 0.0008347509024073898 computed dt before refusion 9.001683317717868e-08\n",
      "time step =  2.2227073333802807e-06 i_sav 20 i_refus 1\n"
     ]
    },
    {
     "name": "stderr",
     "output_type": "stream",
     "text": [
      "/home/bahari/anaconda3/lib/python3.7/site-packages/ipykernel_launcher.py:38: UserWarning: aspect is not supported for Axes with xscale=log, yscale=linear\n",
      "/home/bahari/anaconda3/lib/python3.7/site-packages/ipykernel_launcher.py:50: UserWarning: aspect is not supported for Axes with xscale=log, yscale=linear\n"
     ]
    },
    {
     "name": "stdout",
     "output_type": "stream",
     "text": [
      "perform the iteration number : = 3 Residual  = 6.912137529013762e-11\n",
      "perform the iteration number : = 3 Residual  = 5.240586631316546e-09\n",
      "ro_n= 0.0008397174580910009 computed dt before refusion 8.84096453562565e-08\n",
      "time step =  2.312724166557459e-06 i_sav 21 i_refus 1\n"
     ]
    },
    {
     "name": "stderr",
     "output_type": "stream",
     "text": [
      "/home/bahari/anaconda3/lib/python3.7/site-packages/ipykernel_launcher.py:38: UserWarning: aspect is not supported for Axes with xscale=log, yscale=linear\n",
      "/home/bahari/anaconda3/lib/python3.7/site-packages/ipykernel_launcher.py:50: UserWarning: aspect is not supported for Axes with xscale=log, yscale=linear\n"
     ]
    },
    {
     "name": "stdout",
     "output_type": "stream",
     "text": [
      "perform the iteration number : = 3 Residual  = 6.459188739427191e-11\n",
      "perform the iteration number : = 3 Residual  = 4.56110171853652e-09\n",
      "ro_n= 0.0008362144906692106 computed dt before refusion 8.701283390357138e-08\n",
      "time step =  2.4011338119137157e-06 i_sav 22 i_refus 1\n"
     ]
    },
    {
     "name": "stderr",
     "output_type": "stream",
     "text": [
      "/home/bahari/anaconda3/lib/python3.7/site-packages/ipykernel_launcher.py:38: UserWarning: aspect is not supported for Axes with xscale=log, yscale=linear\n",
      "/home/bahari/anaconda3/lib/python3.7/site-packages/ipykernel_launcher.py:50: UserWarning: aspect is not supported for Axes with xscale=log, yscale=linear\n"
     ]
    },
    {
     "name": "stdout",
     "output_type": "stream",
     "text": [
      "perform the iteration number : = 3 Residual  = 1.1729106574875914e-10\n",
      "perform the iteration number : = 3 Residual  = 2.931081155566062e-09\n",
      "ro_n= 0.0008253481483794537 computed dt before refusion 8.619999331041662e-08\n",
      "time step =  2.4881466458172873e-06 i_sav 23 i_refus 1\n"
     ]
    },
    {
     "name": "stderr",
     "output_type": "stream",
     "text": [
      "/home/bahari/anaconda3/lib/python3.7/site-packages/ipykernel_launcher.py:38: UserWarning: aspect is not supported for Axes with xscale=log, yscale=linear\n",
      "/home/bahari/anaconda3/lib/python3.7/site-packages/ipykernel_launcher.py:50: UserWarning: aspect is not supported for Axes with xscale=log, yscale=linear\n"
     ]
    },
    {
     "name": "stdout",
     "output_type": "stream",
     "text": [
      "perform the iteration number : = 3 Residual  = 1.1007905698079412e-10\n",
      "perform the iteration number : = 3 Residual  = 2.596024728518387e-09\n",
      "ro_n= 0.0008103544824937959 computed dt before refusion 8.618113753085256e-08\n",
      "time step =  2.574346639127704e-06 i_sav 24 i_refus 1\n"
     ]
    },
    {
     "name": "stderr",
     "output_type": "stream",
     "text": [
      "/home/bahari/anaconda3/lib/python3.7/site-packages/ipykernel_launcher.py:38: UserWarning: aspect is not supported for Axes with xscale=log, yscale=linear\n",
      "/home/bahari/anaconda3/lib/python3.7/site-packages/ipykernel_launcher.py:50: UserWarning: aspect is not supported for Axes with xscale=log, yscale=linear\n"
     ]
    },
    {
     "name": "stdout",
     "output_type": "stream",
     "text": [
      "perform the iteration number : = 3 Residual  = 9.801937039810582e-11\n",
      "perform the iteration number : = 3 Residual  = 3.3268037213929347e-09\n",
      "ro_n= 0.0007942193915385864 computed dt before refusion 8.703310712983524e-08\n",
      "time step =  2.660527776658557e-06 i_sav 25 i_refus 1\n"
     ]
    },
    {
     "name": "stderr",
     "output_type": "stream",
     "text": [
      "/home/bahari/anaconda3/lib/python3.7/site-packages/ipykernel_launcher.py:38: UserWarning: aspect is not supported for Axes with xscale=log, yscale=linear\n",
      "/home/bahari/anaconda3/lib/python3.7/site-packages/ipykernel_launcher.py:50: UserWarning: aspect is not supported for Axes with xscale=log, yscale=linear\n"
     ]
    },
    {
     "name": "stdout",
     "output_type": "stream",
     "text": [
      "perform the iteration number : = 3 Residual  = 9.125500355366967e-11\n",
      "perform the iteration number : = 3 Residual  = 4.373744033614457e-09\n",
      "ro_n= 0.0007788483928372465 computed dt before refusion 8.8756574740161e-08\n",
      "time step =  2.7475608837883923e-06 i_sav 26 i_refus 1\n"
     ]
    },
    {
     "name": "stderr",
     "output_type": "stream",
     "text": [
      "/home/bahari/anaconda3/lib/python3.7/site-packages/ipykernel_launcher.py:38: UserWarning: aspect is not supported for Axes with xscale=log, yscale=linear\n",
      "/home/bahari/anaconda3/lib/python3.7/site-packages/ipykernel_launcher.py:50: UserWarning: aspect is not supported for Axes with xscale=log, yscale=linear\n"
     ]
    },
    {
     "name": "stdout",
     "output_type": "stream",
     "text": [
      "perform the iteration number : = 3 Residual  = 9.072209650184959e-11\n",
      "perform the iteration number : = 3 Residual  = 4.730862812607484e-09\n",
      "ro_n= 0.0007656103867017025 computed dt before refusion 9.129334812672542e-08\n",
      "time step =  2.836317458528553e-06 i_sav 27 i_refus 1\n"
     ]
    },
    {
     "name": "stderr",
     "output_type": "stream",
     "text": [
      "/home/bahari/anaconda3/lib/python3.7/site-packages/ipykernel_launcher.py:38: UserWarning: aspect is not supported for Axes with xscale=log, yscale=linear\n",
      "/home/bahari/anaconda3/lib/python3.7/site-packages/ipykernel_launcher.py:50: UserWarning: aspect is not supported for Axes with xscale=log, yscale=linear\n"
     ]
    },
    {
     "name": "stdout",
     "output_type": "stream",
     "text": [
      "perform the iteration number : = 3 Residual  = 7.209877139757737e-11\n",
      "perform the iteration number : = 3 Residual  = 3.7293705901220164e-09\n",
      "ro_n= 0.0007557142012383012 computed dt before refusion 9.451546004260239e-08\n",
      "time step =  2.9276108066552784e-06 i_sav 28 i_refus 1\n"
     ]
    },
    {
     "name": "stderr",
     "output_type": "stream",
     "text": [
      "/home/bahari/anaconda3/lib/python3.7/site-packages/ipykernel_launcher.py:38: UserWarning: aspect is not supported for Axes with xscale=log, yscale=linear\n",
      "/home/bahari/anaconda3/lib/python3.7/site-packages/ipykernel_launcher.py:50: UserWarning: aspect is not supported for Axes with xscale=log, yscale=linear\n"
     ]
    },
    {
     "name": "stdout",
     "output_type": "stream",
     "text": [
      "perform the iteration number : = 3 Residual  = 1.1011991318810033e-10\n",
      "perform the iteration number : = 3 Residual  = 2.145680966236796e-09\n",
      "ro_n= 0.0007495161999770245 computed dt before refusion 9.82550429770283e-08\n",
      "time step =  3.0221262666978806e-06 i_sav 29 i_refus 1\n"
     ]
    },
    {
     "name": "stderr",
     "output_type": "stream",
     "text": [
      "/home/bahari/anaconda3/lib/python3.7/site-packages/ipykernel_launcher.py:38: UserWarning: aspect is not supported for Axes with xscale=log, yscale=linear\n",
      "/home/bahari/anaconda3/lib/python3.7/site-packages/ipykernel_launcher.py:50: UserWarning: aspect is not supported for Axes with xscale=log, yscale=linear\n"
     ]
    },
    {
     "name": "stdout",
     "output_type": "stream",
     "text": [
      "perform the iteration number : = 3 Residual  = 7.810285751475021e-11\n",
      "perform the iteration number : = 3 Residual  = 1.3835261825079215e-09\n",
      "ro_n= 0.0007455041274732679 computed dt before refusion 1.0241706672176548e-07\n",
      "time step =  3.1203813096749087e-06 i_sav 30 i_refus 1\n"
     ]
    },
    {
     "name": "stderr",
     "output_type": "stream",
     "text": [
      "/home/bahari/anaconda3/lib/python3.7/site-packages/ipykernel_launcher.py:38: UserWarning: aspect is not supported for Axes with xscale=log, yscale=linear\n",
      "/home/bahari/anaconda3/lib/python3.7/site-packages/ipykernel_launcher.py:50: UserWarning: aspect is not supported for Axes with xscale=log, yscale=linear\n"
     ]
    },
    {
     "ename": "KeyboardInterrupt",
     "evalue": "",
     "output_type": "error",
     "traceback": [
      "\u001b[0;31m---------------------------------------------------------------------------\u001b[0m",
      "\u001b[0;31mKeyboardInterrupt\u001b[0m                         Traceback (most recent call last)",
      "\u001b[0;32m<ipython-input-34-f342c9e6445c>\u001b[0m in \u001b[0;36m<module>\u001b[0;34m\u001b[0m\n\u001b[1;32m      1\u001b[0m \u001b[0mTf\u001b[0m      \u001b[0;34m=\u001b[0m \u001b[0;36m1.\u001b[0m\u001b[0;34m\u001b[0m\u001b[0;34m\u001b[0m\u001b[0m\n\u001b[1;32m      2\u001b[0m \u001b[0;34m\u001b[0m\u001b[0m\n\u001b[0;32m----> 3\u001b[0;31m \u001b[0mun\u001b[0m\u001b[0;34m,\u001b[0m \u001b[0mdu\u001b[0m  \u001b[0;34m=\u001b[0m \u001b[0mTime_dependent_Poisson\u001b[0m\u001b[0;34m(\u001b[0m\u001b[0mTf\u001b[0m\u001b[0;34m,\u001b[0m \u001b[0mu0_h\u001b[0m\u001b[0;34m,\u001b[0m \u001b[0mdu0_h\u001b[0m\u001b[0;34m)\u001b[0m\u001b[0;34m\u001b[0m\u001b[0;34m\u001b[0m\u001b[0m\n\u001b[0m",
      "\u001b[0;32m<ipython-input-33-166c32aa1f9d>\u001b[0m in \u001b[0;36mTime_dependent_Poisson\u001b[0;34m(Tf, u0_h, du0_h)\u001b[0m\n\u001b[1;32m     23\u001b[0m         \u001b[0mt_h\u001b[0m \u001b[0;34m+=\u001b[0m \u001b[0mdt_h\u001b[0m\u001b[0;34m\u001b[0m\u001b[0;34m\u001b[0m\u001b[0m\n\u001b[1;32m     24\u001b[0m         \u001b[0;31m# ...\u001b[0m\u001b[0;34m\u001b[0m\u001b[0;34m\u001b[0m\u001b[0;34m\u001b[0m\u001b[0m\n\u001b[0;32m---> 25\u001b[0;31m         \u001b[0mUn\u001b[0m\u001b[0;34m,\u001b[0m \u001b[0mdUn\u001b[0m       \u001b[0;34m=\u001b[0m \u001b[0mG_alpha_solve\u001b[0m\u001b[0;34m(\u001b[0m\u001b[0malpha_mh\u001b[0m\u001b[0;34m,\u001b[0m \u001b[0malpha_fh\u001b[0m\u001b[0;34m,\u001b[0m \u001b[0mgammah\u001b[0m\u001b[0;34m,\u001b[0m \u001b[0mdt_h\u001b[0m\u001b[0;34m,\u001b[0m \u001b[0mu0_h\u001b[0m\u001b[0;34m,\u001b[0m \u001b[0mdu0_h\u001b[0m\u001b[0;34m)\u001b[0m\u001b[0;34m\u001b[0m\u001b[0;34m\u001b[0m\u001b[0m\n\u001b[0m\u001b[1;32m     26\u001b[0m         \u001b[0mBE_Un\u001b[0m         \u001b[0;34m=\u001b[0m \u001b[0mG_alpha_solve\u001b[0m\u001b[0;34m(\u001b[0m\u001b[0;36m1.\u001b[0m\u001b[0;34m,\u001b[0m \u001b[0;36m1.\u001b[0m\u001b[0;34m,\u001b[0m \u001b[0;36m1.\u001b[0m\u001b[0;34m,\u001b[0m \u001b[0mdt_h\u001b[0m\u001b[0;34m,\u001b[0m \u001b[0mu0_h\u001b[0m\u001b[0;34m,\u001b[0m \u001b[0mdu0_h\u001b[0m\u001b[0;34m)\u001b[0m\u001b[0;34m[\u001b[0m\u001b[0;36m0\u001b[0m\u001b[0;34m]\u001b[0m\u001b[0;34m\u001b[0m\u001b[0;34m\u001b[0m\u001b[0m\n\u001b[1;32m     27\u001b[0m         \u001b[0;31m# ...\u001b[0m\u001b[0;34m\u001b[0m\u001b[0;34m\u001b[0m\u001b[0;34m\u001b[0m\u001b[0m\n",
      "\u001b[0;32m<ipython-input-30-672a0739fe5d>\u001b[0m in \u001b[0;36mG_alpha_solve\u001b[0;34m(alpha_mh, alpha_fh, gammah, dt_h, u0_h, du0_h, niter)\u001b[0m\n\u001b[1;32m     19\u001b[0m         \u001b[0mUn_f\u001b[0m\u001b[0;34m.\u001b[0m\u001b[0mcoeffs\u001b[0m\u001b[0;34m.\u001b[0m\u001b[0mupdate_ghost_regions\u001b[0m\u001b[0;34m(\u001b[0m\u001b[0;34m)\u001b[0m\u001b[0;34m\u001b[0m\u001b[0;34m\u001b[0m\u001b[0m\n\u001b[1;32m     20\u001b[0m \u001b[0;34m\u001b[0m\u001b[0m\n\u001b[0;32m---> 21\u001b[0;31m         \u001b[0mdelta_x\u001b[0m  \u001b[0;34m=\u001b[0m \u001b[0mequation_h\u001b[0m\u001b[0;34m.\u001b[0m\u001b[0msolve\u001b[0m\u001b[0;34m(\u001b[0m\u001b[0mu0\u001b[0m \u001b[0;34m=\u001b[0m \u001b[0mUn_f\u001b[0m\u001b[0;34m,\u001b[0m \u001b[0mdu0\u001b[0m \u001b[0;34m=\u001b[0m \u001b[0mUn_m\u001b[0m\u001b[0;34m,\u001b[0m \u001b[0mdt\u001b[0m \u001b[0;34m=\u001b[0m \u001b[0mdt_h\u001b[0m\u001b[0;34m,\u001b[0m \u001b[0malpha_m\u001b[0m \u001b[0;34m=\u001b[0m \u001b[0malpha_mh\u001b[0m\u001b[0;34m,\u001b[0m \u001b[0malpha_f\u001b[0m \u001b[0;34m=\u001b[0m \u001b[0malpha_fh\u001b[0m\u001b[0;34m,\u001b[0m \u001b[0mgamma\u001b[0m \u001b[0;34m=\u001b[0m \u001b[0mgammah\u001b[0m\u001b[0;34m)\u001b[0m\u001b[0;34m\u001b[0m\u001b[0;34m\u001b[0m\u001b[0m\n\u001b[0m\u001b[1;32m     22\u001b[0m         \u001b[0;31m# ...\u001b[0m\u001b[0;34m\u001b[0m\u001b[0;34m\u001b[0m\u001b[0;34m\u001b[0m\u001b[0m\n\u001b[1;32m     23\u001b[0m         \u001b[0mUn\u001b[0m\u001b[0;34m.\u001b[0m\u001b[0mcoeffs\u001b[0m\u001b[0;34m.\u001b[0m\u001b[0m_data\u001b[0m\u001b[0;34m[\u001b[0m\u001b[0mp1\u001b[0m\u001b[0;34m:\u001b[0m\u001b[0;34m-\u001b[0m\u001b[0mp1\u001b[0m\u001b[0;34m,\u001b[0m\u001b[0mp2\u001b[0m\u001b[0;34m:\u001b[0m\u001b[0;34m-\u001b[0m\u001b[0mp2\u001b[0m\u001b[0;34m]\u001b[0m  \u001b[0;34m=\u001b[0m \u001b[0mUn\u001b[0m\u001b[0;34m.\u001b[0m\u001b[0mcoeffs\u001b[0m\u001b[0;34m.\u001b[0m\u001b[0m_data\u001b[0m\u001b[0;34m[\u001b[0m\u001b[0mp1\u001b[0m\u001b[0;34m:\u001b[0m\u001b[0;34m-\u001b[0m\u001b[0mp1\u001b[0m\u001b[0;34m,\u001b[0m\u001b[0mp2\u001b[0m\u001b[0;34m:\u001b[0m\u001b[0;34m-\u001b[0m\u001b[0mp2\u001b[0m\u001b[0;34m]\u001b[0m \u001b[0;34m+\u001b[0m \u001b[0mgammah\u001b[0m \u001b[0;34m*\u001b[0m \u001b[0mdt_h\u001b[0m \u001b[0;34m*\u001b[0m \u001b[0mdelta_x\u001b[0m\u001b[0;34m.\u001b[0m\u001b[0mcoeffs\u001b[0m\u001b[0;34m.\u001b[0m\u001b[0m_data\u001b[0m\u001b[0;34m[\u001b[0m\u001b[0mp1\u001b[0m\u001b[0;34m:\u001b[0m\u001b[0;34m-\u001b[0m\u001b[0mp1\u001b[0m\u001b[0;34m,\u001b[0m\u001b[0mp2\u001b[0m\u001b[0;34m:\u001b[0m\u001b[0;34m-\u001b[0m\u001b[0mp2\u001b[0m\u001b[0;34m]\u001b[0m\u001b[0;34m\u001b[0m\u001b[0;34m\u001b[0m\u001b[0m\n",
      "\u001b[0;32m~/psydac-devel/psydac/api/equation.py\u001b[0m in \u001b[0;36msolve\u001b[0;34m(self, **kwargs)\u001b[0m\n\u001b[1;32m    245\u001b[0m     \u001b[0;32mdef\u001b[0m \u001b[0msolve\u001b[0m\u001b[0;34m(\u001b[0m\u001b[0mself\u001b[0m\u001b[0;34m,\u001b[0m \u001b[0;34m**\u001b[0m\u001b[0mkwargs\u001b[0m\u001b[0;34m)\u001b[0m\u001b[0;34m:\u001b[0m\u001b[0;34m\u001b[0m\u001b[0;34m\u001b[0m\u001b[0m\n\u001b[1;32m    246\u001b[0m \u001b[0;34m\u001b[0m\u001b[0m\n\u001b[0;32m--> 247\u001b[0;31m         \u001b[0mself\u001b[0m\u001b[0;34m.\u001b[0m\u001b[0massemble\u001b[0m\u001b[0;34m(\u001b[0m\u001b[0;34m**\u001b[0m\u001b[0mkwargs\u001b[0m\u001b[0;34m)\u001b[0m\u001b[0;34m\u001b[0m\u001b[0;34m\u001b[0m\u001b[0m\n\u001b[0m\u001b[1;32m    248\u001b[0m \u001b[0;34m\u001b[0m\u001b[0m\n\u001b[1;32m    249\u001b[0m         \u001b[0;31m# Free arguments of current equation\u001b[0m\u001b[0;34m\u001b[0m\u001b[0;34m\u001b[0m\u001b[0;34m\u001b[0m\u001b[0m\n",
      "\u001b[0;32m~/psydac-devel/psydac/api/equation.py\u001b[0m in \u001b[0;36massemble\u001b[0;34m(self, **kwargs)\u001b[0m\n\u001b[1;32m    225\u001b[0m         \u001b[0;31m# Matrix (left-hand side)\u001b[0m\u001b[0;34m\u001b[0m\u001b[0;34m\u001b[0m\u001b[0;34m\u001b[0m\u001b[0m\n\u001b[1;32m    226\u001b[0m         \u001b[0;32mif\u001b[0m \u001b[0massemble_lhs\u001b[0m\u001b[0;34m:\u001b[0m\u001b[0;34m\u001b[0m\u001b[0;34m\u001b[0m\u001b[0m\n\u001b[0;32m--> 227\u001b[0;31m             \u001b[0mA\u001b[0m \u001b[0;34m=\u001b[0m \u001b[0mself\u001b[0m\u001b[0;34m.\u001b[0m\u001b[0mlhs\u001b[0m\u001b[0;34m.\u001b[0m\u001b[0massemble\u001b[0m\u001b[0;34m(\u001b[0m\u001b[0mreset\u001b[0m\u001b[0;34m=\u001b[0m\u001b[0;32mTrue\u001b[0m\u001b[0;34m,\u001b[0m \u001b[0;34m**\u001b[0m\u001b[0mkwargs\u001b[0m\u001b[0;34m)\u001b[0m\u001b[0;34m\u001b[0m\u001b[0;34m\u001b[0m\u001b[0m\n\u001b[0m\u001b[1;32m    228\u001b[0m             \u001b[0;32mif\u001b[0m \u001b[0mself\u001b[0m\u001b[0;34m.\u001b[0m\u001b[0mbc\u001b[0m\u001b[0;34m:\u001b[0m\u001b[0;34m\u001b[0m\u001b[0;34m\u001b[0m\u001b[0m\n\u001b[1;32m    229\u001b[0m                 \u001b[0mapply_essential_bc\u001b[0m\u001b[0;34m(\u001b[0m\u001b[0mA\u001b[0m\u001b[0;34m,\u001b[0m \u001b[0;34m*\u001b[0m\u001b[0mself\u001b[0m\u001b[0;34m.\u001b[0m\u001b[0mbc\u001b[0m\u001b[0;34m)\u001b[0m\u001b[0;34m\u001b[0m\u001b[0;34m\u001b[0m\u001b[0m\n",
      "\u001b[0;32m~/psydac-devel/psydac/api/fem.py\u001b[0m in \u001b[0;36massemble\u001b[0;34m(self, reset, **kwargs)\u001b[0m\n\u001b[1;32m    349\u001b[0m             \u001b[0mreset_arrays\u001b[0m\u001b[0;34m(\u001b[0m\u001b[0;34m*\u001b[0m\u001b[0mself\u001b[0m\u001b[0;34m.\u001b[0m\u001b[0mglobal_matrices\u001b[0m\u001b[0;34m)\u001b[0m\u001b[0;34m\u001b[0m\u001b[0;34m\u001b[0m\u001b[0m\n\u001b[1;32m    350\u001b[0m \u001b[0;34m\u001b[0m\u001b[0m\n\u001b[0;32m--> 351\u001b[0;31m         \u001b[0mself\u001b[0m\u001b[0;34m.\u001b[0m\u001b[0m_func\u001b[0m\u001b[0;34m(\u001b[0m\u001b[0;34m*\u001b[0m\u001b[0margs\u001b[0m\u001b[0;34m,\u001b[0m \u001b[0;34m*\u001b[0m\u001b[0mself\u001b[0m\u001b[0;34m.\u001b[0m\u001b[0m_threads_args\u001b[0m\u001b[0;34m)\u001b[0m\u001b[0;34m\u001b[0m\u001b[0;34m\u001b[0m\u001b[0m\n\u001b[0m\u001b[1;32m    352\u001b[0m         \u001b[0;32mreturn\u001b[0m \u001b[0mself\u001b[0m\u001b[0;34m.\u001b[0m\u001b[0m_matrix\u001b[0m\u001b[0;34m\u001b[0m\u001b[0;34m\u001b[0m\u001b[0m\n\u001b[1;32m    353\u001b[0m \u001b[0;34m\u001b[0m\u001b[0m\n",
      "\u001b[0;32m~/snap/BAHARI_research/RELAXATION_BLEWUP_SOLUTION/references/references_CH/__psydac__/dependencies_wewnwc1y.py\u001b[0m in \u001b[0;36massembly\u001b[0;34m(global_test_basis_v_1, global_test_basis_v_2, global_trial_basis_u_1, global_trial_basis_u_2, global_span_v_1, global_span_v_2, global_x1, global_x2, test_v_p1, test_v_p2, trial_u_p1, trial_u_p2, n_element_1, n_element_2, k1, k2, pad1, pad2, g_mat_u_v_wewnwc1y, dt, gamma, alpha_f, alpha_m, global_test_basis_u0_1, global_test_basis_u0_2, global_span_u0_1, global_span_u0_2, test_u0_p1, test_u0_p2, pad_u0_1, pad_u0_2, global_arr_coeffs_u0, b01, b02, e01, e02)\u001b[0m\n\u001b[1;32m     88\u001b[0m                                     \u001b[0mu_x1\u001b[0m \u001b[0;34m=\u001b[0m \u001b[0mu_1_x1\u001b[0m\u001b[0;34m*\u001b[0m\u001b[0mu_2\u001b[0m\u001b[0;34m\u001b[0m\u001b[0;34m\u001b[0m\u001b[0m\n\u001b[1;32m     89\u001b[0m                                     \u001b[0mu_x1x2\u001b[0m \u001b[0;34m=\u001b[0m \u001b[0mu_1_x1\u001b[0m\u001b[0;34m*\u001b[0m\u001b[0mu_2_x2\u001b[0m\u001b[0;34m\u001b[0m\u001b[0;34m\u001b[0m\u001b[0m\n\u001b[0;32m---> 90\u001b[0;31m                                     \u001b[0mu_x1x1\u001b[0m \u001b[0;34m=\u001b[0m \u001b[0mu_1_x1x1\u001b[0m\u001b[0;34m*\u001b[0m\u001b[0mu_2\u001b[0m\u001b[0;34m\u001b[0m\u001b[0;34m\u001b[0m\u001b[0m\n\u001b[0m\u001b[1;32m     91\u001b[0m                                     \u001b[0mu0\u001b[0m \u001b[0;34m=\u001b[0m \u001b[0marr_u0\u001b[0m\u001b[0;34m[\u001b[0m\u001b[0mi_quad_1\u001b[0m\u001b[0;34m,\u001b[0m\u001b[0mi_quad_2\u001b[0m\u001b[0;34m]\u001b[0m\u001b[0;34m\u001b[0m\u001b[0;34m\u001b[0m\u001b[0m\n\u001b[1;32m     92\u001b[0m                                     \u001b[0mu0_x2\u001b[0m \u001b[0;34m=\u001b[0m \u001b[0marr_u0_x2\u001b[0m\u001b[0;34m[\u001b[0m\u001b[0mi_quad_1\u001b[0m\u001b[0;34m,\u001b[0m\u001b[0mi_quad_2\u001b[0m\u001b[0;34m]\u001b[0m\u001b[0;34m\u001b[0m\u001b[0;34m\u001b[0m\u001b[0m\n",
      "\u001b[0;31mKeyboardInterrupt\u001b[0m: "
     ]
    }
   ],
   "source": [
    "un, du, Sol_CH, GL_fe, dt_evol, n_itime, dt_h  = Time_dependent_Poisson(Tf, t_h, u0_h, du0_h, Sol_CH, GL_fe, dt_evol, n_itime, dt_h)"
   ]
  },
  {
   "cell_type": "markdown",
   "metadata": {},
   "source": [
    "### m.bahari"
   ]
  }
 ],
 "metadata": {
  "kernelspec": {
   "display_name": "Python 3",
   "language": "python",
   "name": "python3"
  },
  "language_info": {
   "codemirror_mode": {
    "name": "ipython",
    "version": 3
   },
   "file_extension": ".py",
   "mimetype": "text/x-python",
   "name": "python",
   "nbconvert_exporter": "python",
   "pygments_lexer": "ipython3",
   "version": "3.7.6"
  }
 },
 "nbformat": 4,
 "nbformat_minor": 4
}
