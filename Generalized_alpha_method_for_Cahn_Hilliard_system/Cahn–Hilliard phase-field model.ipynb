{
 "cells": [
  {
   "cell_type": "markdown",
   "metadata": {},
   "source": [
    "# Isogeometric analysis of the Cahn–Hilliard phase-field model"
   ]
  },
  {
   "cell_type": "markdown",
   "metadata": {},
   "source": [
    "\n",
    "\n",
    "This section is devoted to using the isogeometric analysis for the numerical approximation of the Cahn-Halliard equation to ensure a regularity needed in the presence of fourth-order operators. For numerical accuracy and stability characteristics, we integrate in time using ***generalized-$\\alpha$ method***. The goal is to test the r-refinement method as the mesh refinement method.\n",
    "."
   ]
  },
  {
   "cell_type": "markdown",
   "metadata": {},
   "source": [
    "## 1. The Cahn–Hilliard Equations"
   ]
  },
  {
   "cell_type": "markdown",
   "metadata": {},
   "source": [
    "  Let $\\Omega\\subset\\mathbb{R}^d$ be an open set with sufficiently smooth boundary, denoted by $\\Gamma$, where $d$ is the number of spatial dimensions. We denote by $\\mathbf{c}$ the concentration of one of the binary mixture components that we suppose governed by the Cahn-Halliard equation. Then, the problem stated in strong form as :"
   ]
  },
  {
   "cell_type": "markdown",
   "metadata": {},
   "source": [
    "Find $\\mathbf{c} :\\overline{\\Omega}\\times(0,T)\\longmapsto\\mathbb{R}$ such that \n",
    "## $\t\\begin{align*}\n",
    "\t\t\\left\\lbrace\\begin{array}{lll}\n",
    "\t\t\t\\dfrac{\\partial \\mathbf{c}}{\\partial t} ~~~~~=~ \\nabla \\cdot \\big(M_c\\nabla (\\mu_c - \\lambda\\Delta\\mathbf{c})\\big) &\\text{ in } \\Omega\\times(0,T) ,~~~~~~~~~~(1)\\\\\n",
    "\t\t    \\mathbf{c}~~~~~~~~ =~ g &\\text{ on } \\Gamma_g\\times(0,T),~~~~~~~~(2)\\\\\n",
    "            M_c\\nabla (\\mu_c - \\lambda\\Delta \\mathbf{c})\\cdot\\vec{n}  = s &\\text{ on } \\Gamma_s \\times(0,T),~~~~~~~~(3)\\\\     \n",
    "            M_c \\lambda\\nabla \\mathbf{c}\\cdot\\vec{n}  = 0 &\\text{ on } \\Gamma\\times(0,T),~~~~~~~~~~(4)\\\\   \n",
    "            \\mathbf{c}(x,0)  = \\mathbf{c}_0(x) &\\text{ in } \\overline{\\Omega},~~~~~~~~~~~~~~~~~~~~~~~~(5)\\\\         \n",
    "\t\t\\end{array}\\right.\n",
    "\t\\end{align*}$"
   ]
  },
  {
   "cell_type": "markdown",
   "metadata": {},
   "source": [
    "\n",
    "Where $\\mathbf{c}_0 :\\overline{\\Omega}\\longmapsto\\mathbb{R}$ is a given initial concentration functions. $M_c$ is the mobility, and $\\mu_c$ is the chemical potential of a regular solution in the absence of phase interface and $\\lambda$ is a positive constant such that $\\sqrt{\\lambda}$ represents a length scale of the problem. We consider a nonlinear relationship between the mobility and the concentration, by\n",
    "\n",
    "$$M_c = D~\\mathbf{c}~(1-\\mathbf{c})~~~~~~~~~~~~~~~~~~~~~~~~~~~~~~~~~~~~~~~~~~~~~~~~~~~~(6)$$ \n",
    "in which $D$ is a positive constant which has dimensions of diffusivity, that is, $length^2/time$. Finally, $\\mu_c$ is highly nonlinear function of the concentration defined as\n",
    "\n",
    "$$ \\mu_c= \\dfrac{1}{2\\theta}~log\\dfrac{\\mathbf{c}}{1-\\mathbf{c}} + 1 - 2~\\mathbf{c} ~~~~~~~~~~~~~~~~~~~~~~~~~~~~~~~~~~~~(7)$$\n",
    "\n",
    "where $\\theta$ is a dimensionless number which represents the artion between the critical temperature and the absolute temperature."
   ]
  },
  {
   "cell_type": "markdown",
   "metadata": {},
   "source": [
    "## 2. Variational form and semidiscrete formulation"
   ]
  },
  {
   "cell_type": "markdown",
   "metadata": {},
   "source": [
    "Let X be the functional space and $\\big(.,.\\big)_\\Omega$ denote the $L^2$ inner product with respect to  $\\Omega$. The variational formulation is stated as follows :\n",
    "\n",
    "Find $\\mathbf{c}\\in X$, such that $\\forall~w\\in X$ : \n",
    "\n",
    "$$\\textbf{B}\\big(w,\\mathbf{c}\\big) = 0 ~~~~~~~~~~~~~~~~~~~~~~~~~~~~~~~~~~~~~~~~~~~~~(8)$$"
   ]
  },
  {
   "cell_type": "markdown",
   "metadata": {},
   "source": [
    "with\n",
    "\n",
    "$\\begin{align*}\\textbf{B}\\big(w,\\mathbf{c}\\big) &= \\big(w,\\dfrac{\\partial\\mathbf{c}}{\\partial t}\\big)_\\Omega + \\big(\\nabla w, M_c \\nabla\\mu_c + \\nabla M_c\\Delta\\mathbf{c}\\big)_\\Omega + \\big(\\Delta\n",
    "w,M_c\\Delta\\mathbf{c}\\big)_\\Omega.~~~~~~~~~~~~~~~~~~~~~~~~~~~~~~~(9)\n",
    "\\end{align*}$"
   ]
  },
  {
   "cell_type": "markdown",
   "metadata": {},
   "source": [
    "The space discretization of (11) leads to the following variational problem over the finite element spaces : \n",
    "\n",
    "Find $\\mathbf{c}^h \\in X^h\\subset X$, such that $\\forall~w^h \\in X^h$ : \n",
    "\n",
    "$$\\textbf{B}\\big(w^h,\\mathbf{c}^h\\big) = 0 ~~~~~~~~~~~~~~~~~~~~~~~~~~~~~~~~~~~~~~~~~~~~~(10)$$\n",
    "\n",
    "where \n",
    "\n",
    "$$\\mathbf{c}^h = \\sum_{i=1}^{n_b} \\mathbf{c}_iN_i, ~~~ w^h = \\sum_{i=1}^{n_b} w_iN_i~~~~~~~~~~~~~~~~~~(11)$$\n",
    "\n",
    "$n_b$ is the dimension of discrete space."
   ]
  },
  {
   "cell_type": "markdown",
   "metadata": {},
   "source": [
    "## 3. Time discretization using the generalized-$\\alpha$ method"
   ]
  },
  {
   "cell_type": "markdown",
   "metadata": {},
   "source": [
    "Let $c$ and $\\dot{c}$ denote the vector of global degrees of freedom and its time derivative, respectively. We define the following residual vectors :\n",
    "$$\\mathbf{R}^c = \\Big\\{R_i\\Big\\}$$\n",
    "$$R_i = \\mathbf{B}\\big(N_i, \\mathbf{c}^h\\big)$$\n",
    "where we denote by $e_j$ is the j-th cartesian basis vector."
   ]
  },
  {
   "cell_type": "markdown",
   "metadata": {},
   "source": [
    "Given $\\mathbf{c}_n$, $\\dot{\\mathbf{c}}_n$ at the $n^{th}$ time $t_n$ and $\\Delta t_n = t_{n+1}-t_n$ the time step size, the generalized-$\\alpha$ method involves finding $\\dot{\\mathbf{c}}_{n+1}$, $\\mathbf{c}_{n+1}$, $\\mathbf{c}_{n+\\alpha_m}$, $\\mathbf{c}_{n+\\alpha_f}$ such that\n",
    "\n",
    "$$\\begin{align*}\n",
    "  \\mathbf{R}\\big(\\dot{\\mathbf{c}}_{n+\\alpha_m}, \\mathbf{c}_{n+\\alpha_f}\\big) &=0,~~~~~~~~~~~~~~~~~~~~~~~~~~~~~~~~~~~~~~~~~~~~~~~~~~~~~~~~~~~~~~~~~~~~~~~~~~~~~~~~~~~~~~~~~~~~(12)\\\\\n",
    "  \\mathbf{c}_{n+1} &= \\mathbf{c}_{n} + \\Delta t_n \\dot{\\mathbf{c}}_{n} + \\gamma \\Delta t_n \\big(\\dot{\\mathbf{c}}_{n+1} - \\dot{\\mathbf{c}}_{n}\\big),~~~~~~~~~~~~~~~~~~~~~~~~~~~~~~~~~~~~~~~~~~~~~(13)\\\\\n",
    "  \\dot{\\mathbf{c}}_{n+\\alpha_m} &= \\dot{\\mathbf{c}}_{n} + \\alpha_m \\big( \\dot{\\mathbf{c}}_{n+1} - \\dot{\\mathbf{c}}_{n}\\big),~~~~~~~~~~~~~~~~~~~~~~~~~~~~~~~~~~~~~~~~~~~~~~~~~~~~~~~~~~~~~~(14)\\\\\n",
    "  \\mathbf{c}_{n+\\alpha_f}  &= \\mathbf{c}_{n} + \\alpha_f \\big( \\mathbf{c}_{n+1} - \\mathbf{c}_{n}\\big)~~~~~~~~~~~~~~~~~~~~~~~~~~~~~~~~~~~~~~~~~~~~~~~~~~~~~~~~~~~~~~~~~(15)\n",
    " \\end{align*}$$\n",
    " \n",
    " where $\\alpha_m$ , $\\alpha_f$ and $\\gamma$ are real-valued parameters that define the method."
   ]
  },
  {
   "cell_type": "markdown",
   "metadata": {},
   "source": [
    "Jansen, Whiting and Hulbert proved that, the generalized-$\\alpha$ method is second-order accurate if and only if \n",
    "$$\\gamma = \\dfrac{1}{2} + \\alpha_m -\\alpha_f,~~~~~~~~~~~~~~~~~~~~~~~~~~~~~~~~~~~~~~~~~~~~~~~~~~~~~~~~~~~~~~~~~~~~~~~~~~~~~~~~~~~~~~~~~~~~~~~~~~(16)$$\n",
    "and it is unconditionally stable if and only if \n",
    "$$\\alpha_m \\geq \\alpha_f \\geq \\dfrac{1}{2}.~~~~~~~~~~~~~~~~~~~~~~~~~~~~~~~~~~~~~~~~~~~~~~~~~~~~~~~~~~~~~~~~~~~~~~~~~~~~~~~~~~~~~~~~~~~~~~~~~~~~~~~~~(17)$$ \n",
    "Hence, if (20) holds, then (17) becomes $$\\mathbf{c}_{n+1} = \\mathbf{c}_{n} + \\Delta t_n\\Big( \\dot{\\mathbf{c}}_{n + \\alpha_m} + \\big(\\alpha_f-\\dfrac{1}{2}\\big)\\dot{\\mathbf{c}}_{n} - \\big(\\alpha_f-\\dfrac{1}{2}\\big)\\dot{\\mathbf{c}}_{n+1}\\Big),~~~~~~~~~~~~~~~~~~~~~~~~~~~~~~~~~~~~(18)$$"
   ]
  },
  {
   "cell_type": "markdown",
   "metadata": {},
   "source": [
    "The parameters $\\alpha_m$ and $\\alpha_f$ can be chosen to be equal to\n",
    "\n",
    "$$\\alpha_m = \\dfrac{1}{2}\\big( \\dfrac{3-\\rho_\\infty}{1+\\rho_\\infty}\\big)$$\n",
    "\n",
    "$$\\alpha_m = \\dfrac{1}{1+\\rho_\\infty}$$\n",
    "where $\\rho_\\infty\\in [0,1]$ is the spectral radius of the amplification matrix as $\\Delta t \\rightarrow \\infty$, controls high-frequency dissipation."
   ]
  },
  {
   "cell_type": "markdown",
   "metadata": {},
   "source": [
    " # 4. Non-linear solver using Newton's method "
   ]
  },
  {
   "cell_type": "markdown",
   "metadata": {},
   "source": [
    "We approximate the non-linear system of equation (15-16) using Newton's method which leads to the following algorithm :\n",
    "\n",
    "1. Set \n",
    "  $$ \\mathbf{c}_{n+\\alpha_f, (0)} = \\mathbf{c}_n$$\n",
    "  \n",
    "  $$ \\mathbf{\\dot{c}}_{n+\\alpha_m, (0)} = \\dfrac{\\gamma-1}{\\gamma}\\mathbf{\\dot{c}}_n$$  \n",
    "  \n",
    "2. From the (14)-(15) we have the following system at the $\\alpha$-levels\n",
    " \n",
    " $$ \\mathbf{J_R} = \\alpha_m~~\\dfrac{\\mathbf{R}\\big(\\dot{\\mathbf{c}}_{n+\\alpha_m}, \\mathbf{c}_{n+\\alpha_f}\\big)}{\\partial \\mathbf{c}_{n+\\alpha_m}}+\\Delta t \\gamma\\alpha_f~~\\dfrac{\\mathbf{R}\\big(\\dot{\\mathbf{c}}_{n+\\alpha_m}, \\mathbf{c}_{n+\\alpha_f}\\big)}{\\partial \\mathbf{c}_{n+\\alpha_f}}$$\n",
    " \n",
    "  #### b- Newton Method\n",
    "##### Multicorrector stage: Repeat the following steps:\n",
    "###### 1.Evaluate iterates at the $\\alpha$-levels:\n",
    "where\n",
    "$$\\begin{align*}\n",
    "  \\dot{\\mathbf{c}}_{n+\\alpha_m,(i)} &= \\dot{\\mathbf{c}}_{n} + \\alpha_m \\big( \\dot{\\mathbf{c}}_{n+1,(i-1)} - \\dot{\\mathbf{c}}_{n}\\big),~~~~~~~~~~~~~~~~~~~~~~~~~~~~~~~~~~~~~~~~~~~~~~~~~~~~~~~~~~~~~~(14)\\\\\n",
    "  \\mathbf{c}_{n+\\alpha_f,(i)}  &= \\mathbf{c}_{n} + \\alpha_f \\big( \\mathbf{c}_{n+1,(i-1)} - \\mathbf{c}_{n}\\big)~~~~~~~~~~~~~~~~~~~~~~~~~~~~~~~~~~~~~~~~~~~~~~~~~~~~~~~~~~~~~~~~~(15)\n",
    " \\end{align*}$$\n",
    " \n",
    "###### 2. Use these a -level iterates to assemble the residual and the tangent matrix of the linear system:\n",
    "\n",
    "$$ \\mathbf{J_R}\\big(\\dot{\\mathbf{c}}_{n+\\alpha_m,(i)}, \\mathbf{c}_{n+\\alpha_f,(i)}\\big) \\Delta \\mathbf{c}_{n+1,(i)}= -\\mathbf{R}\\big(\\dot{\\mathbf{c}}_{n+\\alpha_m,(i)}, \\mathbf{c}_{n+\\alpha_f,(i)}\\big)$$\n",
    "\n",
    "\n",
    "###### 3. Use $\\Delta \\mathbf{c}_{n+1,(i)}$ to update the iterates as\n",
    "$$\\begin{align*}\n",
    "  \\dot{\\mathbf{c}}_{n+1,(i)} &= \\mathbf{\\dot{c}}_{n+1,(i-1)} + \\Delta t ~~\\gamma \\Delta \\mathbf{c}_{n+1,(i)},~~~~~~~~~~~~~~~~~~~~~~~~~~~~~~~~~~~~~~~~~~~~~~~~~~~~~~~~~~~~~~(14)\\\\\n",
    "  \\mathbf{\\dot{c}}_{n+1,(i)}  &= \\mathbf{\\dot{c}}_{n+1,(i-1)} + \\Delta \\mathbf{c}_{n+1,(i)}~~~~~~~~~~~~~~~~~~~~~~~~~~~~~~~~~~~~~~~~~~~~~~~~~~~~~~~~~~~~~~~~~(15)\n",
    " \\end{align*}$$\n",
    "  \n",
    "This complites one nonlinear iteration. The tolerance is given by reducing residual $\\mathbf{R}$ to $10^{-3}$ or $10^{-4}$."
   ]
  },
  {
   "cell_type": "markdown",
   "metadata": {},
   "source": [
    "# 5. Numerical implementation under psydac."
   ]
  },
  {
   "cell_type": "markdown",
   "metadata": {},
   "source": [
    "$\\textit{TODO}$"
   ]
  },
  {
   "cell_type": "code",
   "execution_count": 1,
   "metadata": {},
   "outputs": [],
   "source": [
    "from sympy import pi, cos, sin, exp, log, symbols, sqrt\n",
    "from sympy.utilities.lambdify import implemented_function\n",
    "import pytest\n",
    "\n",
    "from sympde.calculus import grad, dot\n",
    "from sympde.calculus import laplace, div\n",
    "from sympde.topology import ScalarFunctionSpace\n",
    "from sympde.topology import element_of\n",
    "from sympde.topology import NormalVector\n",
    "from sympde.topology import Square\n",
    "from sympde.topology import Union\n",
    "from sympde.expr     import BilinearForm, LinearForm, integral\n",
    "from sympde.expr     import Norm\n",
    "from sympde.expr     import find, EssentialBC\n",
    "from sympde.expr.expr import linearize\n",
    "from sympde.core     import Constant\n",
    "\n",
    "from psydac.fem.basic          import FemField\n",
    "from psydac.api.discretization import discretize\n",
    "\n",
    "x,y,z = symbols('x1, x2, x3')\n",
    "\n",
    "from sympy import diff\n",
    "dx  = lambda e: diff(e,x)\n",
    "dy  = lambda e: diff(e,y)\n",
    "\n",
    "from numpy import random, max, absolute\n",
    "import numpy as np\n",
    "\n",
    "#==============================================================================\n",
    "def get_boundaries(*args):\n",
    "\n",
    "    if not args:\n",
    "        return ()\n",
    "    else:\n",
    "        assert all(1 <= a <= 4 for a in args)\n",
    "        assert len(set(args)) == len(args)\n",
    "\n",
    "    boundaries = {1: {'axis': 0, 'ext': -1},\n",
    "                  2: {'axis': 0, 'ext':  1},\n",
    "                  3: {'axis': 1, 'ext': -1},\n",
    "                  4: {'axis': 1, 'ext':  1}}\n",
    "\n",
    "    return tuple(boundaries[i] for i in args)"
   ]
  },
  {
   "cell_type": "code",
   "execution_count": 2,
   "metadata": {},
   "outputs": [],
   "source": [
    "from matplotlib import pyplot as plt\n",
    "#from simplines import plot_field_2d\n",
    "from psydac.utilities.utils import refine_array_1d \n",
    "import numpy as np\n",
    "levels = np.linspace(-0.15,1.15,100)\n",
    "\n",
    "def plot_field(field, N=40, i_sav = 0):\n",
    "    Vh = field.space\n",
    "    eta1 = refine_array_1d( Vh.spaces[0].breaks, N )\n",
    "    eta2 = refine_array_1d( Vh.spaces[1].breaks, N )\n",
    "    num = np.array( [[ field( e1,e2 ) for e2 in eta2] for e1 in eta1] )\n",
    "    plt.contourf( eta1, eta2, num, levels, cmap='jet' )  \n",
    "    plt.colorbar()\n",
    "    plt.savefig('figs/u_{}.png'.format(i_sav))\n",
    "    #plt.show(block=False) \n",
    "    plt.close()"
   ]
  },
  {
   "cell_type": "code",
   "execution_count": 3,
   "metadata": {},
   "outputs": [],
   "source": [
    "# ..Topological domain\n",
    "domain         = Square()#bounds1=(0.,2.*pi**2), bounds2=(0.,2.*pi**2))\n",
    "#B_dirichlet_0 = domain.boundary"
   ]
  },
  {
   "cell_type": "code",
   "execution_count": 4,
   "metadata": {},
   "outputs": [],
   "source": [
    "# ..Function Space\n",
    "V  = ScalarFunctionSpace('V', domain)"
   ]
  },
  {
   "cell_type": "code",
   "execution_count": 5,
   "metadata": {},
   "outputs": [],
   "source": [
    "#  ... Parameters for generalized-alpha method\n",
    "rho_inf = 0.5\n",
    "alpha_m = 0.5 * ((3. - rho_inf)/(1. + rho_inf))\n",
    "alpha_f = 1/(1. + rho_inf)\n",
    "gamma   = 0.5 + alpha_m - alpha_f\n",
    "alpha   = 3000.\n",
    "theta   = 3./2\n",
    "# .. Defining the Linear form $G$\n",
    "u   = element_of(V, name='u')\n",
    "v   = element_of(V, name='v')\n",
    "w   = element_of(V, name='w')\n",
    "\n",
    "# time step\n",
    "t   = Constant(name='t')\n",
    "dt  = Constant(name='dt')\n",
    "u0  = element_of(V, name='u0') \n",
    "du0 = element_of(V, name='du0') "
   ]
  },
  {
   "cell_type": "code",
   "execution_count": 6,
   "metadata": {},
   "outputs": [],
   "source": [
    "# Linear form g: V --> R\n",
    "#g = LinearForm(v, integral(domain, alpha_m * u * v + (alpha_f * gamma * dt) * (  ((3.*alpha/(2.*theta))*(1- 4.*theta*w*(1.-w)) + (1.-2.*w)*laplace(w) )*dot(grad(u), grad(v)) + w * (1.-w) * laplace(u) * laplace(v) + ( (-6.*alpha)*(1.-2.*w)*u - 2.*u*laplace(w) + (1.-2.*w)*laplace(u) ) * dot(grad(w),grad(v)) + (1.-2.*w)*u*laplace(w)*laplace(v) )))\n",
    "#du  = element_of(V, name='du')\n",
    "# ..."
   ]
  },
  {
   "cell_type": "code",
   "execution_count": 7,
   "metadata": {},
   "outputs": [],
   "source": [
    "# Bilinear form a: V x V --> R\n",
    "expr11 = ((3.*alpha/(2.*theta))*(1- 4.*theta*u0*(1.-u0)) + (1.-2.*u0)*laplace(u0) )*dot(grad(u), grad(v))\n",
    "expr12 = ( (-6.*alpha)*(1.-2.*u0)*u - 2.*u*laplace(u0) + (1.-2.*u0)*laplace(u) ) * dot(grad(u0),grad(v))\n",
    "#___\n",
    "expr21 = u0 * (1.-u0) * laplace(u) * laplace(v)\n",
    "expr22 = (1.-2.*u0)*u*laplace(u0)*laplace(v)\n",
    "a = BilinearForm((u, v), integral(domain, alpha_m * u * v + (alpha_f * gamma * dt) * ( expr11  + expr21 + expr12 + expr22 ) ))\n",
    "# Linear form l: V --> R\n",
    "l = LinearForm(v, integral(domain,  du0 * v + ((3.*alpha/(2.*theta))*(1. - 4.*theta*u0*(1.-u0) ) + (1.-2.*u0) * laplace(u0) ) * dot(grad(u0),grad(v)) + u0 * (1. - u0) * laplace(u0) * laplace(v)  ))\n",
    "\n",
    "# 2-order computes statistical moment\n",
    "l_SM = LinearForm(v, integral(domain,  (u0-du0)**2*v ))\n",
    "\n",
    "# ... Ginzburg–Landau free energy\n",
    "l_FE = LinearForm(v, integral(domain,  ( u0*log(abs(u0)) +(1-u0)*log(abs(1-u0)) + 2*theta*u0*(1.-u0) + theta/(3.*alpha)*sqrt(dx(u0)**2+dy(u0)**2) ) * v ))"
   ]
  },
  {
   "cell_type": "code",
   "execution_count": 8,
   "metadata": {},
   "outputs": [],
   "source": [
    "# Variational model\n",
    "equation = find(u, forall=v, lhs=a(u, v), rhs=-l(v) )"
   ]
  },
  {
   "cell_type": "code",
   "execution_count": 9,
   "metadata": {},
   "outputs": [],
   "source": [
    "# Create computational domain from topological domain\n",
    "domain_h = discretize(domain, ncells=[32,32])\n",
    "\n",
    "# Discrete spaces\n",
    "Vh = discretize(V, domain_h, degree=[2,2], periodic = [True, True])\n",
    "\n",
    "# Discretize equation using Dirichlet bc\n",
    "equation_h = discretize(equation, domain_h, [Vh, Vh], periodic = [True, True])\n",
    "\n",
    "# .. Computes Residual \n",
    "lh     = discretize(l, domain_h, Vh)\n",
    "\n",
    "# 2th-order computes statistical moment\n",
    "lh_sm  = discretize(l_SM, domain_h, Vh)\n",
    "\n",
    "# ... Ginzburg–Landau free energy\n",
    "lh_fe  = discretize(l_FE, domain_h, Vh)\n",
    "\n",
    "# ...\n",
    "nbasis = [w.nbasis for w in Vh.spaces]\n",
    "p1,p2  = Vh.degree"
   ]
  },
  {
   "cell_type": "code",
   "execution_count": 12,
   "metadata": {},
   "outputs": [],
   "source": [
    "def Time_dependent_Poisson(alpha_m, alpha_f, gamma, dt_h, nt, u0_h, du0_h, niter=10):\n",
    "\n",
    "    Tf      = dt_h*(nt+1)\n",
    "    t_h     = 0.\n",
    "    n_iter  = []\n",
    "    Sol_CH  = []\n",
    "    GL_fe   = []\n",
    "    # ...\n",
    "    U0      = FemField( Vh, Vh.vector_space.zeros() )\n",
    "    U0.coeffs._data[p1:-p1,p2:-p2]  = u0_h.coeffs._data[p1:-p1,p2:-p2]\n",
    "    # ... tools for G-alpha method\n",
    "    Un      = FemField( Vh, Vh.vector_space.zeros() )\n",
    "    dUn     = FemField( Vh, Vh.vector_space.zeros() )\n",
    "    Un_f    = FemField( Vh, Vh.vector_space.zeros() )\n",
    "    Un_m    = FemField( Vh, Vh.vector_space.zeros() )\n",
    "\n",
    "    # ...For t>t0\n",
    "    i_sav = 0\n",
    "    plot_field(u0_h, N=2, i_sav = i_sav)\n",
    "    while t_h < Tf :\n",
    "        t_h += dt_h\n",
    "        # ...\n",
    "        Un.coeffs._data[p1:-p1,p2:-p2]  = u0_h.coeffs._data[p1:-p1,p2:-p2]\n",
    "        Un.coeffs.update_ghost_regions()\n",
    "        dUn.coeffs._data[p1:-p1,p2:-p2] = (gamma-1.)/gamma * du0_h.coeffs._data[p1:-p1,p2:-p2]         \n",
    "        dUn.coeffs.update_ghost_regions()\n",
    "        #...Newton iteration for non-linear system\n",
    "        for i in range(niter):\n",
    "            #... alpha level\n",
    "            Un_m.coeffs._data[p1:-p1,p2:-p2] = du0_h.coeffs._data[p1:-p1,p2:-p2] + alpha_m *(dUn.coeffs._data[p1:-p1,p2:-p2]- du0_h.coeffs._data[p1:-p1,p2:-p2])\n",
    "            Un_m.coeffs.update_ghost_regions()\n",
    "            Un_f.coeffs._data[p1:-p1,p2:-p2] = u0_h.coeffs._data[p1:-p1,p2:-p2] + alpha_f *(Un.coeffs._data[p1:-p1,p2:-p2]- u0_h.coeffs._data[p1:-p1,p2:-p2])\n",
    "            Un_f.coeffs.update_ghost_regions()\n",
    "            \n",
    "            delta_x  = equation_h.solve(u0 = Un_f, du0 = Un_m, dt = dt_h)\n",
    "            # ...\n",
    "            Un.coeffs._data[p1:-p1,p2:-p2]  = Un.coeffs._data[p1:-p1,p2:-p2] + gamma * dt_h * delta_x.coeffs._data[p1:-p1,p2:-p2]\n",
    "            Un.coeffs.update_ghost_regions() \n",
    "            dUn.coeffs._data[p1:-p1,p2:-p2] = dUn.coeffs._data[p1:-p1,p2:-p2] + delta_x.coeffs._data[p1:-p1,p2:-p2] \n",
    "            dUn.coeffs.update_ghost_regions() \n",
    "\n",
    "            # assemble the rhs and convert it to numpy array\n",
    "            res = lh.assemble(u0=Un_f, du0=Un_m).toarray()\n",
    "            Res        = max(absolute(res))\n",
    "            \n",
    "            if Res < 1e-6 :\n",
    "                print('perform the iteration number : = {} Residual  = {}'.format( i, Res))\n",
    "                break\n",
    "            # .. update u0\n",
    "        u0_h.coeffs._data[p1:-p1,p2:-p2]  = Un.coeffs._data[p1:-p1,p2:-p2]\n",
    "        u0_h.coeffs.update_ghost_regions()\n",
    "        du0_h.coeffs._data[p1:-p1,p2:-p2] = dUn.coeffs._data[p1:-p1,p2:-p2]\n",
    "        du0_h.coeffs.update_ghost_regions()\n",
    "        i_sav +=1 \n",
    "        plot_field(u0_h, N=2, i_sav = i_sav)\n",
    "        \n",
    "        # ...\n",
    "        n_iter.append(t_h)\n",
    "        Sol_CH.append(np.sum(lh_sm.assemble(u0=U0, du0=u0_h).toarray()))\n",
    "        GL_fe.append(np.sum(lh_fe.assemble(u0=u0_h).toarray()))\n",
    "        print('time step = ', t_h)\n",
    "        # ...\n",
    "    plt.figure() \n",
    "    plt.axes().set_aspect('equal')\n",
    "    plt.subplot(121)\n",
    "    plt.plot(n_iter, Sol_CH, 'o-b', linewidth = 2., label='$\\mathbf{2th-Statistical-Moment}$')\n",
    "    plt.xscale('log')\n",
    "    plt.grid(True)\n",
    "    plt.legend()\n",
    "    plt.subplot(122)\n",
    "    plt.plot(n_iter, GL_fe,  '--or', label = '$\\mathbf{GL-free-energy}$' )\n",
    "    plt.xscale('log')\n",
    "    plt.grid(True)\n",
    "    plt.legend()\n",
    "    plt.subplots_adjust(wspace=0.3)\n",
    "    plt.savefig('figs/Stat_moment_u_{}.png'.format(i_sav))\n",
    "    plt.show(block=False)\n",
    "    plt.close()\n",
    "        \n",
    "    return u0_h, du0_h"
   ]
  },
  {
   "cell_type": "code",
   "execution_count": 13,
   "metadata": {},
   "outputs": [],
   "source": [
    "u0_h    = FemField( Vh, Vh.vector_space.zeros() )\n",
    "u0_h.coeffs._data[p1:-p1,p2:-p2] = (random.rand(nbasis[0],nbasis[1])-1.)*0.05 +0.63\n",
    "u0_h.coeffs.update_ghost_regions() \n",
    "\n",
    "#.. computes the projection of du_0 in the space\n",
    "a_app = BilinearForm((u, v),integral(domain,u*v))  \n",
    "#.. \n",
    "l_app = LinearForm(v, integral(domain,  ( (3.*alpha/(2.*theta)) * (1.-4.*theta*u0*(1.-u0)) + (1.-2.*u0)*laplace(u0)) *dot(grad(u0), grad(v)) + u0*(1.-u0)*laplace(u0)*laplace(v)  ))\n",
    "\n",
    "#..\n",
    "equation_app = find(u, forall=v, lhs=a_app(u, v), rhs= -l_app(v))\n",
    "#..\n",
    "equation_app_h = discretize(equation_app, domain_h, [Vh, Vh], periodic = [True, True])\n",
    "# Solve linear system\n",
    "du0_h = equation_app_h.solve(u0 = u0_h)\n",
    "du0_h.coeffs.update_ghost_regions() "
   ]
  },
  {
   "cell_type": "code",
   "execution_count": null,
   "metadata": {},
   "outputs": [],
   "source": [
    "dt_h     = 1e-7\n",
    "nt       = 1000000\n",
    "\n",
    "un, du  = Time_dependent_Poisson(alpha_m, alpha_f, gamma,dt_h, nt, u0_h, du0_h, niter=40)"
   ]
  },
  {
   "cell_type": "markdown",
   "metadata": {},
   "source": [
    "### m.bahari"
   ]
  }
 ],
 "metadata": {
  "kernelspec": {
   "display_name": "Python 3",
   "language": "python",
   "name": "python3"
  },
  "language_info": {
   "codemirror_mode": {
    "name": "ipython",
    "version": 3
   },
   "file_extension": ".py",
   "mimetype": "text/x-python",
   "name": "python",
   "nbconvert_exporter": "python",
   "pygments_lexer": "ipython3",
   "version": "3.7.6"
  }
 },
 "nbformat": 4,
 "nbformat_minor": 4
}
