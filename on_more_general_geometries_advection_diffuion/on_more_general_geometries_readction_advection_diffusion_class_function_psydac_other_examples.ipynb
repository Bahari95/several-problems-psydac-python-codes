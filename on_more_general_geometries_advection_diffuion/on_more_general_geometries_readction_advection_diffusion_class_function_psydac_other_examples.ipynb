{
 "cells": [
  {
   "cell_type": "markdown",
   "metadata": {},
   "source": [
    "# Isogeometric analysis of the Poisson equation: Non homogeneous boundary condition."
   ]
  },
  {
   "cell_type": "markdown",
   "metadata": {},
   "source": [
    "  Let $\\Omega\\subset\\mathbb{R}^d$ be an open set with sufficiently smooth boundary, denoted by $\\Gamma$, where $d=2$ is the number of spatial dimensions. Then, the problem stated in strong form as :"
   ]
  },
  {
   "cell_type": "markdown",
   "metadata": {},
   "source": [
    "Find $\\mathbf{c} :\\overline{\\Omega}\\times(0,T)\\longmapsto\\mathbb{R}$ such that \n",
    "## $\t\\begin{align*}\n",
    "\t\t\\left\\lbrace\\begin{array}{lll}\n",
    "\t\t\t -\\nabla \\mathbf{A}(x)\\cdot \\nabla\\mathbf{u} + \\mathbf{B}\\cdot\\nabla\\mathbf{u} + c\\nabla\\mathbf{u}&=~ f&\\text{ in } \\Omega ,~~~~~~~~~~(1)\\\\\n",
    "\t\t    \\mathbf{u} &=~ g &\\text{ on } \\partial\\Omega,~~~~~~~~(2)\\\\\n",
    "\t\t\\end{array}\\right.\n",
    "\t\\end{align*}$\n",
    " Where $g\\in H^{-\\frac{1}{2}}(\\partial\\Omega)$ and $\\mathbf{A}, \\mathbf{B}\\in \\left(L^{\\infty}(\\Omega)\\right)^2$."
   ]
  },
  {
   "cell_type": "markdown",
   "metadata": {},
   "source": [
    "## 2. Variational form and discrete formulation"
   ]
  },
  {
   "cell_type": "markdown",
   "metadata": {},
   "source": [
    "Let X be the functional space and $\\big(.,.\\big)_\\Omega$ denote the $L^2$ inner product with respect to  $\\Omega$. We introduce the decomposition $\\mathbf{u}= \\mathbf{u}_0+\\mathbf{u}_g $, where $\\mathbf{u}_g\\in X_g$. The variational formulation is stated as follows :\n",
    "\n",
    "Find $\\mathbf{u}_0\\in X_0$, such that $\\forall~w\\in X_0$ : \n",
    "\n",
    "$$\\textbf{B}\\big(w,\\mathbf{u}_0\\big) = \\mathbf{L}_g(w) ~~~~~~~~~~~~~~~~~~~~~~~~~~~~~~~~~~~~~~~~~~~~~~~~~~~~~(8)$$"
   ]
  },
  {
   "cell_type": "markdown",
   "metadata": {},
   "source": [
    "with\n",
    "\n",
    "$$\\begin{align*}\\textbf{B}\\big(w,\\mathbf{v}\\big) &= \\big(\\nabla\n",
    "w,\\mathbf{A}\\nabla\\mathbf{v}\\big)_\\Omega + \\big(\n",
    "w,\\mathbf{B}\\cdot\\nabla\\mathbf{v}\\big)_\\Omega+ \\big(\n",
    "w,c\\mathbf{v}\\big)_\\Omega.~~~~~~~~~~~~~~~~~~~~~~~~~~~~~~~~~~~~~~~~~~(9)\\\\\n",
    "\\textbf{L}_g\\big(w\\big) &= \\big(w,f\\big)_\\Omega -\\big(\\nabla\n",
    "w,\\nabla\\mathbf{u_g}\\big)_\\Omega - \\big(\n",
    "w,\\mathbf{B}\\cdot\\nabla\\mathbf{u_g}\\big)_\\Omega- \\big(\n",
    "w,c\\mathbf{u_g}\\big)_\\Omega.~~~~~~~~~~~~~~~~~~~~~~~~~~~~~~~~~~~~~~~~~~~~~~~(10)\n",
    "\\end{align*}$$"
   ]
  },
  {
   "cell_type": "markdown",
   "metadata": {},
   "source": [
    "The space discretization of (11) leads to the following variational problem over the finite element spaces : \n",
    "\n",
    "Find $\\mathbf{u}^h \\in X^h\\subset X$, such that $\\forall~w^h \\in X^h$ : \n",
    "\n",
    "$$\\textbf{B}\\big(w^h, \\mathbf{u}^h\\big) = \\textbf{L}_g\\big(w^h\\big) ~~~~~~~~~~~~~~~~~~~~~~~~~~~~~~~~~~~~~~~~~~~~~(10)$$\n",
    "\n",
    "where \n",
    "\n",
    "$$\\mathbf{u}^h = \\sum_{i=1}^{n_b} \\mathbf{u}_iN_i, ~~~ w^h = \\sum_{i=1}^{n_b} w_iN_i~~~~~~~~~~~~~~~~~~~~~~~~~~~~(11)$$\n",
    "\n",
    "$n_b$ is the dimension of discrete space."
   ]
  },
  {
   "cell_type": "markdown",
   "metadata": {},
   "source": [
    "# 5. Numerical implementation under psydac."
   ]
  },
  {
   "cell_type": "markdown",
   "metadata": {},
   "source": []
  },
  {
   "cell_type": "code",
   "execution_count": 10,
   "metadata": {},
   "outputs": [],
   "source": [
    "from simplines import pyccel_sol_field_2d\n",
    "#from matplotlib.pyplot import plot, show\n",
    "import matplotlib.pyplot            as     plt\n",
    "from   mpl_toolkits.axes_grid1      import make_axes_locatable\n",
    "import numpy as np\n",
    "\n",
    "def plot_dtres(VPh,x11, x12, xh, solution = None, nbpts=50):  \n",
    "    u_h = pyccel_sol_field_2d((nbpts,nbpts), xh, VPh.knots, VPh.degree)[0]\n",
    "    X   = pyccel_sol_field_2d((nbpts,nbpts),  x11 , VPh.knots, VPh.degree)[0]\n",
    "    Y   = pyccel_sol_field_2d((nbpts,nbpts),  x12 , VPh.knots, VPh.degree)[0]\n",
    "    # ....\n",
    "    fig , axes=plt.subplots() \n",
    "    im2 = plt.contourf( X, Y, u_h, cmap= 'jet')\n",
    "    divider = make_axes_locatable(axes) \n",
    "    cax   = divider.append_axes(\"right\", size=\"5%\", pad=0.05, aspect = 40) \n",
    "    plt.colorbar(im2, cax=cax) \n",
    "    fig.tight_layout()\n",
    "    plt.savefig('sol_{}.png')\n",
    "    plt.show(block=True)\n",
    "    plt.close() \n",
    "    if solution is not None :\n",
    "        # ....\n",
    "        solution = lambda a, b : (a**2 + b**2-0.2**2)*(a**2 + b**2 - 1.) * np.sin(a)*np.sin(b)\n",
    "        #np.absolute(u_h-solution(X, Y))/np.max(np.absolute(solution(X, Y)))\n",
    "        fig , axes=plt.subplots() \n",
    "        im2 = plt.contourf( X, Y, np.absolute(u_h-solution(X, Y))/np.max(np.absolute(solution(X, Y))), cmap= 'jet')\n",
    "        divider = make_axes_locatable(axes) \n",
    "        cax   = divider.append_axes(\"right\", size=\"5%\", pad=0.05, aspect = 40) \n",
    "        plt.colorbar(im2, cax=cax) \n",
    "        fig.tight_layout()\n",
    "        plt.savefig('errr_inf.png')\n",
    "        plt.show(block=True)\n",
    "        plt.close()"
   ]
  },
  {
   "cell_type": "code",
   "execution_count": null,
   "metadata": {},
   "outputs": [],
   "source": [
    "# 2d linear Advection diffusion equation\n",
    "#\n",
    "# $$\n",
    "# B .\\nabla( u) - \\nabla. A \\nabla( u) = f\n",
    "# $$\n",
    "from psydac.fem.splines  import SplineSpace\n",
    "from sympy import sqrt, pi, cos, sin, exp, log, symbols\n",
    "from sympy.utilities.lambdify import implemented_function\n",
    "import pytest\n",
    "\n",
    "from sympde.calculus import grad, dot\n",
    "from sympde.calculus import laplace\n",
    "from sympde.topology import ScalarFunctionSpace\n",
    "from sympde.topology import element_of\n",
    "from sympde.topology import NormalVector\n",
    "from sympde.topology import Square\n",
    "from sympde.topology import Union\n",
    "from sympde.expr     import BilinearForm, LinearForm, integral\n",
    "from sympde.expr     import Norm\n",
    "from sympde.expr     import find, EssentialBC\n",
    "from sympde.expr.expr import linearize\n",
    "from sympde.core     import Constant\n",
    "from psydac.api.essential_bc   import apply_essential_bc\n",
    "\n",
    "from psydac.fem.basic          import FemField\n",
    "from psydac.api.discretization import discretize\n",
    "# needed imports\n",
    "from numpy import zeros, ones, linspace, zeros_like, loadtxt\n",
    "from matplotlib.pyplot import plot, contourf, show, colorbar\n",
    "from matplotlib import pyplot as plt\n",
    "\n",
    "from sympde.topology.derivatives import dx1, dx2\n",
    "from sympy import Tuple\n",
    "\n",
    "# ... abstract model\n",
    "domain  = Square()\n",
    "B_dir   = domain.boundary\n",
    "\n",
    "V       = ScalarFunctionSpace('V', domain)\n",
    "\n",
    "x,y     = domain.coordinates\n",
    "\n",
    "u,v     = [element_of(V, name=i) for i in ['u', 'v']]\n",
    "\n",
    "# ... mapping in a B-spline form\n",
    "m1,m2   = [element_of(V, name=i) for i in ['m1', 'm2']]\n",
    "\n",
    "#... Dirichlet (ud is free parameter and must be provided later)\n",
    "ud      = element_of(V, name='ud')\n",
    "\n",
    "A       = ( (2. + cos(m1))*(1. + m2), cos(m1 + m2) * sin(m1 + m2),\n",
    "            cos(m1 +m2) * sin(m1 + m2), (2. + sin(m2))*(1. + m1))\n",
    "A_c     = ( (2. + cos(x))*(1. + y), cos(x + y) * sin(x + y),\n",
    "            cos(x +y) * sin(x + y), (2. + sin(y))*(1. + x))\n",
    "# ... test 1\n",
    "#B       = (11.+ sin(m1) + m2*sin(m1) - 2.*cos(m1 + m2)**2, -9. - cos(m2) + m1*cos(m2) - 2.*cos(m1 + m2)**2)\n",
    "#B_c     = (11.+ sin(x) + y*sin(x) - 2.*cos(x + y)**2, -9. - cos(y) + x*cos(y) - 2.*cos(x + y)**2)\n",
    "#c       = 1.\n",
    "\n",
    "# ... test 2\n",
    "B       = (-5.*m2, 5.*m1)\n",
    "B_c     = (-5.*y, 5.*x)\n",
    "c       = m1*m2\n",
    "c_c     = x*y\n",
    "\n",
    "\n",
    "#bracket = lambda a,b: dx1(a)*dx2(b) - dx2(a)*dx1(b)\n",
    "dx_com  = lambda a,b, trg : (dx2(b) * dx1(trg) - dx1(b) * dx2(trg))/abs( dx1(a) * dx2(b) - dx1(b) * dx2(a))\n",
    "dy_com  = lambda a,b, trg : (dx1(a) * dx2(trg) - dx2(a) * dx1(trg))/abs( dx1(a) * dx2(b) - dx1(b) * dx2(a))\n",
    "\n",
    "bracket = lambda a,b, trg1, trg2: (A[0] * dx_com(a,b, trg1) + A[1] * dy_com(a,b, trg1) ) * dx_com(a,b, trg2) + (A[2] * dx_com(a,b, trg1) + A[3] * dy_com(a,b, trg1) ) * dy_com(a,b, trg2) + (B[0]*dx_com(a,b, trg1) + B[1]*dy_com(a,b, trg1))*trg2 + c*trg1*trg2\n",
    "\n",
    "#.. for non symetric solution (Pc)\n",
    "#solution = lambda a,b: sin(2.*pi*a)*sin(2.*pi*b)\n",
    "solution = lambda a,b: (a**2 + b**2-0.2**2)*(a**2 + b**2 - 1.) * sin(a)*sin(b)\n",
    "#.. for computation\n",
    "# Compute the expression of the right-hand side (RHS) first, and then utilize it in subsequent functions : /!\\ \n",
    "#solution_c = (x**2 + y**2 - 0.2**2)*(x**2 + y**2 - 1.) * sin(x)*sin(y)\n",
    "#f          = -dx1(A_c[0]*dx1(solution_c) + A_c[1]*dx2(solution_c)) - dx2(A_c[2]*dx1(solution_c) + A_c[3]*dx2(solution_c)) + B_c[0]*dx1(solution_c) + B_c[1]*dx2(solution_c) + c_c*solution_c\n",
    "#print(f)\n",
    "# ...\n",
    "f        = lambda x1, x2 : x1*x2*(x1**2 + x2**2 - 1.0)*(x1**2 + x2**2 - 0.04)*sin(x1)*sin(x2) + 5.0*x1*(2*x2*(x1**2 + x2**2 - 1.0)*sin(x1)*sin(x2) + 2*x2*(x1**2 + x2**2 - 0.04)*sin(x1)*sin(x2) + (x1**2 + x2**2 - 1.0)*(x1**2 + x2**2 - 0.04)*sin(x1)*cos(x2)) - 5.0*x2*(2*x1*(x1**2 + x2**2 - 1.0)*sin(x1)*sin(x2) + 2*x1*(x1**2 + x2**2 - 0.04)*sin(x1)*sin(x2) + (x1**2 + x2**2 - 1.0)*(x1**2 + x2**2 - 0.04)*sin(x2)*cos(x1)) - (x1 + 1.0)*(sin(x2) + 2.0)*(8*x2**2*sin(x1)*sin(x2) + 4*x2*(x1**2 + x2**2 - 1.0)*sin(x1)*cos(x2) + 4*x2*(x1**2 + x2**2 - 0.04)*sin(x1)*cos(x2) - (x1**2 + x2**2 - 1.0)*(x1**2 + x2**2 - 0.04)*sin(x1)*sin(x2) + (2*x1**2 + 2*x2**2 - 2.0)*sin(x1)*sin(x2) + (2*x1**2 + 2*x2**2 - 0.08)*sin(x1)*sin(x2)) - (x1 + 1.0)*(2*x2*(x1**2 + x2**2 - 1.0)*sin(x1)*sin(x2) + 2*x2*(x1**2 + x2**2 - 0.04)*sin(x1)*sin(x2) + (x1**2 + x2**2 - 1.0)*(x1**2 + x2**2 - 0.04)*sin(x1)*cos(x2))*cos(x2) - (x2 + 1.0)*(cos(x1) + 2.0)*(8*x1**2*sin(x1)*sin(x2) + 4*x1*(x1**2 + x2**2 - 1.0)*sin(x2)*cos(x1) + 4*x1*(x1**2 + x2**2 - 0.04)*sin(x2)*cos(x1) - (x1**2 + x2**2 - 1.0)*(x1**2 + x2**2 - 0.04)*sin(x1)*sin(x2) + (2*x1**2 + 2*x2**2 - 2.0)*sin(x1)*sin(x2) + (2*x1**2 + 2*x2**2 - 0.08)*sin(x1)*sin(x2)) + (x2 + 1.0)*(2*x1*(x1**2 + x2**2 - 1.0)*sin(x1)*sin(x2) + 2*x1*(x1**2 + x2**2 - 0.04)*sin(x1)*sin(x2) + (x1**2 + x2**2 - 1.0)*(x1**2 + x2**2 - 0.04)*sin(x2)*cos(x1))*sin(x1) + (2*x1*(x1**2 + x2**2 - 1.0)*sin(x1)*sin(x2) + 2*x1*(x1**2 + x2**2 - 0.04)*sin(x1)*sin(x2) + (x1**2 + x2**2 - 1.0)*(x1**2 + x2**2 - 0.04)*sin(x2)*cos(x1))*sin(x1 + x2)**2 - (2*x1*(x1**2 + x2**2 - 1.0)*sin(x1)*sin(x2) + 2*x1*(x1**2 + x2**2 - 0.04)*sin(x1)*sin(x2) + (x1**2 + x2**2 - 1.0)*(x1**2 + x2**2 - 0.04)*sin(x2)*cos(x1))*cos(x1 + x2)**2 + (2*x2*(x1**2 + x2**2 - 1.0)*sin(x1)*sin(x2) + 2*x2*(x1**2 + x2**2 - 0.04)*sin(x1)*sin(x2) + (x1**2 + x2**2 - 1.0)*(x1**2 + x2**2 - 0.04)*sin(x1)*cos(x2))*sin(x1 + x2)**2 - (2*x2*(x1**2 + x2**2 - 1.0)*sin(x1)*sin(x2) + 2*x2*(x1**2 + x2**2 - 0.04)*sin(x1)*sin(x2) + (x1**2 + x2**2 - 1.0)*(x1**2 + x2**2 - 0.04)*sin(x1)*cos(x2))*cos(x1 + x2)**2 - 2*(8*x1*x2*sin(x1)*sin(x2) + 2*x1*(x1**2 + x2**2 - 1.0)*sin(x1)*cos(x2) + 2*x1*(x1**2 + x2**2 - 0.04)*sin(x1)*cos(x2) + 2*x2*(x1**2 + x2**2 - 1.0)*sin(x2)*cos(x1) + 2*x2*(x1**2 + x2**2 - 0.04)*sin(x2)*cos(x1) + (x1**2 + x2**2 - 1.0)*(x1**2 + x2**2 - 0.04)*cos(x1)*cos(x2))*sin(x1 + x2)*cos(x1 + x2)\n",
    "\n",
    "\n",
    "\n",
    "# ... let's start\n",
    "\n",
    "# bilinear form\n",
    "expr = bracket(m1,m2,u,v)\n",
    "a    = BilinearForm((u,v), integral(domain , expr * abs( dx1(m1) * dx2(m2) - dx1(m2) * dx2(m1))))\n",
    "\n",
    "# bilinear form for the mass matrix TODO f is not in space\n",
    "expr = u*v\n",
    "m    = BilinearForm((u,v), integral(domain , expr * abs( dx1(m1) * dx2(m2) - dx1(m2) * dx2(m1))))\n",
    "\n",
    "# linear form for initial condition\n",
    "expr = f(m1,m2) *v - bracket(m1,m2,ud,v)\n",
    "l    = LinearForm(v, integral(domain, expr * abs( dx1(m1) * dx2(m2) - dx1(m2) * dx2(m1))) )\n",
    "l_d  = LinearForm(v, integral(domain, solution(m1,m2) * v * abs( dx1(m1) * dx2(m2) - dx1(m2) * dx2(m1))) )\n",
    "\n",
    "bc   = [EssentialBC(u,    0., domain.boundary)]\n",
    "equation = find(u, forall=v, lhs=a(u, v), rhs=l(v), bc= bc)\n",
    "# ## Discretization using Psydac\n",
    "from psydac.api.discretization import discretize\n",
    "from psydac.api.settings       import PSYDAC_BACKEND_GPYCCEL\n",
    "# ..\n",
    "from scipy.sparse.linalg import gmres\n",
    "from simplines import plot_field_2d\n",
    "\n",
    "degree = [2,2]     # spline degree :\n",
    "ncells = [32,32]   # number of elements\n",
    "\n",
    "# Quart_ annulus : r = 0.2 R = 1. degree 2\n",
    "#name_1 = 'fields/Squarx_'  \n",
    "#name_2 = 'fields/Squary_'\n",
    "# Quart_ annulus : r = 0.2 R = 1. degree 2, 3, 4\n",
    "name_1 = 'fields/QAx_'  \n",
    "name_2 = 'fields/QAy_'\n",
    "# Infinite plate with circular hole  degree = 2\n",
    "#name_1 = 'fields/IPx_'  \n",
    "#name_2 = 'fields/IPy_'\n",
    "# CIRCLE degree 2, 3\n",
    "#name_1 = 'fields/Circlex_'  \n",
    "#name_2 = 'fields/Circley_'\n",
    "\n",
    "class Adv_diffusion(object):\n",
    "    \n",
    "    def __init__(self, degree, ncells):\n",
    "\n",
    "        # Create computational domain from topological domain\n",
    "        domain_h = discretize(domain, ncells=ncells, comm=None)\n",
    "        # Discrete spaces\n",
    "        Vh       = discretize(V, domain_h, degree=degree)\n",
    "        # ...\n",
    "        nbasis   = [W.nbasis for W in Vh.spaces]\n",
    "        \n",
    "        if ncells[0] == 16 :\n",
    "            xmp      = loadtxt(name_1+str(degree[0])+'_'+str(16)+'.txt')\n",
    "            ymp      = loadtxt(name_2+str(degree[1])+'_'+str(16)+'.txt')\n",
    "        else :\n",
    "            from   simplines                    import prolongation_matrix\n",
    "            # Create computational domain from topological domain\n",
    "            domain_H = discretize(domain, ncells=[16,16], comm=None)\n",
    "            # Discrete spaces\n",
    "            VH       = discretize(V, domain_H, degree=degree)\n",
    "            # ...\n",
    "            xmp      = loadtxt(name_1+str(degree[0])+'_'+str(16)+'.txt')\n",
    "            ymp      = loadtxt(name_2+str(degree[1])+'_'+str(16)+'.txt')\n",
    "            # ...\n",
    "            M_mp            = prolongation_matrix(VH, Vh)\n",
    "            xmp             = (M_mp.dot(xmp.reshape((16+degree[0])*(16+degree[1])))).reshape(nbasis)\n",
    "            ymp             = (M_mp.dot(ymp.reshape((16+degree[0])*(16+degree[1])))).reshape(nbasis)\n",
    "        \n",
    "        # ... mapping in discret space\n",
    "        mh1      = FemField( Vh, Vh.vector_space.zeros() )\n",
    "        mh2      = FemField( Vh, Vh.vector_space.zeros() )\n",
    "        # ...\n",
    "        mh1.coeffs[0:nbasis[0],0:nbasis[1]]  = xmp[:,:]\n",
    "        mh2.coeffs[0:nbasis[0],0:nbasis[1]]  = ymp[:,:]\n",
    "        \n",
    "        # Discretize the bilinear forms\n",
    "        ah       = discretize(a, domain_h, [Vh, Vh])#, backend=PSYDAC_BACKEND_GPYCCEL)\n",
    "        mh       = discretize(m, domain_h, [Vh, Vh])#, backend=PSYDAC_BACKEND_GPYCCEL)\n",
    "\n",
    "        # Discretize equation using Dirichlet bc\n",
    "        equation_h = discretize(equation, domain_h, [Vh, Vh])\n",
    "\n",
    "        # Discretize the linear form for the initial condition\n",
    "        lh       = discretize(l, domain_h, Vh)#, backend=PSYDAC_BACKEND_GPYCCEL)\n",
    "        lh_d     = discretize(l_d, domain_h, Vh)#, backend=PSYDAC_BACKEND_GPYCCEL)\n",
    "\n",
    "        # Error norms\n",
    "        error    = v*(u - solution(m1,m2)) * sqrt(abs( dx1(m1) * dx2(m2) - dx1(m2) * dx2(m1)))\n",
    "        l2norm   = LinearForm(v, integral(domain, error) )\n",
    "\n",
    "        # assemble matrices and convert them to scipy\n",
    "        M        = mh.assemble(m1 = mh1, m2 = mh2).tosparse()\n",
    "        S        = ah.assemble(m1 = mh1, m2 = mh2)\n",
    "        # ...\n",
    "\n",
    "        # L2 projection of the solution (we computes here Dirichlet boundary condition)\n",
    "        # assemble the rhs and convert it to numpy array\n",
    "        rhs_d          = lh_d.assemble(m1 = mh1, m2 = mh2).toarray()\n",
    "        u_d, status    = gmres(M, rhs_d, tol=1.e-8, maxiter=5000)\n",
    "        # ---\n",
    "        u_d            = u_d.reshape(nbasis)\n",
    "        u_d[1:-1,1:-1] = 0.\n",
    "        udh            = FemField( Vh, Vh.vector_space.zeros() )\n",
    "        udh.coeffs[0:nbasis[0],0:nbasis[1]]  = u_d[:,:]\n",
    "\n",
    "        #plot_field_2d(Vh.knots, Vh.degree, un) ; colorbar() ; show()\n",
    "        #plot_field_2d(Vh.knots, Vh.degree, un.reshape(nbasis), vmin=0., vmax=1.) ; colorbar() #; show()\n",
    "\n",
    "        #\n",
    "        rhs          = lh.assemble(ud = udh, m1 = mh1, m2 = mh2)\n",
    "        apply_essential_bc(S, *equation_h.bc, identity=True)\n",
    "        apply_essential_bc(rhs, *equation_h.bc)\n",
    "\n",
    "        S            = S.tosparse()\n",
    "        rhs          = rhs.toarray()\n",
    "        # Discretize error norms\n",
    "        l2norm_h     = discretize(l2norm, domain_h, Vh)\n",
    "        # ------\n",
    "        self.l2norm_h= l2norm_h\n",
    "        self.Vh      = Vh \n",
    "        self.nbasis  = nbasis\n",
    "        # ...\n",
    "        self.S       = S\n",
    "        self.rhs     = rhs\n",
    "        self.M       = M\n",
    "        self.u_d     = u_d\n",
    "        self.udh     = udh\n",
    "        self.mh1     = mh1\n",
    "        self.mh2     = mh2\n",
    "        self.xmp     = xmp\n",
    "        self.ymp     = ymp\n",
    "    def solve(self):\n",
    "        Vh           = self.Vh\n",
    "        S            = self.S\n",
    "        rhs          = self.rhs\n",
    "        nbasis       = self.nbasis\n",
    "        u_d          = self.u_d\n",
    "        xmp          = self.xmp\n",
    "        ymp          = self.ymp\n",
    "        # ...\n",
    "        u_ap, status = gmres(S, rhs, tol=1.e-6, maxiter=3000)\n",
    "        u_ap         = u_ap.reshape(nbasis)\n",
    "        u_ap[:, :]  += u_d[:, :]\n",
    "\n",
    "        plot_dtres(Vh, xmp, ymp, u_ap.reshape(nbasis), solution = True)\n",
    "        return u_ap\n",
    "\n",
    "    def l2_error(self, u_ap):\n",
    "        Vh        = self.Vh \n",
    "        mh1       = self.mh1\n",
    "        mh2       = self.mh2\n",
    "        nbasis    = self.nbasis\n",
    "        l2norm_h  = self.l2norm_h\n",
    "        \n",
    "        uh        = FemField( Vh, Vh.vector_space.zeros() )\n",
    "        uh.coeffs[0:nbasis[0],0:nbasis[1]]  = u_ap[:,:]\n",
    "        val_error = sqrt(sum(self.l2norm_h.assemble(u=uh, m1 = mh1, m2 = mh2).toarray()))\n",
    "        print('le-error = ', val_error)\n",
    "        return val_error\n",
    "    \n",
    "ad = Adv_diffusion(degree, ncells)"
   ]
  },
  {
   "cell_type": "code",
   "execution_count": 4,
   "metadata": {},
   "outputs": [
    {
     "data": {
      "image/png": "[encoded data removed]",
      "text/plain": [
       "<Figure size 432x288 with 2 Axes>"
      ]
     },
     "metadata": {
      "needs_background": "light"
     },
     "output_type": "display_data"
    },
    {
     "data": {
      "image/png": "[encoded data removed]",
      "text/plain": [
       "<Figure size 432x288 with 2 Axes>"
      ]
     },
     "metadata": {
      "needs_background": "light"
     },
     "output_type": "display_data"
    },
    {
     "name": "stdout",
     "output_type": "stream",
     "text": [
      "le-error =  0.00307070229441496*I\n"
     ]
    },
    {
     "data": {
      "text/latex": [
       "$\\displaystyle 0.00307070229441496 i$"
      ],
      "text/plain": [
       "0.00307070229441496*I"
      ]
     },
     "execution_count": 4,
     "metadata": {},
     "output_type": "execute_result"
    }
   ],
   "source": [
    "u_ap = ad.solve()\n",
    "ad.l2_error(u_ap)"
   ]
  },
  {
   "cell_type": "markdown",
   "metadata": {},
   "source": [
    "## Here's another way to write the code TODO"
   ]
  },
  {
   "cell_type": "markdown",
   "metadata": {},
   "source": [
    "# BAHARI Mustapha"
   ]
  }
 ],
 "metadata": {
  "kernelspec": {
   "display_name": "Python 3",
   "language": "python",
   "name": "python3"
  },
  "language_info": {
   "codemirror_mode": {
    "name": "ipython",
    "version": 3
   },
   "file_extension": ".py",
   "mimetype": "text/x-python",
   "name": "python",
   "nbconvert_exporter": "python",
   "pygments_lexer": "ipython3",
   "version": "3.7.6"
  }
 },
 "nbformat": 4,
 "nbformat_minor": 4
}
