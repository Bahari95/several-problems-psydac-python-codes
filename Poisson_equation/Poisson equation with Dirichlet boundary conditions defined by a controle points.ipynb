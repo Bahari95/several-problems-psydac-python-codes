{
 "cells": [
  {
   "cell_type": "markdown",
   "metadata": {},
   "source": [
    "# Isogeometric analysis of the Poisson equation using the control points at the boundary."
   ]
  },
  {
   "cell_type": "markdown",
   "metadata": {},
   "source": [
    "  Let $\\Omega\\subset\\mathbb{R}^d$ be an open set with sufficiently smooth boundary, denoted by $\\Gamma$, where $d=2$ is the number of spatial dimensions. Then, the problem stated in strong form as :"
   ]
  },
  {
   "cell_type": "markdown",
   "metadata": {},
   "source": [
    "Find $\\mathbf{c} :\\overline{\\Omega}\\times(0,T)\\longmapsto\\mathbb{R}$ such that \n",
    "## $\t\\begin{align*}\n",
    "\t\t\\left\\lbrace\\begin{array}{lll}\n",
    "\t\t\t -\\nabla \\cdot \\nabla\\mathbf{u}~~~~~=~ f&\\text{ in } \\Omega ,~~~~~~~~~~(1)\\\\\n",
    "\t\t    \\mathbf{u}~~~~~~~~~~~~~~~~~ =~ g &\\text{ on } \\Gamma_g,~~~~~~~~(2)\\\\\n",
    "\t\t\\end{array}\\right.\n",
    "\t\\end{align*}$\n",
    " Where (2) is defined by a control point, that $g$ is in B-spline form."
   ]
  },
  {
   "cell_type": "markdown",
   "metadata": {},
   "source": [
    "## 2. Variational form and discrete formulation"
   ]
  },
  {
   "cell_type": "markdown",
   "metadata": {},
   "source": [
    "Let X be the functional space and $\\big(.,.\\big)_\\Omega$ denote the $L^2$ inner product with respect to  $\\Omega$. We introduce the decomposition $\\mathbf{u}= \\mathbf{u}_0+\\mathbf{u}_g $, where $\\mathbf{u}_g\\in X_g$. The variational formulation is stated as follows :\n",
    "\n",
    "Find $\\mathbf{u}_0\\in X_0$, such that $\\forall~w\\in X_0$ : \n",
    "\n",
    "$$\\textbf{B}\\big(w,\\mathbf{u}_0\\big) = \\mathbf{L}_g(w) ~~~~~~~~~~~~~~~~~~~~~~~~~~~~~~~~~~~~~~~~~~~~~~~~~~~~~(8)$$"
   ]
  },
  {
   "cell_type": "markdown",
   "metadata": {},
   "source": [
    "with\n",
    "\n",
    "$$\\begin{align*}\\textbf{B}\\big(w,\\mathbf{v}\\big) &= \\big(\\nabla\n",
    "w,\\nabla\\mathbf{v}\\big)_\\Omega.~~~~~~~~~~~~~~~~~~~~~~~~~~~~~~~~~~~~~~~~~~(9)\\\\\n",
    "\\textbf{L}_g\\big(w\\big) &= \\big(w,f\\big)_\\Omega -\\big(\\nabla\n",
    "w,\\nabla\\mathbf{u_g}\\big)_\\Omega.~~~~~~~~~~~~~~~~~~~~~~~~~~~~~~~~~~~~~~~~~~~~~~~(10)\n",
    "\\end{align*}$$"
   ]
  },
  {
   "cell_type": "markdown",
   "metadata": {},
   "source": [
    "The space discretization of (11) leads to the following variational problem over the finite element spaces : \n",
    "\n",
    "Find $\\mathbf{u}^h \\in X^h\\subset X$, such that $\\forall~w^h \\in X^h$ : \n",
    "\n",
    "$$\\textbf{B}\\big(w^h, \\mathbf{u}^h\\big) = \\textbf{L}_g\\big(w^h\\big) ~~~~~~~~~~~~~~~~~~~~~~~~~~~~~~~~~~~~~~~~~~~~~(10)$$\n",
    "\n",
    "where \n",
    "\n",
    "$$\\mathbf{u}^h = \\sum_{i=1}^{n_b} \\mathbf{u}_iN_i, ~~~ w^h = \\sum_{i=1}^{n_b} w_iN_i~~~~~~~~~~~~~~~~~~~~~~~~~~~~(11)$$\n",
    "\n",
    "$n_b$ is the dimension of discrete space."
   ]
  },
  {
   "cell_type": "markdown",
   "metadata": {},
   "source": [
    "# 5. Numerical implementation under psydac."
   ]
  },
  {
   "cell_type": "markdown",
   "metadata": {},
   "source": [
    "$\\textit{TODO}$"
   ]
  },
  {
   "cell_type": "code",
   "execution_count": 1,
   "metadata": {},
   "outputs": [],
   "source": [
    "from sympy import pi, cos, sin, exp, log, symbols\n",
    "from sympy.utilities.lambdify import implemented_function\n",
    "import pytest\n",
    "\n",
    "from sympde.calculus import grad, dot\n",
    "from sympde.calculus import laplace\n",
    "from sympde.topology import ScalarFunctionSpace\n",
    "from sympde.topology import element_of\n",
    "from sympde.topology import NormalVector\n",
    "from sympde.topology import Square\n",
    "from sympde.topology import Union\n",
    "from sympde.expr     import BilinearForm, LinearForm, integral\n",
    "from sympde.expr     import Norm\n",
    "from sympde.expr     import find, EssentialBC\n",
    "from sympde.expr.expr import linearize\n",
    "from sympde.core     import Constant\n",
    "\n",
    "from psydac.fem.basic          import FemField\n",
    "from psydac.api.discretization import discretize\n",
    "\n",
    "x,y,z = symbols('x1, x2, x3')"
   ]
  },
  {
   "cell_type": "code",
   "execution_count": 2,
   "metadata": {},
   "outputs": [],
   "source": [
    "# ..Topological domain\n",
    "domain = Square()\n",
    "B_dirichlet_0 = domain.boundary"
   ]
  },
  {
   "cell_type": "code",
   "execution_count": 3,
   "metadata": {},
   "outputs": [],
   "source": [
    "# ..Function Space\n",
    "V  = ScalarFunctionSpace('V', domain)\n",
    "\n",
    "#...\n",
    "degree = [3,3]       #.. degree = 2, 3\n",
    "ncells = [2**6,2**6] #.. ncells= 2**4,5,6"
   ]
  },
  {
   "cell_type": "code",
   "execution_count": 4,
   "metadata": {},
   "outputs": [],
   "source": [
    "# .. Defining the Linear form $G$\n",
    "u  = element_of(V, name='u')\n",
    "v  = element_of(V, name='v')\n",
    "#.. Tools of Poisson equation\n",
    "#.. for non symetric solution (Pc)\n",
    "solution = sin(3.*pi*y)*(x+0.5)**2\n",
    "f        = 9*pi**2*(x + 0.5)**2*sin(3*pi*y) - 2*sin(3*pi*y)\n",
    "#.. for POlynomial (Pc_poly)\n",
    "#solution = x*(1.-x)*y*(1.-y)\n",
    "#f        = 2.*y*(1.-y) + 2.*x*(1.-x)"
   ]
  },
  {
   "cell_type": "code",
   "execution_count": 5,
   "metadata": {},
   "outputs": [],
   "source": [
    "#... Dirichlet (ud is free parameter and must be provided later)\n",
    "ud  = element_of(V, name='ud')\n",
    "# Linear form l: V --> R\n",
    "l = LinearForm(v, integral(domain, f * v - dot(grad(ud), grad(v))))"
   ]
  },
  {
   "cell_type": "code",
   "execution_count": 6,
   "metadata": {},
   "outputs": [],
   "source": [
    "# Bilinear form a: V x V --> R\n",
    "a = BilinearForm((u, v), integral(domain, dot(grad(u), grad(v)) ))"
   ]
  },
  {
   "cell_type": "code",
   "execution_count": 7,
   "metadata": {},
   "outputs": [],
   "source": [
    "bc = [EssentialBC(u,    0., domain.boundary)]\n",
    "equation = find(u, forall=v, lhs=a(u, v), rhs=l(v), bc= bc)\n",
    "# Create computational domain from topological domain\n",
    "from mpi4py import MPI\n",
    "domain_h = discretize(domain, ncells=ncells, comm=MPI.COMM_WORLD)\n",
    "\n",
    "# Discrete spaces\n",
    "Vh = discretize(V, domain_h, degree=degree)\n",
    "\n",
    "# Discretize equation using Dirichlet bc\n",
    "equation_h = discretize(equation, domain_h, [Vh, Vh])"
   ]
  },
  {
   "cell_type": "code",
   "execution_count": 8,
   "metadata": {},
   "outputs": [],
   "source": [
    "# First guess: zero solution\n",
    "u_dh  = FemField(Vh)\n",
    "nbasis = [ncells[0]+degree[0], ncells[1]+degree[1]]\n",
    "from numpy import loadtxt \n",
    "xd = loadtxt('Pc_'+str(degree[0])+'_'+str(ncells[0])+'.txt')\n",
    "#print(xd)\n",
    "u_dh.coeffs[0:nbasis[0],0:nbasis[0]] = xd[:,:]"
   ]
  },
  {
   "cell_type": "code",
   "execution_count": 9,
   "metadata": {},
   "outputs": [
    {
     "name": "stdout",
     "output_type": "stream",
     "text": [
      "le-error =  0.00033219995602790466\n"
     ]
    }
   ],
   "source": [
    "# Solve linear system\n",
    "u_h = equation_h.solve(ud = u_dh)\n",
    "\n",
    "# ... Assemble Dirichlet\n",
    "u_h.coeffs[0:nbasis[0],0:nbasis[0]] += xd[:,:]\n",
    "# Error norms\n",
    "error  = u - solution\n",
    "l2norm = Norm(error, domain, kind='l2')\n",
    "# Discretize error norms\n",
    "l2norm_h = discretize(l2norm, domain_h, Vh)\n",
    "print('le-error = ', l2norm_h.assemble(u=u_h))"
   ]
  },
  {
   "cell_type": "code",
   "execution_count": 10,
   "metadata": {},
   "outputs": [
    {
     "data": {
      "text/plain": [
       "<matplotlib.colorbar.Colorbar at 0x7f02b5b9fdd0>"
      ]
     },
     "execution_count": 10,
     "metadata": {},
     "output_type": "execute_result"
    },
    {
     "data": {
      "image/png": "[encoded data removed]",
      "text/plain": [
       "<Figure size 432x288 with 2 Axes>"
      ]
     },
     "metadata": {
      "needs_background": "light"
     },
     "output_type": "display_data"
    }
   ],
   "source": [
    "from matplotlib import pyplot as plt\n",
    "from simplines import plot_field_2d\n",
    "nbasis = [w.nbasis for w in Vh.spaces]\n",
    "p1,p2 = Vh.degree\n",
    "x = u_h.coeffs._data[p1:-p1,p2:-p2]\n",
    "u = x.reshape(nbasis)\n",
    "plot_field_2d(Vh.knots, Vh.degree, u) ; plt.colorbar()"
   ]
  },
  {
   "cell_type": "code",
   "execution_count": null,
   "metadata": {},
   "outputs": [],
   "source": []
  }
 ],
 "metadata": {
  "kernelspec": {
   "display_name": "Python 3",
   "language": "python",
   "name": "python3"
  },
  "language_info": {
   "codemirror_mode": {
    "name": "ipython",
    "version": 3
   },
   "file_extension": ".py",
   "mimetype": "text/x-python",
   "name": "python",
   "nbconvert_exporter": "python",
   "pygments_lexer": "ipython3",
   "version": "3.7.6"
  }
 },
 "nbformat": 4,
 "nbformat_minor": 4
}
