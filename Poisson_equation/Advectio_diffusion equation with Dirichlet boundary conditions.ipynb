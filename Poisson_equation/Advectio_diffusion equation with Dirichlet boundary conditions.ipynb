{
 "cells": [
  {
   "cell_type": "markdown",
   "metadata": {},
   "source": [
    "# Isogeometric analysis of the Poisson equation: Non homogeneous boundary condition."
   ]
  },
  {
   "cell_type": "markdown",
   "metadata": {},
   "source": [
    "  Let $\\Omega\\subset\\mathbb{R}^d$ be an open set with sufficiently smooth boundary, denoted by $\\Gamma$, where $d=2$ is the number of spatial dimensions. Then, the problem stated in strong form as :"
   ]
  },
  {
   "cell_type": "markdown",
   "metadata": {},
   "source": [
    "Find $\\mathbf{c} :\\overline{\\Omega}\\times(0,T)\\longmapsto\\mathbb{R}$ such that \n",
    "## $\t\\begin{align*}\n",
    "\t\t\\left\\lbrace\\begin{array}{lll}\n",
    "\t\t\t -\\nabla \\mathbf{A}(x)\\cdot \\nabla\\mathbf{u} + \\mathbf{B}\\cdot\\nabla\\mathbf{u}&=~ f&\\text{ in } \\Omega ,~~~~~~~~~~(1)\\\\\n",
    "\t\t    \\mathbf{u} &=~ g &\\text{ on } \\partial\\Omega,~~~~~~~~(2)\\\\\n",
    "\t\t\\end{array}\\right.\n",
    "\t\\end{align*}$\n",
    " Where $g\\in H^{-\\frac{1}{2}}(\\partial\\Omega)$ and $\\mathbf{A}, \\mathbf{B}\\in \\left(L^{\\infty}(\\Omega)\\right)^2$."
   ]
  },
  {
   "cell_type": "markdown",
   "metadata": {},
   "source": [
    "## 2. Variational form and discrete formulation"
   ]
  },
  {
   "cell_type": "markdown",
   "metadata": {},
   "source": [
    "Let X be the functional space and $\\big(.,.\\big)_\\Omega$ denote the $L^2$ inner product with respect to  $\\Omega$. We introduce the decomposition $\\mathbf{u}= \\mathbf{u}_0+\\mathbf{u}_g $, where $\\mathbf{u}_g\\in X_g$. The variational formulation is stated as follows :\n",
    "\n",
    "Find $\\mathbf{u}_0\\in X_0$, such that $\\forall~w\\in X_0$ : \n",
    "\n",
    "$$\\textbf{B}\\big(w,\\mathbf{u}_0\\big) = \\mathbf{L}_g(w) ~~~~~~~~~~~~~~~~~~~~~~~~~~~~~~~~~~~~~~~~~~~~~~~~~~~~~(8)$$"
   ]
  },
  {
   "cell_type": "markdown",
   "metadata": {},
   "source": [
    "with\n",
    "\n",
    "$$\\begin{align*}\\textbf{B}\\big(w,\\mathbf{v}\\big) &= \\big(\\nabla\n",
    "w,\\mathbf{A}\\nabla\\mathbf{v}\\big)_\\Omega + \\big(\n",
    "w,\\mathbf{B}\\cdot\\nabla\\mathbf{v}\\big)_\\Omega.~~~~~~~~~~~~~~~~~~~~~~~~~~~~~~~~~~~~~~~~~~(9)\\\\\n",
    "\\textbf{L}_g\\big(w\\big) &= \\big(w,f\\big)_\\Omega -\\big(\\nabla\n",
    "w,\\nabla\\mathbf{u_g}\\big)_\\Omega - \\big(\n",
    "w,\\mathbf{B}\\cdot\\nabla\\mathbf{u_g}\\big)_\\Omega.~~~~~~~~~~~~~~~~~~~~~~~~~~~~~~~~~~~~~~~~~~~~~~~(10)\n",
    "\\end{align*}$$"
   ]
  },
  {
   "cell_type": "markdown",
   "metadata": {},
   "source": [
    "The space discretization of (11) leads to the following variational problem over the finite element spaces : \n",
    "\n",
    "Find $\\mathbf{u}^h \\in X^h\\subset X$, such that $\\forall~w^h \\in X^h$ : \n",
    "\n",
    "$$\\textbf{B}\\big(w^h, \\mathbf{u}^h\\big) = \\textbf{L}_g\\big(w^h\\big) ~~~~~~~~~~~~~~~~~~~~~~~~~~~~~~~~~~~~~~~~~~~~~(10)$$\n",
    "\n",
    "where \n",
    "\n",
    "$$\\mathbf{u}^h = \\sum_{i=1}^{n_b} \\mathbf{u}_iN_i, ~~~ w^h = \\sum_{i=1}^{n_b} w_iN_i~~~~~~~~~~~~~~~~~~~~~~~~~~~~(11)$$\n",
    "\n",
    "$n_b$ is the dimension of discrete space."
   ]
  },
  {
   "cell_type": "markdown",
   "metadata": {},
   "source": [
    "# 5. Numerical implementation under psydac."
   ]
  },
  {
   "cell_type": "markdown",
   "metadata": {},
   "source": [
    "$\\textit{TODO}$"
   ]
  },
  {
   "cell_type": "code",
   "execution_count": 2,
   "metadata": {},
   "outputs": [],
   "source": [
    "from sympy import pi, cos, sin, exp, log, symbols\n",
    "from sympy.utilities.lambdify import implemented_function\n",
    "import pytest\n",
    "\n",
    "from sympde.calculus import grad, dot\n",
    "from sympde.calculus import laplace\n",
    "from sympde.topology import ScalarFunctionSpace\n",
    "from sympde.topology import element_of\n",
    "from sympde.topology import NormalVector\n",
    "from sympde.topology import Square\n",
    "from sympde.topology import Union\n",
    "from sympde.expr     import BilinearForm, LinearForm, integral\n",
    "from sympde.expr     import Norm\n",
    "from sympde.expr     import find, EssentialBC\n",
    "from sympde.expr.expr import linearize\n",
    "from sympde.core     import Constant\n",
    "\n",
    "from psydac.fem.basic          import FemField\n",
    "from psydac.api.discretization import discretize\n",
    "\n",
    "x,y,z = symbols('x1, x2, x3')\n",
    "\n",
    "from sympy import diff\n",
    "dx      = lambda e: diff(e,x)\n",
    "dy      = lambda e: diff(e,y)"
   ]
  },
  {
   "cell_type": "code",
   "execution_count": 3,
   "metadata": {},
   "outputs": [],
   "source": [
    "# ..Topological domain\n",
    "domain = Square()\n",
    "B_dirichlet_0 = domain.boundary"
   ]
  },
  {
   "cell_type": "code",
   "execution_count": 4,
   "metadata": {},
   "outputs": [],
   "source": [
    "# ..Function Space\n",
    "V      = ScalarFunctionSpace('V', domain)\n",
    "p      = 3 \n",
    "nbe    = 5\n",
    "#...\n",
    "degree = [p,p]       #.. degree = 2, 3\n",
    "ncells = [2**nbe,2**nbe] #.. ncells= 2**4,5,6"
   ]
  },
  {
   "cell_type": "code",
   "execution_count": 5,
   "metadata": {},
   "outputs": [],
   "source": [
    "# .. Defining the Linear form $G$\n",
    "u        = element_of(V, name='u')\n",
    "v        = element_of(V, name='v')\n",
    "#.. Tools of Poisson equation\n",
    "A        = 1. #0.0115 * sin(2.*pi/3)**2+0.*x+0.*y #, 0.0115 * sin(2.*pi/3)*cos(2.*pi/3)+0.*x+0.*y, 0.0115 * cos(2.*pi/3)**2+0.*x+0.*y)\n",
    "B        = (y-0.5, 0.5- x)\n",
    "\n",
    "#.. for non symetric solution (Pc)\n",
    "#solution = sin(3.*pi*y)*(x+0.5)**2\n",
    "solution = sin(2.*pi*x)*sin(2.*pi*y)\n",
    "#f        = 3*pi*(0.5 - x1)*(x1 + 0.5)**2*cos(3*pi*x2) + 0.1035*pi**2*(x1 + 0.5)**2*sin(0.666666666666667*pi)**2*sin(3*pi*x2) + (2*x1 + 1.0)*(x2 - 0.5)*sin(3*pi*x2) - 0.023*sin(0.666666666666667*pi)**2*sin(3*pi*x2)\n",
    "#.. for computation\n",
    "f        = A * (-dx(  dx(solution)) - dy( dy(solution) ) ) + B[0] * dx(solution) + B[1] * dy(solution)"
   ]
  },
  {
   "cell_type": "code",
   "execution_count": 6,
   "metadata": {},
   "outputs": [],
   "source": [
    "# Linear form l: V --> R\n",
    "l = LinearForm(v, integral(domain, f * v))"
   ]
  },
  {
   "cell_type": "code",
   "execution_count": 7,
   "metadata": {},
   "outputs": [],
   "source": [
    "# Bilinear form a: V x V --> R\n",
    "a = BilinearForm((u, v), integral(domain, A * dot( grad(u), grad(v)) + (B[0]*dx(u) +B[1]*dy(u)) * v ))\n",
    "\n",
    "#a = BilinearForm((u, v), integral(domain, (A[0] * dx(u) + A[1] * dy(u) ) * dx(v) + (A[1] * dx(u) + A[2] * dy(u) ) * dy(v) + (B[0]*dx(u) + B[1]*dy(u))*v ) )"
   ]
  },
  {
   "cell_type": "code",
   "execution_count": 8,
   "metadata": {},
   "outputs": [],
   "source": [
    "bc = [EssentialBC(u,    solution, domain.boundary)]\n",
    "equation = find(u, forall=v, lhs=a(u, v), rhs=l(v), bc= bc)\n",
    "# Create computational domain from topological domain\n",
    "from mpi4py import MPI\n",
    "domain_h = discretize(domain, ncells=ncells)#, comm=MPI.COMM_WORLD)\n",
    "\n",
    "# Discrete spaces\n",
    "Vh = discretize(V, domain_h, degree=degree)\n",
    "\n",
    "# Discretize equation using Dirichlet bc\n",
    "equation_h = discretize(equation, domain_h, [Vh, Vh])"
   ]
  },
  {
   "cell_type": "code",
   "execution_count": 9,
   "metadata": {},
   "outputs": [],
   "source": [
    "# First guess: zero solution\n",
    "#u_dh  = FemField(Vh)\n",
    "nbasis = [ncells[0]+degree[0], ncells[1]+degree[1]]"
   ]
  },
  {
   "cell_type": "code",
   "execution_count": 10,
   "metadata": {},
   "outputs": [
    {
     "name": "stdout",
     "output_type": "stream",
     "text": [
      "le-error =  0.010000188446312801\n"
     ]
    }
   ],
   "source": [
    "# Solve linear system\n",
    "u_h = equation_h.solve()\n",
    "\n",
    "# Error norms\n",
    "error  = u - solution\n",
    "l2norm = Norm(error, domain, kind='l2')\n",
    "# Discretize error norms\n",
    "l2norm_h = discretize(l2norm, domain_h, Vh)\n",
    "print('le-error = ', l2norm_h.assemble(u=u_h))"
   ]
  },
  {
   "cell_type": "code",
   "execution_count": 11,
   "metadata": {},
   "outputs": [
    {
     "data": {
      "text/plain": [
       "<matplotlib.colorbar.Colorbar at 0x7f2fe01fff50>"
      ]
     },
     "execution_count": 11,
     "metadata": {},
     "output_type": "execute_result"
    },
    {
     "data": {
      "image/png": "[encoded data removed]",
      "text/plain": [
       "<Figure size 432x288 with 2 Axes>"
      ]
     },
     "metadata": {
      "needs_background": "light"
     },
     "output_type": "display_data"
    }
   ],
   "source": [
    "from matplotlib import pyplot as plt\n",
    "from simplines import plot_field_2d\n",
    "nbasis = [w.nbasis for w in Vh.spaces]\n",
    "p1,p2 = Vh.degree\n",
    "x = u_h.coeffs._data[p1:-p1,p2:-p2]\n",
    "u = x.reshape(nbasis)\n",
    "plot_field_2d(Vh.knots, Vh.degree, u) ; plt.colorbar()"
   ]
  },
  {
   "cell_type": "code",
   "execution_count": null,
   "metadata": {},
   "outputs": [],
   "source": []
  },
  {
   "cell_type": "markdown",
   "metadata": {},
   "source": [
    "## Here's another way to write the code"
   ]
  },
  {
   "cell_type": "code",
   "execution_count": 12,
   "metadata": {},
   "outputs": [
    {
     "name": "stdout",
     "output_type": "stream",
     "text": [
      "le-error =  0.0001840340056917478\n"
     ]
    },
    {
     "data": {
      "image/png": "[encoded data removed]",
      "text/plain": [
       "<Figure size 432x288 with 2 Axes>"
      ]
     },
     "metadata": {
      "needs_background": "light"
     },
     "output_type": "display_data"
    }
   ],
   "source": [
    "# 2d linear Advection diffusion equation\n",
    "#\n",
    "# $$\n",
    "# B .\\nabla( u) - \\nabla. A \\nabla( u) = f\n",
    "# $$\n",
    "\n",
    "from sympy import pi, cos, sin, exp, log, symbols\n",
    "from sympy.utilities.lambdify import implemented_function\n",
    "import pytest\n",
    "\n",
    "from sympde.calculus import grad, dot\n",
    "from sympde.calculus import laplace\n",
    "from sympde.topology import ScalarFunctionSpace\n",
    "from sympde.topology import element_of\n",
    "from sympde.topology import NormalVector\n",
    "from sympde.topology import Square\n",
    "from sympde.topology import Union\n",
    "from sympde.expr     import BilinearForm, LinearForm, integral\n",
    "from sympde.expr     import Norm\n",
    "from sympde.expr     import find, EssentialBC\n",
    "from sympde.expr.expr import linearize\n",
    "from sympde.core     import Constant\n",
    "from psydac.api.essential_bc   import apply_essential_bc\n",
    "\n",
    "from psydac.fem.basic          import FemField\n",
    "from psydac.api.discretization import discretize\n",
    "# needed imports\n",
    "from numpy import zeros, ones, linspace, zeros_like\n",
    "from matplotlib.pyplot import plot, contourf, show, colorbar\n",
    "from matplotlib import pyplot as plt\n",
    "\n",
    "from sympde.topology.derivatives import dx1, dx2\n",
    "from sympy import Tuple\n",
    "\n",
    "# ... abstract model\n",
    "domain  = Square()\n",
    "B_dir   = domain.boundary\n",
    "\n",
    "V       = ScalarFunctionSpace('V', domain)\n",
    "\n",
    "x,y     = domain.coordinates\n",
    "\n",
    "u,v     = [element_of(V, name=i) for i in ['u', 'v']]\n",
    "\n",
    "#... Dirichlet (ud is free parameter and must be provided later)\n",
    "ud  = element_of(V, name='ud')\n",
    "\n",
    "A       = (1,0,1)#(0.0115 * sin(2.*pi/3)**2+0.*x+0.*y ,\n",
    "#            0.0115 * sin(2.*pi/3)*cos(2.*pi/3)+0.*x+0.*y,\n",
    "#            0.0115 * cos(2.*pi/3)**2+0.*x+0.*y)\n",
    "B       = (0.0,0.0)#(y-0.5, 0.5- x)\n",
    "\n",
    "#bracket = lambda a,b: dx1(a)*dx2(b) - dx2(a)*dx1(b)\n",
    "bracket = lambda a,b: (A[0] * dx1(a) + A[1] * dx2(a) ) * dx1(b) + (A[1] * dx1(a) + A[2] * dx2(a) ) * dx2(b) + (B[0]*dx1(a) + B[1]*dx2(a))*b\n",
    "\n",
    "#bracket = lambda a,b: (1.5 * dx1(a)) * dx1(b) + (1.5 * dx2(a) ) * dx2(b) + (B[0]*dx1(a) + B[1]*dx2(a))*b\n",
    "#.. for non symetric solution (Pc)\n",
    "solution = sin(3.*pi*y)*(x+0.5)**2\n",
    "#solution = cos(2.*pi*x)*sin(2.*pi*y)\n",
    "#f        = 3*pi*(0.5 - x1)*(x1 + 0.5)**2*cos(3*pi*x2) + 0.1035*pi**2*(x1 + 0.5)**2*sin(0.666666666666667*pi)**2*sin(3*pi*x2) + (2*x1 + 1.0)*(x2 - 0.5)*sin(3*pi*x2) - 0.023*sin(0.666666666666667*pi)**2*sin(3*pi*x2)\n",
    "#.. for computation\n",
    "f        = -dx1(A[0]*dx1(solution) + A[1]*dx2(solution)) - dx2(A[1]*dx1(solution) + A[2]*dx2(solution)) + B[0]*dx1(solution) + B[1]*dx2(solution)\n",
    "#f        = -dx1(1.5*dx1(solution)) - dx2(1.5*dx2(solution)) + B[0]*dx1(solution) + B[1]*dx2(solution)\n",
    "# bilinear form\n",
    "expr = dot(grad(u), grad(v)) #bracket(u,v)\n",
    "a    = BilinearForm((u,v), integral(domain , expr))\n",
    "\n",
    "# bilinear form for the mass matrix\n",
    "expr = u*v\n",
    "m    = BilinearForm((u,v), integral(domain , expr))\n",
    "\n",
    "# linear form for initial condition\n",
    "expr = f*v - bracket(ud,v)\n",
    "l    = LinearForm(v, integral(domain, expr) )\n",
    "l_d  = LinearForm(v, integral(domain, solution*v) )\n",
    "\n",
    "# ## Discretization using Psydac\n",
    "from psydac.api.discretization import discretize\n",
    "from psydac.api.settings       import PSYDAC_BACKEND_GPYCCEL\n",
    "\n",
    "degree = [2,2]     # spline degree\n",
    "ncells = [32,32]   # number of elements\n",
    "\n",
    "#degree = [2,2]    # spline degree\n",
    "#ncells = [16,16]   # number of elements\n",
    "\n",
    "# Create computational domain from topological domain\n",
    "domain_h = discretize(domain, ncells=ncells, comm=None)\n",
    "\n",
    "# Discrete spaces\n",
    "Vh   = discretize(V, domain_h, degree=degree)\n",
    "\n",
    "bc   = [EssentialBC(u,    0., domain.boundary)]\n",
    "# Discretize the bilinear forms\n",
    "ah   = discretize(a, domain_h, [Vh, Vh])#, backend=PSYDAC_BACKEND_GPYCCEL)\n",
    "mh   = discretize(m, domain_h, [Vh, Vh])#, backend=PSYDAC_BACKEND_GPYCCEL)\n",
    "\n",
    "# Discretize the linear form for the initial condition\n",
    "lh   = discretize(l, domain_h, Vh)#, backend=PSYDAC_BACKEND_GPYCCEL)\n",
    "lh_d = discretize(l_d, domain_h, Vh)#, backend=PSYDAC_BACKEND_GPYCCEL)\n",
    "\n",
    "# Error norms\n",
    "error  = u - solution\n",
    "l2norm = Norm(error, domain, kind='l2')\n",
    "\n",
    "# assemble matrices and convert them to scipy\n",
    "M  = mh.assemble().tosparse()\n",
    "S  = ah.assemble()\n",
    "\n",
    "# ..\n",
    "from scipy.sparse.linalg import gmres\n",
    "from simplines import plot_field_2d\n",
    "# ...\n",
    "\n",
    "nbasis = [W.nbasis for W in Vh.spaces]\n",
    "\n",
    "# L2 projection of the initial condition\n",
    "# assemble the rhs and convert it to numpy array\n",
    "rhs_d         = lh_d.assemble().toarray()\n",
    "un, status    = gmres(M, rhs_d, tol=1.e-8, maxiter=5000)\n",
    "# ---\n",
    "un            = un.reshape(nbasis)\n",
    "un[1:-1,1:-1] = 0.\n",
    "udh           = FemField( Vh, Vh.vector_space.zeros() )\n",
    "udh.coeffs[0:nbasis[0],0:nbasis[1]]  = un[:,:]\n",
    "\n",
    "#plot_field_2d(Vh.knots, Vh.degree, un) ; colorbar() ; show()\n",
    "#plot_field_2d(Vh.knots, Vh.degree, un.reshape(nbasis), vmin=0., vmax=1.) ; colorbar() #; show()\n",
    "\n",
    "#\n",
    "rhs          = lh.assemble(ud = udh)\n",
    "apply_essential_bc(S, *equation_h.bc, identity=True)\n",
    "apply_essential_bc(rhs, *equation_h.bc)\n",
    "\n",
    "S            = S.tosparse()\n",
    "rhs          = rhs.toarray()\n",
    "\n",
    "u_ap, status = gmres(S, rhs, tol=1.e-6, maxiter=3000)\n",
    "u_ap         = u_ap.reshape(nbasis)\n",
    "u_ap[:, :]  += un[:, :]\n",
    "\n",
    "plt.clf()\n",
    "nbasis = [W.nbasis for W in Vh.spaces]\n",
    "\n",
    "plot_field_2d(Vh.knots, Vh.degree, u_ap.reshape(nbasis)) ; colorbar() #; show()\n",
    "#plot_field_2d(Vh.knots, Vh.degree, un.reshape(nbasis), vmin=0., vmax=1.) ; colorbar() #; show()\n",
    "#plt.savefig('u.png')\n",
    "udh.coeffs[0:nbasis[0],0:nbasis[1]]  = u_ap[:,:]\n",
    "# Discretize error norms\n",
    "l2norm_h = discretize(l2norm, domain_h, Vh)\n",
    "print('le-error = ', l2norm_h.assemble(u=udh))"
   ]
  },
  {
   "cell_type": "code",
   "execution_count": null,
   "metadata": {},
   "outputs": [],
   "source": []
  }
 ],
 "metadata": {
  "kernelspec": {
   "display_name": "Python 3",
   "language": "python",
   "name": "python3"
  },
  "language_info": {
   "codemirror_mode": {
    "name": "ipython",
    "version": 3
   },
   "file_extension": ".py",
   "mimetype": "text/x-python",
   "name": "python",
   "nbconvert_exporter": "python",
   "pygments_lexer": "ipython3",
   "version": "3.7.6"
  }
 },
 "nbformat": 4,
 "nbformat_minor": 4
}
