{
 "cells": [
  {
   "cell_type": "markdown",
   "metadata": {},
   "source": [
    "## Periodic boundary condition using Isogeometric Analysis\n",
    "\n",
    "#### We consider the simplest minimal model of Poisson equation"
   ]
  },
  {
   "cell_type": "markdown",
   "metadata": {},
   "source": [
    " Let $\\Omega$ be an open set with sufficiently smooth boundary, denoted by , where $d=2$ is the number of spatial dimensions. Then, the problem stated in strong form as :\n",
    "\n",
    "Find $\\phi$, such that\n",
    "$$ \\begin{align*}\n",
    "    \\left\\lbrace\\begin{array}{lll}\n",
    "         -\\nabla \\cdot \\nabla \\phi~~~~~~~~~~~~~=~ f&\\text{ in } \\Omega ,~~~~~~~~~~~(1)\\\\\n",
    "         \\phi ~~~~~~~~~~~~~~~~~~~~~~~~~=~ g&\\text{ on } \\partial\\Omega\\cap\\mathbf{\\tau} ,~~~~~~~~~~~(2)\\\\\n",
    "         \\text{periodic boundary condition} &\\text{ on } \\text{comp}(\\partial\\Omega) ,~~~~~~~~~~~(3)\\\\\n",
    "    \\end{array}\\right.\n",
    "\\end{align*}$$ \n",
    "Where in our application we take $\\Omega=[\\frac{-\\pi}{2},\\frac{\\pi}{2}]\\times[-1,1]$ and $\\tau=\\partial\\Omega\\cap\\{y=-1,1\\}$\n",
    "\n",
    "$$\\mathbf{ ~Lower ~ ~and ~ upper  ~boundaries  ~are ~ periodical ~ boundaries ~ for ~ the  ~unknown.}$$"
   ]
  },
  {
   "cell_type": "markdown",
   "metadata": {},
   "source": [
    "### Formulation variationel\n",
    "\n",
    "$$ \\begin{align*}\n",
    "    \\left\\lbrace\\begin{array}{lll}\n",
    "         \\int_\\Omega \\nabla v \\cdot\\nabla\\phi dx+ \\color{red}0\\int_{\\partial\\Omega-\\tau} v \\cdot\\partial_n\\phi d\\sigma~~~~~~~~~~~~~~~~~ =~ \\int_\\Omega vfdx  &\\text{ for all } v \\in H^1_g(\\Omega),~~~~~~~~~~(15)\\\\\n",
    "    \\end{array}\\right.\n",
    "\\end{align*}$$\n",
    "\n",
    "$\\color{red}0$ : means that we have periodic boundary conditions, then it will be eliminated."
   ]
  },
  {
   "cell_type": "code",
   "execution_count": 22,
   "metadata": {},
   "outputs": [
    {
     "name": "stdout",
     "output_type": "stream",
     "text": [
      "l2-error =  0.050463858506578425\n"
     ]
    }
   ],
   "source": [
    "# ## Abstract Model using SymPDE\n",
    "from sympde.topology.derivatives import dx1, dx2\n",
    "from sympy                       import Tuple\n",
    "\n",
    "from sympy                       import pi, cos, sin, exp, log, symbols, sqrt\n",
    "from sympy.utilities.lambdify    import implemented_function\n",
    "import pytest\n",
    "\n",
    "from sympde.calculus             import grad, dot\n",
    "from sympde.calculus             import laplace\n",
    "from sympde.topology             import ScalarFunctionSpace\n",
    "from sympde.topology             import element_of\n",
    "from sympde.topology             import NormalVector\n",
    "from sympde.topology             import Square\n",
    "from sympde.topology             import Union\n",
    "from sympde.expr                 import BilinearForm, LinearForm, integral\n",
    "from sympde.expr                 import Norm\n",
    "from sympde.expr                 import find, EssentialBC\n",
    "from sympde.expr.expr            import linearize\n",
    "from sympde.core                 import Constant\n",
    "\n",
    "from psydac.fem.basic            import FemField\n",
    "from psydac.api.discretization   import discretize\n",
    "from psydac.api.settings         import PSYDAC_BACKEND_GPYCCEL\n",
    "\n",
    "# needed imports\n",
    "from numpy                       import zeros, ones, linspace, zeros_like, meshgrid\n",
    "from matplotlib.pyplot           import plot, contourf, show, colorbar\n",
    "from matplotlib                  import pyplot as plt\n",
    "\n",
    "import numpy                     as np\n",
    "\n",
    "from simplines                   import plot_field_2d\n",
    "\n",
    "from scipy.sparse.linalg         import gmres\n",
    "\n",
    "# ... \n",
    "def get_boundaries(*args):\n",
    "\n",
    "    if not args:\n",
    "        return ()\n",
    "    else:\n",
    "        assert all(1 <= a <= 4 for a in args)\n",
    "        assert len(set(args)) == len(args)\n",
    "\n",
    "    boundaries = {1: {'axis': 0, 'ext': -1},\n",
    "                  2: {'axis': 0, 'ext':  1},\n",
    "                  3: {'axis': 1, 'ext': -1},\n",
    "                  4: {'axis': 1, 'ext':  1}}\n",
    "\n",
    "    return tuple(boundaries[i] for i in args)\n",
    "\n",
    "# ... abstract model\n",
    "domain            = Square(bounds1=(-0.5*pi,0.5*pi), bounds2=(-1.,1.))\n",
    "x,y               = domain.coordinates\n",
    "\n",
    "#... normal component \n",
    "nn                = NormalVector('nn')\n",
    "\n",
    "#... \n",
    "V                 = ScalarFunctionSpace('V', domain)\n",
    "\n",
    "# ... scalar functions \n",
    "u,v               = [element_of(V, name=i) for i in ['u', 'v']]\n",
    "\n",
    "#  ..... Neumann and Dirichlet boundary conditions\n",
    "dir_boundary_1    = get_boundaries(3)    \n",
    "dir_boundary_2    = get_boundaries(4)\n",
    "# ...\n",
    "B_dirichlet_1     = Union(*[domain.get_boundary(**kw) for kw in dir_boundary_1])    \n",
    "B_dirichlet_2     = Union(*[domain.get_boundary(**kw) for kw in dir_boundary_2])\n",
    "# --- \n",
    "Neumann_boundary  = get_boundaries(1, 2)\n",
    "Neumann_boundary  = Union(*[domain.get_boundary(**kw) for kw in Neumann_boundary])\n",
    "\n",
    "#...............................................................Data\n",
    "degree   = [3,3]         # spline degree\n",
    "ncells   = [64,64]       # number of elements\n",
    "periodic = [True, False] # periodic boundary condition for y = 0.25 and 0.35 \n",
    "#... several tests\n",
    "solution = x**2*sin(5.*pi*y) #+ 1.0*exp(-((x-0.5)**2 + (y-0.5)**2)/0.02)\n",
    "f        = -2.*sin(5.*pi*y)+25*pi**2*x**2*sin(5*pi*y) #- 10000.0*(0.5 - x)**2*exp(-50.0*(x - 0.5)**2 - 50.0*(y - 0.5)**2)- 10000.0*(0.5 - y)**2*exp(-50.0*(x - 0.5)**2 - 50.0*(y - 0.5)**2)+ 200.0*exp(-50.0*(x - 0.5)**2 - 50.0*(y - 0.5)**2)\n",
    "\n",
    "#----------------------------------Poisson equation\n",
    "# Bilinear form or Poisson equation\n",
    "a_p      = BilinearForm((u, v), integral(domain, dot(grad(u), grad(v)) ) )\n",
    "#                       -integral(Neumann_boundary, dot(grad(u), nn) * v) ) periodic boundary conditions\n",
    "\n",
    "# linear form for Poisson equation\n",
    "l_p      = LinearForm(v, integral(domain, f * v))\n",
    "\n",
    "# ... Dirichlet boundary condition for Poisson equation\n",
    "bc_p              = []\n",
    "if B_dirichlet_1: \n",
    "            bc_p += [EssentialBC(u,        solution, B_dirichlet_1)]\n",
    "if B_dirichlet_2:\n",
    "            bc_p += [EssentialBC(u,        solution, B_dirichlet_2)]\n",
    "\n",
    "\n",
    "#+++++++++++++++++++++++++++++++\n",
    "equation = find(u, forall=v, lhs=a_p(u, v), rhs=l_p(v), bc= bc_p)\n",
    "\n",
    "##            -------------- Discretization using Psydac --------------            ##\n",
    "\n",
    "# Create computational domain from topological domain\n",
    "from mpi4py import MPI\n",
    "domain_h = discretize(domain, ncells=ncells)#, comm=MPI.COMM_WORLD)\n",
    "\n",
    "# Discrete spaces\n",
    "Vh       = discretize(V, domain_h, degree=degree, periodic = periodic)\n",
    "#print(Vh.knots)\n",
    "nbasis = [W.nbasis for W in Vh.spaces]\n",
    "\n",
    "# Discretize equation using Dirichlet bc\n",
    "equation_h = discretize(equation, domain_h, [Vh, Vh])\n",
    "\n",
    "# Solve linear system of Poisson\n",
    "u_ph     = equation_h.solve()\n",
    "\n",
    "# Define (abstract) norms\n",
    "error      = u - solution\n",
    "l2norm_up  = Norm(error, domain, kind='l2')\n",
    "\n",
    "# Discretize norms\n",
    "l2norm_uph = discretize(l2norm_up, domain_h, Vh)\n",
    "\n",
    "# ... Norm of electric potential\n",
    "l2normh    = l2norm_uph.assemble(u = u_ph)\n",
    "print( 'l2-error = ', l2normh)"
   ]
  },
  {
   "cell_type": "code",
   "execution_count": 23,
   "metadata": {},
   "outputs": [
    {
     "name": "stdout",
     "output_type": "stream",
     "text": [
      "approximate solution\n"
     ]
    },
    {
     "data": {
      "image/png": "[encoded data removed]",
      "text/plain": [
       "<Figure size 432x288 with 2 Axes>"
      ]
     },
     "metadata": {
      "needs_background": "light"
     },
     "output_type": "display_data"
    },
    {
     "name": "stdout",
     "output_type": "stream",
     "text": [
      "Exact solution\n"
     ]
    },
    {
     "data": {
      "image/png": "[encoded data removed]",
      "text/plain": [
       "<Figure size 432x288 with 2 Axes>"
      ]
     },
     "metadata": {
      "needs_background": "light"
     },
     "output_type": "display_data"
    }
   ],
   "source": [
    "#....-----------------------------------\n",
    "nbpts      = 50\n",
    "I          = linspace(-0.5*np.pi,0.5*np.pi,nbpts)\n",
    "J          = linspace(-1.,  1.,nbpts)\n",
    "X, Y       = meshgrid(I, J)\n",
    "sZ         = np.zeros((len(I),len(J)),float)\n",
    "for i in range(nbpts):\n",
    "    for j in range(nbpts):\n",
    "        sZ[i,j]= u_ph(I[i],J[j])\n",
    "\n",
    "print('approximate solution')\n",
    "\n",
    "contourf(X, Y, sZ.T, cmap='jet')\n",
    "colorbar();show()\n",
    "for i in range(nbpts):\n",
    "    for j in range(nbpts):\n",
    "        sZ[i,j]= solution.subs({x:I[i],y:J[j]})\n",
    "print('Exact solution')\n",
    "contourf(X, Y, sZ.T, cmap='jet')\n",
    "colorbar(); show()"
   ]
  }
 ],
 "metadata": {
  "kernelspec": {
   "display_name": "Python 3",
   "language": "python",
   "name": "python3"
  },
  "language_info": {
   "codemirror_mode": {
    "name": "ipython",
    "version": 3
   },
   "file_extension": ".py",
   "mimetype": "text/x-python",
   "name": "python",
   "nbconvert_exporter": "python",
   "pygments_lexer": "ipython3",
   "version": "3.7.6"
  }
 },
 "nbformat": 4,
 "nbformat_minor": 4
}
